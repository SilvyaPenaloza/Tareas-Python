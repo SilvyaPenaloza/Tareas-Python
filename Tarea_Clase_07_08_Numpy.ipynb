{
  "nbformat": 4,
  "nbformat_minor": 0,
  "metadata": {
    "kernelspec": {
      "display_name": "Python 3",
      "language": "python",
      "name": "python3"
    },
    "language_info": {
      "codemirror_mode": {
        "name": "ipython",
        "version": 3
      },
      "file_extension": ".py",
      "mimetype": "text/x-python",
      "name": "python",
      "nbconvert_exporter": "python",
      "pygments_lexer": "ipython3",
      "version": "3.7.2"
    },
    "colab": {
      "name": "Tarea_Clase_07_08_Numpy.ipynb",
      "provenance": []
    }
  },
  "cells": [
    {
      "cell_type": "markdown",
      "metadata": {
        "id": "DvLVaCK8FN0q"
      },
      "source": [
        "# NumPy y algebra lineal(parte 2) \n",
        "\n",
        "Ya hemos estudiado el objeto básico en álgebra lineal: **el vector**, algunos de sus usos e interpretaciones, así como la forma de trabajar con estos en Python a través de NumPy, funciones matemáticas útiles y comunes entre otras cosas.\n",
        " \n",
        "Además mencionamos el objeto general **Tensor** y su equivalente en NumPy : **np.ndarray**.\n",
        " \n",
        "En esta parte del curso nos enfocamos en otro objeto muy importante en álgebra lineal y en ciencia de datos: **la matriz**.\n",
        " \n",
        "Muchas de las cosas que aprendimos en vectores aplican también a matrices,algunas exactamente igual, algunas con pequeñas variaciones, y algunas otras sí son específicas .De manera similar muchas cosas que aprenderemos en matrices también aplican y son consistentes en el caso mas general: **arreglos multidimensionales(o tensores matemáticamente)** de manera que podemos generalizar mucho de lo aprendido.\n",
        "\n",
        "## ¿Por que estudiamos matrices en ciencia de datos?\n",
        "\n",
        "Similar al caso de vectores, usamos matrices para almacenar y operar en colecciones de datos.\n",
        "\n",
        "Cuando estudiamos previamente vectores , lo\n",
        "s vectores representaban en la mayoría de casos 2 tipos de información:\n",
        "\n",
        "* Una única observación o entidad con múltiples características: Por ejemplo los ejemplos de distribuciones discretas de probabilidad usadas en los ejemplos de entropía,una única observación con múltiples características(la probabilidad de ocurrencia de cada valor).\n",
        "* Múltiples observaciones o entidades, con una sola característica: cuando hicimos el ejemplo de medias móviles teniamos múltiples observaciones o entidades(cada punto de datos) pero cada observación tenia una sola característica.\n",
        "\n",
        "Esto puede bastar en muchos casos, pero para la mayoría de problemas trabajaremos con  muchas observaciones que poseen más de una característica. Por lo cual necesitamos una estructura más general que nos permita hacer esto, la estructura que nos permite hacer esto es lo que conocemos en matemática como **matriz** y en programación comúnmente llamamos **arreglo bi-dimensional**.\n",
        "\n",
        "**nota**: desafortunadamente el término dimension(y su derivado :dimensional) puede llegar a ser ambiguo , por ejemplo  : un vector bi-dimensional es algo completamente diferente a un arreglo bi-dimensional ,el vector bi-dimensional es una colección de 2 elementos mientras que el arreglo bi-dimensional es una estructura tabular que requiere de 2 coordenadas(o indices) para ser accedido.\n",
        "\n",
        "## ¿Que es una matriz?\n",
        "\n",
        "Hay diversas definiciones de matriz, siendo la más común: **un arreglo bidimensional de números**. Algunas otras definiciones desde el punto de vista matemático son:\n",
        " \n",
        "* Conjunto de números distribuidos ORDENADAMENTE de forma rectangular formando filas y columnas.\n",
        "* Tabla de números ORDENADOS.\n",
        "* Colección tabular de elementos distribuidos en filas y columnas.\n",
        " \n",
        "En matemática la definición suele estar orientada e incluso limitada a números(se dice que una matriz es una colección de elementos que pueden ser sumados y multiplicados) ,en programación se extiende un poco esto y podemos trabajar en algunos casos con colecciones rectangulares de otros tipos de objetos , para efectos de ciencia de datos nos enfocamos mayormente también en matrices como:**colecciones de números organizados de manera rectangular(distribuidos en filas y columnas)**.\n",
        " \n",
        "En matemática comúnmente denotamos las matrices con letras mayúsculas, esta es una práctica que a veces adoptamos también en programación.\n",
        "\n",
        "\n",
        "<img src=\"https://ekuatio.com/wp-content/uploads/tipos-de-matrices-12.png\"/>\n",
        "\n",
        "\n",
        "\n",
        "### Dimension o tamaño de una matriz\n",
        "\n",
        "El tamaño o dimensión de una matriz nos indica cuantos elementos esta posee y cómo estos se organizan en filas y columnas, comúnmente denotamos el tamaño o dimensión como:\n",
        "$$ m x n $$\n",
        " \n",
        "* m = número de filas: comúnmente número de observaciones, entidades o eventos\n",
        "* n = número de columnas : número de características de interés o descriptivas de cada elemento.\n",
        "\n",
        "<img src=\"https://upload.wikimedia.org/wikipedia/commons/thumb/b/bb/Matrix.svg/1200px-Matrix.svg.png\">\n",
        "\n",
        "**Nota** : esto no es un estandar y pueden llegar a variar:\n",
        "* encontrarse casos donde la data este organizada por columna siendo m = número de columnas y n = número de filas.\n",
        "* En computer visión aveces se toman las posiciones en filas de abajo hacia arriba.\n",
        "### Ejemplos:\n",
        "\n",
        "* En Machine Learning para datos estructurados comunmente trabajamos con muchas observaciones llamadas \"ejemplos de entrenamiento\" donde cada ejemplo esta caracterizado por múltiples características(llamadas features en ML), para esto usamos una matriz.\n",
        "* En analisis de correlación entre variables podemos almacenar múltiples variables para múltiples observaciones.\n",
        "* En deep learnig los parametros(pesos sinapticos) de una red neuronal  son representados como matrices \n",
        "\n",
        "<img src=\"https://raw.githubusercontent.com/llealgt/Galileo_Python_DS/main/NumPy_algebra_lineal/matriz_34.png\"/>\n",
        "\n",
        "## Matriz como Tensor\n",
        "\n",
        "Tal como ya hemos mencionado, el objeto mas general en algebra lineal es el **tensor** y tanto vectores como matrices son un **tensor** , la característica que determina cuando un tensor es una matriz o un vector es el **rango del tensor**, el rango es un entero que nos indica cuantos valores necesitamos para poder acceder o especificar a un elemento dentro del tensor.\n",
        " \n",
        "* **Escalares**Tensor de rango 0, puesto que son un único elemento numérico y no pertenecen a una colección , no tiene sentido la noción de tener un número indicando su posición en una colección.\n",
        "* **Vectores**Tensor de rango 1, lo conceptualizamos como una lista de elementos por lo tanto necesitamos 1 número para especificar la posición de cierto elemento en la lista.\n",
        "* **Matriz**: tensor de rango 2, pensamos en la matriz como una colección de números organizados de forma  rectangular en filas y columnas por lo tanto para acceder o especificar un elemento de la matriz necesitamos 2 números : 1 para la fila(que comúnmente representamos con \"i\") y otro para la columna(que comúnmente representamos con \"j\") en la que se encuentra cierto elemento.\n",
        "\n",
        "## Representación o interpretación geométrica/gráfica de una matriz\n",
        "\n",
        "Tal como vimos que un vector podía tener una representación geométrica como puntos en el espacio(o flechas apuntando del origen a puntos) una matriz también interpretarse de manera geométrica o gráfica, hablaremos un poco de esto en el futuro :\n",
        "\n",
        "* **Matriz como transformación del espacio(y como función)**\n",
        "\n",
        "<img src=\"https://thumbs.gfycat.com/HealthyPerfectHaddock-max-1mb.gif\">\n",
        "\n",
        "<img src=\"https://thumbs.gfycat.com/SmartNearAmericancrocodile-max-1mb.gif\">\n",
        "\n",
        "## Matrices en NumPy\n",
        "\n",
        "En NumPy las matrices son(de manera similar a los vectores) son objetos del tipo **np.ndarray**, la diferencia es la forma en que estos estan organizados y por lo tanto ciertas características de los mismos. Para una matriz tenemos que:\n",
        " \n",
        "* **ndim**: el rango es igual a 2\n",
        "* **shape** : la forma o tamaño de la matriz es una **tupla de la forma (m,n)** con m siendo el número de filas y $n$ el número de columnas. De manera similar muchas funciones  para crear matrices utilizan como parámetro una tupla para definir la forma en la que será creada."
      ]
    },
    {
      "cell_type": "code",
      "metadata": {
        "id": "pSzSUce2FN0r"
      },
      "source": [
        "## Para poder utilizar numpy debemos importar el paquete, es casi un estandar de la industria importarlo bajo el alias **\"np\"**\n",
        "import numpy as np"
      ],
      "execution_count": 1,
      "outputs": []
    },
    {
      "cell_type": "code",
      "metadata": {
        "id": "LcqTQTevFN0t",
        "colab": {
          "base_uri": "https://localhost:8080/"
        },
        "outputId": "9b38a8d6-a68e-476e-82f7-1be0f5965f9f"
      },
      "source": [
        "matriz_ceros = np.zeros((3,4))\n",
        "tamaño_matriz = matriz_ceros.shape\n",
        "\n",
        "print(\"Rango del tensor:\",matriz_ceros.ndim) #rango del tensor, para matriz es 2\n",
        "print(\"Forma o tamaño:\",tamaño_matriz) # tupla representando el tamaño de la matríz\n",
        "\n",
        "print(\"Matriz de ceros de forma:\",tamaño_matriz)\n",
        "print(\"Filas:\",tamaño_matriz[0])\n",
        "print(\"Columnas:\",tamaño_matriz[1])\n",
        "print(\"Matriz:\")\n",
        "print(matriz_ceros)"
      ],
      "execution_count": 2,
      "outputs": [
        {
          "output_type": "stream",
          "name": "stdout",
          "text": [
            "Rango del tensor: 2\n",
            "Forma o tamaño: (3, 4)\n",
            "Matriz de ceros de forma: (3, 4)\n",
            "Filas: 3\n",
            "Columnas: 4\n",
            "Matriz:\n",
            "[[0. 0. 0. 0.]\n",
            " [0. 0. 0. 0.]\n",
            " [0. 0. 0. 0.]]\n"
          ]
        }
      ]
    },
    {
      "cell_type": "markdown",
      "metadata": {
        "id": "eLs_O-HaFN0w"
      },
      "source": [
        "## Visualización de datos en Python\n",
        " \n",
        "Con el conocimiento que ya poseemos para trabajar con Python y Numpy, y el conocimiento de matrices podemos empezar a estudiar un tema muy importante en ciencia de datos: **visualización de datos**.\n",
        " \n",
        "La visualización de datos es sumamente importante y tiene muchos usos, es una herramienta esencial en la fase de todo proyecto de data science conocida como **\"análisis exploratorio de datos\"**.\n",
        " \n",
        "### Análisis exploratorio de datos\n",
        " \n",
        "El análisis exploratorio de datos , tal y como su nombre indica nos permite explorar, entender, conocer y familiarizarnos con los datos,lo cual es muy recomendable en todo proyecto y se recomienda hacerlo antes de empezar a hacer pruebas de hipótesis, modelado matemático/estadístico o modelado por machine learning o cualquier otra técnica  de ciencia de datos.\n",
        "\n",
        "\n",
        "<img src=\"https://cdn-images-1.medium.com/max/1200/1*vJULpN2xQfyVsvTVW-JSkA.png\">\n",
        "\n",
        "### Otros usos\n",
        "\n",
        "Además del análisis exploratorio de datos, la visualización de los mismos es muy útil y aplicado en muchas otras áreas:\n",
        " \n",
        "* Modelación y simulación: análisis del comportamiento de una variable bajo análisis a través de simulación.\n",
        "\n",
        "<img src=\"https://risk-engineering.org/static/img/large/monte-carlo-VaR.png\">\n",
        "* Curvas de aprendizaje: durante el desarrollo de un proyecto de ML es necesario evaluar el funcionamiento de un modelo de ML y su comportamiento a través del tiempo durante el entrenamiento.\n",
        "\n",
        "<img src=\"https://3qeqpr26caki16dnhd19sv6by6v-wpengine.netdna-ssl.com/wp-content/uploads/2018/10/Line-Plot-of-Train-and-Test-Loss-During-Training-With-Simple-Early-Stopping.png\">\n",
        "* Comparar modelo de ML vs datos reales\n",
        "<img src=\"https://s3.amazonaws.com/stackabuse/media/linear-regression-python-scikit-learn-1.png\">\n",
        "* Visualización de imagenenes en proyectos de vision por computadora.\n",
        "<img src=\"https://encrypted-tbn0.gstatic.com/images?q=tbn:ANd9GcQY4FRGTsV_ugt6DyJmolPHiiaDH3lLCEaGSuh_ZN0NUjrOM_VE7Q\">\n",
        "\n",
        "\n",
        "Existen diversos paquetes para visualizacion de datos en Python,pero el mas popular, usado y conocido en la industria es: \n",
        "#### Matplotlib"
      ]
    },
    {
      "cell_type": "markdown",
      "metadata": {
        "id": "rtWiyWoYFN0w"
      },
      "source": [
        "# Instalar matplotlib desde el jupyter notebook en el ambiente actual de Anaconda\n",
        "# esto puede ser realizado de manera tradicional con linea de comandos o Anaconda Navigator\n",
        "import sys\n",
        "#!conda install --yes --prefix {sys.prefix} matplotlib\n",
        "\n",
        "# ! ejecuta un comando del sistema desde el notebook, el comando ejecutado fue:\n",
        "print(\"Comando ejecutado:conda install --yes --prefix {\"+sys.prefix+\"} matplotlib\")"
      ]
    },
    {
      "cell_type": "code",
      "metadata": {
        "id": "6JvOXw7VFN0x"
      },
      "source": [
        "import matplotlib.pyplot as plt"
      ],
      "execution_count": 3,
      "outputs": []
    },
    {
      "cell_type": "code",
      "metadata": {
        "id": "Q6yn4d9bFN0y",
        "colab": {
          "base_uri": "https://localhost:8080/",
          "height": 294
        },
        "outputId": "46a0d9f2-7b8c-45fe-c5d4-592183a38b8e"
      },
      "source": [
        "x = np.linspace(-2*np.pi,2*np.pi,100)\n",
        "y = np.sin(x)\n",
        "\n",
        "plt.plot(x,y)\n",
        "\n",
        "plt.xlabel('x')\n",
        "plt.ylabel('y')\n",
        "plt.title('Grafica de y = sin(x) ')\n",
        "\n",
        "\n",
        "plt.savefig('sinx.jpg')\n",
        "plt.show()"
      ],
      "execution_count": 4,
      "outputs": [
        {
          "output_type": "display_data",
          "data": {
            "text/plain": [
              "<Figure size 432x288 with 1 Axes>"
            ],
            "image/png": "[encoded data removed]"
          },
          "metadata": {
            "needs_background": "light"
          }
        }
      ]
    },
    {
      "cell_type": "markdown",
      "metadata": {
        "id": "SHiWznz6FN00"
      },
      "source": [
        "#### Matplotlib orientado a objetos\n",
        " \n",
        "El ejemplo anterior provee una forma facil y rapida de visualizar graficas sencillas con matplotlib , pero matplotlib posee un enfoque \"orientado a objetos\" que es más versátil y permite mayor personalización, por lo cual es recomendado salvo casos donde se necesita gráficas sencillas de manera rápida.\n",
        " \n",
        "##### Jerarquía de objetos en matplotlib\n",
        " \n",
        "Al trabajar matplotlib orientado a objetos ,el tipo de objeto base es el tipo **plt.figure()**(https://matplotlib.org/api/_as_gen/matplotlib.pyplot.figure.html) el cual podemos conceptualizar como el canvas sobre el cual agregaremos contenido .\n",
        " \n",
        "Sobre un objeto **plt.figure()** podemos crear uno o muchos objetos tipo **axes.Axes()** (https://matplotlib.org/api/axes_api.html#matplotlib.axes.Axes), una instancia de Axes() corresponde a una gráfica como la vista en el ejemplo anterior, por lo cual agregar a un \"figure\" varios \"Axes\" significa crear una colección de gráficas sobre una misma figura.\n",
        " \n",
        "El siguiente ejemplo genera la misma gráfica que en el caso anterior ,pero usando matplotlib orientado a objetos."
      ]
    },
    {
      "cell_type": "code",
      "metadata": {
        "id": "2EZCElllFN01",
        "colab": {
          "base_uri": "https://localhost:8080/",
          "height": 294
        },
        "outputId": "a4ceec25-0af5-4bdf-c0d2-2cd7014a40b4"
      },
      "source": [
        "%matplotlib inline\n",
        "fig = plt.figure()\n",
        "ax = fig.add_subplot(1,1,1) #creamos un canvas con  1 fila, 1 columna y devolvemos una referencia a la primera grafica\n",
        "#ax = fig.add_subplot(111) \n",
        "\n",
        "ax.plot(x,y)\n",
        "\n",
        "ax.set_xlabel('x')\n",
        "ax.set_ylabel('y')\n",
        "ax.set_title('Grafica de y = sin(x)')\n",
        "\n",
        "plt.show()"
      ],
      "execution_count": 5,
      "outputs": [
        {
          "output_type": "display_data",
          "data": {
            "text/plain": [
              "<Figure size 432x288 with 1 Axes>"
            ],
            "image/png": "[encoded data removed]"
          },
          "metadata": {
            "needs_background": "light"
          }
        }
      ]
    },
    {
      "cell_type": "markdown",
      "metadata": {
        "id": "7nsFQBr7FN03"
      },
      "source": [
        "El siguiente ejemplo consiste en un figure con 4 graficas(Axes)"
      ]
    },
    {
      "cell_type": "code",
      "metadata": {
        "id": "WEMqHy9LFN03",
        "colab": {
          "base_uri": "https://localhost:8080/",
          "height": 264
        },
        "outputId": "9a8bc077-cad8-4059-a993-951d6076d562"
      },
      "source": [
        "fig  = plt.figure()\n",
        "\n",
        "# el figure tendra 4 graficas organizadas en 2 filas y 2 columnas\n",
        "ax1 = fig.add_subplot(2,2,1) #221\n",
        "ax2 = fig.add_subplot(2,2,2) #222\n",
        "ax3 = fig.add_subplot(2,2,3)  # 223\n",
        "ax4 = fig.add_subplot(2,2,4) # 224\n",
        "\n",
        "ax1.plot(x,x)\n",
        "ax2.plot(x,np.sin(x))\n",
        "ax3.plot(x,np.cos(x))\n",
        "ax4.plot(x,np.exp(x))\n",
        "\n",
        "plt.show()"
      ],
      "execution_count": 6,
      "outputs": [
        {
          "output_type": "display_data",
          "data": {
            "text/plain": [
              "<Figure size 432x288 with 4 Axes>"
            ],
            "image/png": "[encoded data removed]"
          },
          "metadata": {
            "needs_background": "light"
          }
        }
      ]
    },
    {
      "cell_type": "markdown",
      "metadata": {
        "id": "CCHQvZF9FN06"
      },
      "source": [
        "#### Estilo de curvas\n",
        " \n",
        "Matplotlib provee múltiples formas de dar estilo a las gráficas y es ampliamente configurable y adaptable,  por esta misma razón la documentación es amplia por lo cual se recomienda consultarla como referencia constantemente al estar trabajando con visualización de datos.\n",
        " \n",
        "Algunas de las características  del estilo de curvas que mas comunmente se configuran y personalizan son:\n",
        " \n",
        "* Color: comúnmente se trabaja con la primera letra ,por ejemplo:\n",
        "   * r = rojo\n",
        "   * b = azul(color default)\n",
        "   * g = verde\n",
        "   * y = amarillo\n",
        " \n",
        "* Estilo de linea: usado para definir si la gráfica consistirá en  lineas solidas,  o discontinuas, algunos tipos son:\n",
        "   * -  :linea solida, el tipo default\n",
        "   * -- :linea discontinua\n",
        "   * -. :curva discontinua formada por líneas y puntos.\n",
        "* Grosor de linea"
      ]
    },
    {
      "cell_type": "code",
      "metadata": {
        "id": "vcERgZF-FN07",
        "colab": {
          "base_uri": "https://localhost:8080/",
          "height": 294
        },
        "outputId": "8b6ad051-be08-4d1a-ca09-45a68705534f"
      },
      "source": [
        "fig = plt.figure()\n",
        "ax = fig.add_subplot(1,1,1) #creamos un canvas con  1 fila, 1 columna y devolvemos una referencia a la primera grafica\n",
        "#ax = fig.add_subplot(111) \n",
        "\n",
        "ax.plot(x, np.exp(x) ,color=\"g\") # tambien se pudo usar \"green\" en lugar de el abreviado \"g\"\n",
        "\n",
        "ax.set_xlabel('x')\n",
        "ax.set_ylabel('y')\n",
        "ax.set_title('Grafica de y = exp(x)')\n",
        "\n",
        "plt.show()"
      ],
      "execution_count": 7,
      "outputs": [
        {
          "output_type": "display_data",
          "data": {
            "text/plain": [
              "<Figure size 432x288 with 1 Axes>"
            ],
            "image/png": "[encoded data removed]"
          },
          "metadata": {
            "needs_background": "light"
          }
        }
      ]
    },
    {
      "cell_type": "markdown",
      "metadata": {
        "id": "KrxR6GMlFN08"
      },
      "source": [
        "La forma mas comun de trabajar con el estilo de curvas es crear un \"string\" con la configuración deseada, por ejemplo el string \"r-.\" produce luna gráfica roja con una linea que consiste en -. en cada punto."
      ]
    },
    {
      "cell_type": "code",
      "metadata": {
        "id": "0iEYl-JXFN09",
        "colab": {
          "base_uri": "https://localhost:8080/",
          "height": 294
        },
        "outputId": "d9b53929-b909-4d67-cb7e-70d6ff5fc001"
      },
      "source": [
        "fig = plt.figure()\n",
        "ax = fig.add_subplot(1,1,1) #creamos un canvas con  1 fila, 1 columna y devolvemos una referencia a la primera grafica\n",
        "#ax = fig.add_subplot(111) \n",
        "\n",
        "ax.plot(x, np.exp(x) ,\"r-.\") \n",
        "\n",
        "ax.set_xlabel('x')\n",
        "ax.set_ylabel('y')\n",
        "ax.set_title('Grafica de y = exp(x)')\n",
        "\n",
        "plt.show()"
      ],
      "execution_count": 8,
      "outputs": [
        {
          "output_type": "display_data",
          "data": {
            "text/plain": [
              "<Figure size 432x288 with 1 Axes>"
            ],
            "image/png": "[encoded data removed]"
          },
          "metadata": {
            "needs_background": "light"
          }
        }
      ]
    },
    {
      "cell_type": "markdown",
      "metadata": {
        "id": "0R8b0aMZFN0-"
      },
      "source": [
        "Podemos cambiar el grosor de linea agregando un parametro adicional linewidth o lw:"
      ]
    },
    {
      "cell_type": "code",
      "metadata": {
        "id": "kC7CwGPeFN0_",
        "colab": {
          "base_uri": "https://localhost:8080/",
          "height": 294
        },
        "outputId": "d11729f5-c83c-4f28-83f0-c42ada9a2736"
      },
      "source": [
        "fig = plt.figure()\n",
        "ax = fig.add_subplot(1,1,1) #creamos un canvas con  1 fila, 1 columna y devolvemos una referencia a la primera grafica\n",
        "#ax = fig.add_subplot(111) \n",
        "\n",
        "ax.plot(x, np.exp(x) ,\"y--\",linewidth=4)  #\n",
        "#ax.plot(x, np.exp(x) ,\"y:\",lw=4) \n",
        "\n",
        "ax.set_xlabel('x')\n",
        "ax.set_ylabel('y')\n",
        "ax.set_title('Grafica de y = exp(x)')\n",
        "\n",
        "plt.show()"
      ],
      "execution_count": 9,
      "outputs": [
        {
          "output_type": "display_data",
          "data": {
            "text/plain": [
              "<Figure size 432x288 with 1 Axes>"
            ],
            "image/png": "[encoded data removed]"
          },
          "metadata": {
            "needs_background": "light"
          }
        }
      ]
    },
    {
      "cell_type": "code",
      "metadata": {
        "id": "1ry_MPieFN1A",
        "colab": {
          "base_uri": "https://localhost:8080/",
          "height": 294
        },
        "outputId": "08063a81-35a6-4c38-ebba-e2e9f9182a28"
      },
      "source": [
        "fig = plt.figure()\n",
        "ax = fig.add_subplot(1,1,1) #creamos un canvas con  1 fila, 1 columna y devolvemos una referencia a la primera grafica\n",
        "#ax = fig.add_subplot(111) \n",
        "\n",
        "ax.plot(x, np.exp(x) ,\"m--\",linewidth=2)  #\n",
        "#ax.plot(x, np.exp(x) ,\"y:\",lw=4) \n",
        "\n",
        "ax.set_xlabel('x')\n",
        "ax.set_ylabel('y')\n",
        "ax.set_title('Grafica de y = exp(x)')\n",
        "\n",
        "plt.show()"
      ],
      "execution_count": 10,
      "outputs": [
        {
          "output_type": "display_data",
          "data": {
            "text/plain": [
              "<Figure size 432x288 with 1 Axes>"
            ],
            "image/png": "[encoded data removed]"
          },
          "metadata": {
            "needs_background": "light"
          }
        }
      ]
    },
    {
      "cell_type": "markdown",
      "metadata": {
        "id": "DfS6w8U1FN1C"
      },
      "source": [
        "#### Scatterplots\n",
        "\n",
        "En todos los ejemplos anteriores hemos usado la función \"plot\", esta es común para graficar funciones matemáticas y en casos donde necesitamos que  todos los puntos en la gráfica estén conectados, en casos donde deseamos graficar únicamente los datos sin líneas que conecten punto con punto, algo muy común en data science cuando se poseen datos pero no se conoce el modelo o función matemática que los relaciona(por ejemplo en la fase de análisis exploratorio), para eso usamos la función **\"scatter\"**"
      ]
    },
    {
      "cell_type": "markdown",
      "metadata": {
        "id": "Hi6ZQIl7asWz"
      },
      "source": [
        "```\n",
        "import numpy as np\n",
        "\n",
        "a = np.array([1,2,3,4])\n",
        "\n",
        "print(a.ndim)\n",
        "print(len(a))\n",
        "print(a.shape)\n",
        "```"
      ]
    },
    {
      "cell_type": "code",
      "metadata": {
        "id": "y0G-0CkvFN1C",
        "colab": {
          "base_uri": "https://localhost:8080/",
          "height": 0
        },
        "outputId": "7d035988-5498-4f9f-d075-f98069802524"
      },
      "source": [
        "x = np.array([1,2,3,4,5])\n",
        "y = np.array([2.6,3.9,6.25,7.6,11])\n",
        "\n",
        "fig = plt.figure()\n",
        "ax = fig.add_subplot(1,1,1) #creamos un canvas con  1 fila, 1 columna y devolvemos una referencia a la primera grafica\n",
        "#ax = fig.add_subplot(111) \n",
        "\n",
        "ax.scatter(x, y,marker=\"\",color=\"g\")  # experimentar con los siguientes markers o', 'v', '^', '<', '>', '8', 's', 'p', '*', 'h', 'H', 'D', 'd', 'P', 'X'#\n",
        "#ax.scatter(x, y,color=\"g\")  # experimentar con los siguientes markers o', 'v', '^', '<', '>', '8', 's', 'p', '*', 'h', 'H', 'D', 'd', 'P', 'X'\n",
        "\n",
        "ax.set_xlabel('x')\n",
        "ax.set_ylabel('y')\n",
        "ax.set_title('Scatterplot python')\n",
        "\n",
        "plt.show()"
      ],
      "execution_count": 11,
      "outputs": [
        {
          "output_type": "display_data",
          "data": {
            "text/plain": [
              "<Figure size 432x288 with 1 Axes>"
            ],
            "image/png": "[encoded data removed]"
          },
          "metadata": {
            "needs_background": "light"
          }
        }
      ]
    },
    {
      "cell_type": "code",
      "metadata": {
        "colab": {
          "base_uri": "https://localhost:8080/",
          "height": 0
        },
        "id": "_ecRmPxY0QHZ",
        "outputId": "d493d169-a3c7-44d4-c350-e5760a020998"
      },
      "source": [
        "x = np.array([1,2,3,4,5])\n",
        "y = np.array([2.6,3.9,6.25,7.6,11])\n",
        "\n",
        "fig = plt.figure()\n",
        "ax = fig.add_subplot(1,1,1) #creamos un canvas con  1 fila, 1 columna y devolvemos una referencia a la primera grafica\n",
        "#ax = fig.add_subplot(111) \n",
        "\n",
        "ax.scatter(x, y,marker=\"*\",color=\"g\")  # experimentar con los siguientes markers o', 'v', '^', '<', '>', '8', 's', 'p', '*', 'h', 'H', 'D', 'd', 'P', 'X'#\n",
        "#ax.scatter(x, y,color=\"g\")  # experimentar con los siguientes markers o', 'v', '^', '<', '>', '8', 's', 'p', '*', 'h', 'H', 'D', 'd', 'P', 'X'\n",
        "\n",
        "ax.set_xlabel('x')\n",
        "ax.set_ylabel('y')\n",
        "ax.set_title('Scatterplot python')\n",
        "\n",
        "plt.show()"
      ],
      "execution_count": 12,
      "outputs": [
        {
          "output_type": "display_data",
          "data": {
            "text/plain": [
              "<Figure size 432x288 with 1 Axes>"
            ],
            "image/png": "[encoded data removed]"
          },
          "metadata": {
            "needs_background": "light"
          }
        }
      ]
    },
    {
      "cell_type": "markdown",
      "metadata": {
        "id": "TB3wzDi5FN1P"
      },
      "source": [
        "### Constructores de matrices\n",
        "\n",
        "NumPy provee diversas funciones para crear matrices , algunas de las cuales ya vimos cuando estudiamos vectores , la diferencia consiste en que ahora ya no usamos un número para indicar el tamaño de un vector, si no una **tupla** de 2 elementos: (m,n) . Algunas de las funciones  que aplican tanto a vectores como a matrices son:\n",
        "\n",
        "* np.array: crear una matriz a partir de una lista de listas: cada fila es una sublista\n",
        "* np.zeros: crear una matriz de ceros\n",
        "* np.ones: crear una matriz de unos\n",
        "* np.empty: crear una matriz sin importarnos sus valores\n",
        "* np.full: crear una matriz  con cierto valor\n",
        "* np.copy: crea un clon o copia de cierta matriz\n",
        "\n",
        "Algunas funciones específicas de matrices son:\n",
        "\n",
        "* np.matrix: resultado casi idéntico a la función más general np.array, pero posee algunas propiedades adicionales específicas de listas, por ejemplo notación sencilla para inversas de matrices.\n",
        "* np.eye: crear una matriz con 1s en su diagonal principal y ceros en el resto\n",
        "* np.identity : crear una matriz identidad\n",
        "\n",
        "Algunas funciones que solo aplican a vectores y no a matrices son:\n",
        "\n",
        "* np.arange\n",
        "* np.linspace\n",
        "\n",
        "Existen otras pero estas son posiblemente las mas comunes. Puedes consultar las otras disponibles en: https://docs.scipy.org/doc/numpy/reference/routines.array-creation.html\n",
        "\n",
        "**Ejercicio**: Investigar y ejemplificar diferencias entre np.array y np.matrix"
      ]
    },
    {
      "cell_type": "markdown",
      "source": [
        "### Diferencias entre np.array y np.matrix\n",
        "\n",
        "Las matrices de numpy, (np.matrix), son matrices unicamente de dos dimensiones, mientras que las matrices array (np.arrays) son matrices que pueden tener n dimensiones.  \n",
        "\n",
        "Los objetos np.matrix son una subclase de ndarray, es decir que heredan todos los atributos y metodos de ndarrays.\n",
        "\n",
        "Una desventaja de usar el tipo de matriz np.matrix, es que para realizar la multiplicación de matrices se debe utilizar el producto punto en lugar del operador * para multiplicar, por lo que se debe tener cuidado con el tipo de matriz que se este utilizando para evitar tener resultados no esperados.\n",
        "\n",
        "El operador ** tambien se comporta diferente para np.array y np.matrix, en el primero devuelve una matriz con cada elemento elevado a un valor, mientras que para np.matrix devuelve el producto de la matriz por la matriz.\n",
        "\n",
        "Una ventaja de las matrices np.matrix, es que tienen una notación facil de entender para la multiplicación de matrices ya que se utiliza el operador de multiplicacion *."
      ],
      "metadata": {
        "id": "5AV6WItJ12n0"
      }
    },
    {
      "cell_type": "code",
      "source": [
        "#Por ejemplo:\n",
        "\n",
        "a=np.matrix([[-1,2],[-2,0]])\n",
        "b=np.matrix([[2,4],[1,2]])\n",
        "print(a)\n",
        "print(b)\n",
        "print(\"multiplicación de matrix:\\n\",a*b)  #multiplicación de matrices\n",
        "\n",
        "c=np.array([[-1,2],[-2,0]])\n",
        "d=np.array([[2,4],[1,2]])\n",
        "print(\"multipliación array:\\n\", c*d)  #la multiplicación de np.arrays no es igual a la multiplicación de matrices\n",
        "print(\"multiplicación de arrays con dot para que sea multiplicacion entre matrices\\n\",np.dot(c,d)) # se debe utilizar el producto punto para obtener el mismo resultado que equivale a la multiplicación de matrices\n",
        "\n",
        "print(\"Operacion ** con arrays \\n\",a**2)  #la operación ** tambien tiene resultados diferentes para arrays y para matrix\n",
        "print(\"Operacion ** con matrix \\n\",c**2)\n"
      ],
      "metadata": {
        "colab": {
          "base_uri": "https://localhost:8080/"
        },
        "id": "gEXErpVc6COi",
        "outputId": "9d522f02-d518-4de8-d47a-7b709ed44ab6"
      },
      "execution_count": 13,
      "outputs": [
        {
          "output_type": "stream",
          "name": "stdout",
          "text": [
            "[[-1  2]\n",
            " [-2  0]]\n",
            "[[2 4]\n",
            " [1 2]]\n",
            "multiplicación de matrix:\n",
            " [[ 0  0]\n",
            " [-4 -8]]\n",
            "multipliación array:\n",
            " [[-2  8]\n",
            " [-2  0]]\n",
            "multiplicación de arrays con dot para que sea multiplicacion entre matrices\n",
            " [[ 0  0]\n",
            " [-4 -8]]\n",
            "Operacion ** con arrays \n",
            " [[-3 -2]\n",
            " [ 2 -4]]\n",
            "Operacion ** con matrix \n",
            " [[1 4]\n",
            " [4 0]]\n"
          ]
        }
      ]
    },
    {
      "cell_type": "code",
      "metadata": {
        "id": "TtRsj2SyFN1P",
        "colab": {
          "base_uri": "https://localhost:8080/"
        },
        "outputId": "1cbc163c-bb59-4a50-b5ff-05e042a453e4"
      },
      "source": [
        "matriz_1 = np.matrix([[-1,2,3],\n",
        "                      [-2,0,1],\n",
        "                      [0,-1,-1]])\n",
        "\n",
        "tamaño_matriz = matriz_1.shape\n",
        "\n",
        "print(\"Rango del tensor:\",matriz_1.ndim) #rango del tensor, para matriz es 2\n",
        "print(\"Forma o tamaño:\",tamaño_matriz) # tupla representando el tamaño de la matríz\n",
        "\n",
        "print(\"Matriz de ceros de forma:\",tamaño_matriz)\n",
        "print(\"Filas:\",tamaño_matriz[0])\n",
        "print(\"Columnas:\",tamaño_matriz[1])\n",
        "print(\"Matriz:\")\n",
        "print(matriz_1)\n",
        "print(\"Matriz Inversa:\")\n",
        "print(matriz_1.I)"
      ],
      "execution_count": 14,
      "outputs": [
        {
          "output_type": "stream",
          "name": "stdout",
          "text": [
            "Rango del tensor: 2\n",
            "Forma o tamaño: (3, 3)\n",
            "Matriz de ceros de forma: (3, 3)\n",
            "Filas: 3\n",
            "Columnas: 3\n",
            "Matriz:\n",
            "[[-1  2  3]\n",
            " [-2  0  1]\n",
            " [ 0 -1 -1]]\n",
            "Matriz Inversa:\n",
            "[[ 1. -1.  2.]\n",
            " [-2.  1. -5.]\n",
            " [ 2. -1.  4.]]\n"
          ]
        }
      ]
    },
    {
      "cell_type": "code",
      "metadata": {
        "id": "618koC7SFN1R",
        "colab": {
          "base_uri": "https://localhost:8080/"
        },
        "outputId": "80703d03-a6ce-4bfe-9a64-a82af43ffc61"
      },
      "source": [
        "matriz_vacia = np.empty((2,3))\n",
        "\n",
        "tamaño_matriz = matriz_vacia.shape\n",
        "\n",
        "print(\"Rango del tensor:\",matriz_vacia.ndim) #rango del tensor, para matriz es 2\n",
        "print(\"Forma o tamaño:\",tamaño_matriz) # tupla representando el tamaño de la matríz\n",
        "\n",
        "print(\"Matriz de ceros de forma:\",tamaño_matriz)\n",
        "print(\"Filas:\",tamaño_matriz[0])\n",
        "print(\"Columnas:\",tamaño_matriz[1])\n",
        "print(\"Matriz:\")\n",
        "print(matriz_vacia)"
      ],
      "execution_count": 15,
      "outputs": [
        {
          "output_type": "stream",
          "name": "stdout",
          "text": [
            "Rango del tensor: 2\n",
            "Forma o tamaño: (2, 3)\n",
            "Matriz de ceros de forma: (2, 3)\n",
            "Filas: 2\n",
            "Columnas: 3\n",
            "Matriz:\n",
            "[[ 2.  4.  6.]\n",
            " [ 8. 10. 12.]]\n"
          ]
        }
      ]
    },
    {
      "cell_type": "code",
      "metadata": {
        "id": "n6bknNjkFN1S",
        "colab": {
          "base_uri": "https://localhost:8080/"
        },
        "outputId": "ce3e773d-a43a-44a8-bd5f-d218a04ad05d"
      },
      "source": [
        "matriz_ochos = np.full((4,5),8)\n",
        "\n",
        "tamaño_matriz = matriz_ochos.shape\n",
        "\n",
        "print(\"Rango del tensor:\",matriz_ochos.ndim) #rango del tensor, para matriz es 2\n",
        "print(\"Forma o tamaño:\",tamaño_matriz) # tupla representando el tamaño de la matríz\n",
        "\n",
        "print(\"Matriz de ceros de forma:\",tamaño_matriz)\n",
        "print(\"Filas:\",tamaño_matriz[0])\n",
        "print(\"Columnas:\",tamaño_matriz[1])\n",
        "print(\"Matriz:\")\n",
        "print(matriz_ochos)"
      ],
      "execution_count": 16,
      "outputs": [
        {
          "output_type": "stream",
          "name": "stdout",
          "text": [
            "Rango del tensor: 2\n",
            "Forma o tamaño: (4, 5)\n",
            "Matriz de ceros de forma: (4, 5)\n",
            "Filas: 4\n",
            "Columnas: 5\n",
            "Matriz:\n",
            "[[8 8 8 8 8]\n",
            " [8 8 8 8 8]\n",
            " [8 8 8 8 8]\n",
            " [8 8 8 8 8]]\n"
          ]
        }
      ]
    },
    {
      "cell_type": "code",
      "metadata": {
        "id": "uCC-DCqkFN1X",
        "colab": {
          "base_uri": "https://localhost:8080/"
        },
        "outputId": "beb1ba88-7b07-48e1-e101-a01594511484"
      },
      "source": [
        "np.empty(4)  # el valor varia, experimentemos cambiando el tipo con ndtype = <tipo>"
      ],
      "execution_count": 17,
      "outputs": [
        {
          "output_type": "execute_result",
          "data": {
            "text/plain": [
              "array([5.e-324, 2.e-323, 2.e-323, 0.e+000])"
            ]
          },
          "metadata": {},
          "execution_count": 17
        }
      ]
    },
    {
      "cell_type": "code",
      "metadata": {
        "id": "vJy6ASQUFN1Z",
        "colab": {
          "base_uri": "https://localhost:8080/"
        },
        "outputId": "f89b1222-b920-4c43-ded3-f048ac96c36d"
      },
      "source": [
        "replica_matriz_ochos = np.copy(matriz_ochos)\n",
        "\n",
        "print(replica_matriz_ochos)"
      ],
      "execution_count": 18,
      "outputs": [
        {
          "output_type": "stream",
          "name": "stdout",
          "text": [
            "[[8 8 8 8 8]\n",
            " [8 8 8 8 8]\n",
            " [8 8 8 8 8]\n",
            " [8 8 8 8 8]]\n"
          ]
        }
      ]
    },
    {
      "cell_type": "markdown",
      "metadata": {
        "id": "psQCZDfQFN1a"
      },
      "source": [
        "**Construir matriz como otra matriz**\n",
        "\n",
        "Similar al caso de vectores, existen algunas funciones que nos permiten crear matrices \"como\" otras matrices, es decir de la misma forma pero con posibles diferentes valores:\n"
      ]
    },
    {
      "cell_type": "code",
      "metadata": {
        "id": "mjvyuDeZFN1b",
        "colab": {
          "base_uri": "https://localhost:8080/"
        },
        "outputId": "752f85a6-d9d7-4f1b-bea2-5d39c9f67f8c"
      },
      "source": [
        "matriz_nueves = np.full((4,4),9)\n",
        "\n",
        "ceros = np.zeros_like(matriz_nueves) # np.zeros(matriz_nueves.shape)\n",
        "unos = np.ones_like(matriz_nueves)\n",
        "vacio = np.empty_like(matriz_nueves)\n",
        "\n",
        "print(matriz_nueves)\n",
        "print(ceros)\n",
        "print(unos)\n",
        "print(vacio)"
      ],
      "execution_count": 19,
      "outputs": [
        {
          "output_type": "stream",
          "name": "stdout",
          "text": [
            "[[9 9 9 9]\n",
            " [9 9 9 9]\n",
            " [9 9 9 9]\n",
            " [9 9 9 9]]\n",
            "[[0 0 0 0]\n",
            " [0 0 0 0]\n",
            " [0 0 0 0]\n",
            " [0 0 0 0]]\n",
            "[[1 1 1 1]\n",
            " [1 1 1 1]\n",
            " [1 1 1 1]\n",
            " [1 1 1 1]]\n",
            "[[     94888813967104                  77                   0\n",
            "                    0]\n",
            " [                  0 8319683848551211643 3180222411935070754\n",
            "  8391722768137527840]\n",
            " [7959390389040738153 2459014003229860468 8104338990068757365\n",
            "  8317708060499076466]\n",
            " [2459014313992534562 2478212826149773680        538437165114\n",
            "                  579]]\n"
          ]
        }
      ]
    },
    {
      "cell_type": "markdown",
      "metadata": {
        "id": "TUT45lpnFN1c"
      },
      "source": [
        "En otros casos algunas funciones tambien devuelven un array  A de la misma forma de otro B pero con el resultado de aplicar alguna función a este, por ejemplo, el siguiente caso devuelve un nuevo vector con la forma de un vector \"x\" resultado de calcular el seno trigonoḿetrico sobre cada uno de sus elementos.:"
      ]
    },
    {
      "cell_type": "code",
      "metadata": {
        "id": "Dxvom1H9FN1d",
        "colab": {
          "base_uri": "https://localhost:8080/"
        },
        "outputId": "dd2f5502-0b4a-4912-819e-9696d572dd46"
      },
      "source": [
        "print(np.sin(ceros))\n",
        "print(np.sin(unos))\n",
        "print(np.exp(unos))"
      ],
      "execution_count": 20,
      "outputs": [
        {
          "output_type": "stream",
          "name": "stdout",
          "text": [
            "[[0. 0. 0. 0.]\n",
            " [0. 0. 0. 0.]\n",
            " [0. 0. 0. 0.]\n",
            " [0. 0. 0. 0.]]\n",
            "[[0.84147098 0.84147098 0.84147098 0.84147098]\n",
            " [0.84147098 0.84147098 0.84147098 0.84147098]\n",
            " [0.84147098 0.84147098 0.84147098 0.84147098]\n",
            " [0.84147098 0.84147098 0.84147098 0.84147098]]\n",
            "[[2.71828183 2.71828183 2.71828183 2.71828183]\n",
            " [2.71828183 2.71828183 2.71828183 2.71828183]\n",
            " [2.71828183 2.71828183 2.71828183 2.71828183]\n",
            " [2.71828183 2.71828183 2.71828183 2.71828183]]\n"
          ]
        }
      ]
    },
    {
      "cell_type": "markdown",
      "metadata": {
        "id": "RXJ-1PyxFN1e"
      },
      "source": [
        "**Construir un grid** \n",
        "\n",
        "En algunos casos es útil y/o necesario construir un \"grid\" que representa las coordenadas en el plano x,y que sobre las que luego evaluaremos cierta función esto es usado por ejemplo en machine learning para buscar hiper-parametros o visualizar la función de costo respecto de una linea recta respecto de sus parametros.\n",
        "\n",
        "Para el siguiente ejemplo buscamos crear la matriz que contiene el grid de coordenadas para la función:\n",
        "\n",
        "$$z = x^{2} + y^{2}$$\n",
        "\n",
        "<img src=\"http://3.bp.blogspot.com/-sxwhjwdjdao/UW2GAHeFbbI/AAAAAAAAAas/nu2PqSLDHF0/s1600/g4.jpg\">\n",
        "\n"
      ]
    },
    {
      "cell_type": "code",
      "metadata": {
        "id": "rO5ErgfJFN1f",
        "colab": {
          "base_uri": "https://localhost:8080/"
        },
        "outputId": "691012e7-5d6a-428f-f737-4bec78bc7c25"
      },
      "source": [
        "xv = np.linspace(-10,10,50)\n",
        "yv = np.linspace(-10,10,50)\n",
        "\n",
        "# creamos el grid con las coordenadas en el plano x,y\n",
        "xx,yy = np.meshgrid(xv,yv)\n",
        "\n",
        "# calculamos el valor de evaluar la función z = f(x,y) sobre las coordenadas en el plano\n",
        "z = xx**2 + yy**2\n",
        "\n",
        "# imprimimos la matriz resultado de calcular f(x,y), \n",
        "#cuando estudiemos visualización de datos esta matriz sería graficada\n",
        "print(z)"
      ],
      "execution_count": 21,
      "outputs": [
        {
          "output_type": "stream",
          "name": "stdout",
          "text": [
            "[[200.         192.00333195 184.33985839 ... 184.33985839 192.00333195\n",
            "  200.        ]\n",
            " [192.00333195 184.00666389 176.34319034 ... 176.34319034 184.00666389\n",
            "  192.00333195]\n",
            " [184.33985839 176.34319034 168.67971678 ... 168.67971678 176.34319034\n",
            "  184.33985839]\n",
            " ...\n",
            " [184.33985839 176.34319034 168.67971678 ... 168.67971678 176.34319034\n",
            "  184.33985839]\n",
            " [192.00333195 184.00666389 176.34319034 ... 176.34319034 184.00666389\n",
            "  192.00333195]\n",
            " [200.         192.00333195 184.33985839 ... 184.33985839 192.00333195\n",
            "  200.        ]]\n"
          ]
        }
      ]
    },
    {
      "cell_type": "code",
      "metadata": {
        "id": "bl7bZd7AFN1g",
        "colab": {
          "base_uri": "https://localhost:8080/",
          "height": 0
        },
        "outputId": "a015af0f-997a-48ca-aeb4-e042dbbcad63"
      },
      "source": [
        "plt.contourf(xx,yy,z)\n",
        "plt.show()"
      ],
      "execution_count": 22,
      "outputs": [
        {
          "output_type": "display_data",
          "data": {
            "text/plain": [
              "<Figure size 432x288 with 1 Axes>"
            ],
            "image/png": "[encoded data removed]"
          },
          "metadata": {
            "needs_background": "light"
          }
        }
      ]
    },
    {
      "cell_type": "markdown",
      "metadata": {
        "id": "n4JW-pVdFN1i"
      },
      "source": [
        "**Construir matriz luego de redimensionar otro Tensor**\n",
        "\n",
        "En muchos casos necesitamos crear una matriz luego de redimensionar otro Tensor(un vector u otra matriz),es decir cambiar su forma, esto es algo común en DS y lo logramos a partir de la función **np.reshape**"
      ]
    },
    {
      "cell_type": "code",
      "metadata": {
        "id": "n6WuKjfPFN1i",
        "colab": {
          "base_uri": "https://localhost:8080/"
        },
        "outputId": "76153e48-a48e-4580-fb9a-0d38eb36cf6d"
      },
      "source": [
        "vector = np.arange(10)\n",
        "\n",
        "matriz = np.reshape(vector,(2,5))\n",
        "\n",
        "print(\"Vector:\",vector)\n",
        "print(\"Matriz:\")\n",
        "print(matriz)"
      ],
      "execution_count": 23,
      "outputs": [
        {
          "output_type": "stream",
          "name": "stdout",
          "text": [
            "Vector: [0 1 2 3 4 5 6 7 8 9]\n",
            "Matriz:\n",
            "[[0 1 2 3 4]\n",
            " [5 6 7 8 9]]\n"
          ]
        }
      ]
    },
    {
      "cell_type": "code",
      "metadata": {
        "id": "YW3KQTmYFN1k",
        "colab": {
          "base_uri": "https://localhost:8080/"
        },
        "outputId": "836b8e38-69b0-4aaf-e6ad-0c5beb5e02bb"
      },
      "source": [
        "vector = np.arange(10)\n",
        "\n",
        "matriz = np.reshape(vector,(5,2))\n",
        "\n",
        "print(\"Vector:\",vector)\n",
        "print(\"Matriz:\")\n",
        "print(matriz)"
      ],
      "execution_count": 24,
      "outputs": [
        {
          "output_type": "stream",
          "name": "stdout",
          "text": [
            "Vector: [0 1 2 3 4 5 6 7 8 9]\n",
            "Matriz:\n",
            "[[0 1]\n",
            " [2 3]\n",
            " [4 5]\n",
            " [6 7]\n",
            " [8 9]]\n"
          ]
        }
      ]
    },
    {
      "cell_type": "code",
      "metadata": {
        "id": "NnLYZKGmFN1l",
        "colab": {
          "base_uri": "https://localhost:8080/"
        },
        "outputId": "ed013c67-5e85-47d9-a5d9-265e03afe959"
      },
      "source": [
        "matriz = np.reshape(np.arange(20),(5,4))\n",
        "\n",
        "print(matriz)"
      ],
      "execution_count": 25,
      "outputs": [
        {
          "output_type": "stream",
          "name": "stdout",
          "text": [
            "[[ 0  1  2  3]\n",
            " [ 4  5  6  7]\n",
            " [ 8  9 10 11]\n",
            " [12 13 14 15]\n",
            " [16 17 18 19]]\n"
          ]
        }
      ]
    },
    {
      "cell_type": "code",
      "metadata": {
        "id": "FFtzMOaSFN1m",
        "colab": {
          "base_uri": "https://localhost:8080/"
        },
        "outputId": "e47c2c3c-2307-4441-efc0-5a1f98ce55ed"
      },
      "source": [
        "matriz_reshaped = np.reshape(matriz,(4,5))\n",
        "\n",
        "print(matriz_reshaped)"
      ],
      "execution_count": 26,
      "outputs": [
        {
          "output_type": "stream",
          "name": "stdout",
          "text": [
            "[[ 0  1  2  3  4]\n",
            " [ 5  6  7  8  9]\n",
            " [10 11 12 13 14]\n",
            " [15 16 17 18 19]]\n"
          ]
        }
      ]
    },
    {
      "cell_type": "markdown",
      "metadata": {
        "id": "WdMb8jM8FN1o"
      },
      "source": [
        "**Contruir matriz identidad**\n",
        "\n",
        "La matriz identidad es aquella matriz cuadrada para la cual los elementos de su diagonal principal son igual 1 y el resto a 0. Y cumple con la propiedad de ser el elemento neutro del producto de matrices(similar al 1 con escalares , 1xn = n ) lo cual significa que el resultado de aplicar el producto de matrices entre una matriz A y la matriz identidad I es igual a A:\n",
        "$$AI = A$$"
      ]
    },
    {
      "cell_type": "code",
      "metadata": {
        "id": "2wPAHhD9FN1o",
        "colab": {
          "base_uri": "https://localhost:8080/"
        },
        "outputId": "fa884f5a-9772-445e-dd35-ca6e90b8674c"
      },
      "source": [
        "np.identity(3)"
      ],
      "execution_count": 27,
      "outputs": [
        {
          "output_type": "execute_result",
          "data": {
            "text/plain": [
              "array([[1., 0., 0.],\n",
              "       [0., 1., 0.],\n",
              "       [0., 0., 1.]])"
            ]
          },
          "metadata": {},
          "execution_count": 27
        }
      ]
    },
    {
      "cell_type": "code",
      "metadata": {
        "id": "Mxa3lljzFN1q",
        "colab": {
          "base_uri": "https://localhost:8080/"
        },
        "outputId": "2906abce-8fff-428e-dd5e-f09f1e0a35b7"
      },
      "source": [
        "np.identity(2)"
      ],
      "execution_count": 28,
      "outputs": [
        {
          "output_type": "execute_result",
          "data": {
            "text/plain": [
              "array([[1., 0.],\n",
              "       [0., 1.]])"
            ]
          },
          "metadata": {},
          "execution_count": 28
        }
      ]
    },
    {
      "cell_type": "code",
      "metadata": {
        "id": "mMQXjGXyFN1s",
        "colab": {
          "base_uri": "https://localhost:8080/"
        },
        "outputId": "b5f67d5f-3a49-4c6b-91f9-410b3971a2bb"
      },
      "source": [
        "matriz_identidad4 = np.identity(4)\n",
        "\n",
        "print(matriz_identidad4)"
      ],
      "execution_count": 29,
      "outputs": [
        {
          "output_type": "stream",
          "name": "stdout",
          "text": [
            "[[1. 0. 0. 0.]\n",
            " [0. 1. 0. 0.]\n",
            " [0. 0. 1. 0.]\n",
            " [0. 0. 0. 1.]]\n"
          ]
        }
      ]
    },
    {
      "cell_type": "markdown",
      "metadata": {
        "id": "xsI_un-KFN1u"
      },
      "source": [
        "Podemos utilizar broadcasting y una matriz identidad para construir una matriz cuadrada con cierto valor en su diagonal principal . El siguiente ejemplo crea una matriz  cuadrada de 4x4 inicializada con 5 en su diagonal principal y 0 en el resto de la matriz."
      ]
    },
    {
      "cell_type": "code",
      "metadata": {
        "id": "dF32mJysFN1u",
        "colab": {
          "base_uri": "https://localhost:8080/"
        },
        "outputId": "8746ca1a-86c9-4da1-9a1a-6d31c90ab227"
      },
      "source": [
        "matriz_identidad4*5"
      ],
      "execution_count": 30,
      "outputs": [
        {
          "output_type": "execute_result",
          "data": {
            "text/plain": [
              "array([[5., 0., 0., 0.],\n",
              "       [0., 5., 0., 0.],\n",
              "       [0., 0., 5., 0.],\n",
              "       [0., 0., 0., 5.]])"
            ]
          },
          "metadata": {},
          "execution_count": 30
        }
      ]
    },
    {
      "cell_type": "markdown",
      "metadata": {
        "id": "OihGePa6FN1w"
      },
      "source": [
        "El concepto de matriz identidad existe solo para matrices cuadradas, pero hay casos donde se necesita usar matrices no cuadradas con 1 en su diagonal principal y 0 en cualquier otra posición, para esto podemos usar:\n",
        "\n",
        "**np.eye(filas,columnas)**"
      ]
    },
    {
      "cell_type": "code",
      "metadata": {
        "id": "3fmQJU8jFN1x",
        "colab": {
          "base_uri": "https://localhost:8080/"
        },
        "outputId": "f00e77e5-2741-42ff-8a88-551f379c5beb"
      },
      "source": [
        "np.eye(3,5)"
      ],
      "execution_count": 31,
      "outputs": [
        {
          "output_type": "execute_result",
          "data": {
            "text/plain": [
              "array([[1., 0., 0., 0., 0.],\n",
              "       [0., 1., 0., 0., 0.],\n",
              "       [0., 0., 1., 0., 0.]])"
            ]
          },
          "metadata": {},
          "execution_count": 31
        }
      ]
    },
    {
      "cell_type": "code",
      "metadata": {
        "id": "oL9Mv_LpFN1z",
        "colab": {
          "base_uri": "https://localhost:8080/"
        },
        "outputId": "70558ed3-8ce6-4071-8233-dd033b7dd1f1"
      },
      "source": [
        "np.eye(5,3)"
      ],
      "execution_count": 32,
      "outputs": [
        {
          "output_type": "execute_result",
          "data": {
            "text/plain": [
              "array([[1., 0., 0.],\n",
              "       [0., 1., 0.],\n",
              "       [0., 0., 1.],\n",
              "       [0., 0., 0.],\n",
              "       [0., 0., 0.]])"
            ]
          },
          "metadata": {},
          "execution_count": 32
        }
      ]
    },
    {
      "cell_type": "markdown",
      "metadata": {
        "id": "WNBlx8B5FN10"
      },
      "source": [
        "Matriz identidad on np.eye"
      ]
    },
    {
      "cell_type": "code",
      "metadata": {
        "id": "hUtjUdycFN10",
        "colab": {
          "base_uri": "https://localhost:8080/"
        },
        "outputId": "96da34de-d573-4cf3-d395-13c9c51bfab4"
      },
      "source": [
        "np.eye(3,3) #np.identity(3)"
      ],
      "execution_count": 33,
      "outputs": [
        {
          "output_type": "execute_result",
          "data": {
            "text/plain": [
              "array([[1., 0., 0.],\n",
              "       [0., 1., 0.],\n",
              "       [0., 0., 1.]])"
            ]
          },
          "metadata": {},
          "execution_count": 33
        }
      ]
    },
    {
      "cell_type": "markdown",
      "metadata": {
        "id": "PyWsFgEOFN12"
      },
      "source": [
        "Podemos utilizar un  tercer parametro en np.eye para especificar la digonal a inicializar con 1(no necesariamente la principal)"
      ]
    },
    {
      "cell_type": "code",
      "metadata": {
        "id": "87MhHXZaFN12",
        "colab": {
          "base_uri": "https://localhost:8080/"
        },
        "outputId": "4a535500-78d6-4923-8110-e1307e531188"
      },
      "source": [
        "np.eye(5,3,1)"
      ],
      "execution_count": 34,
      "outputs": [
        {
          "output_type": "execute_result",
          "data": {
            "text/plain": [
              "array([[0., 1., 0.],\n",
              "       [0., 0., 1.],\n",
              "       [0., 0., 0.],\n",
              "       [0., 0., 0.],\n",
              "       [0., 0., 0.]])"
            ]
          },
          "metadata": {},
          "execution_count": 34
        }
      ]
    },
    {
      "cell_type": "code",
      "metadata": {
        "id": "9tWpN_2hFN13",
        "colab": {
          "base_uri": "https://localhost:8080/"
        },
        "outputId": "14619bcf-1928-42b7-9813-df42cf820c4d"
      },
      "source": [
        "np.eye(5,3,2)"
      ],
      "execution_count": 35,
      "outputs": [
        {
          "output_type": "execute_result",
          "data": {
            "text/plain": [
              "array([[0., 0., 1.],\n",
              "       [0., 0., 0.],\n",
              "       [0., 0., 0.],\n",
              "       [0., 0., 0.],\n",
              "       [0., 0., 0.]])"
            ]
          },
          "metadata": {},
          "execution_count": 35
        }
      ]
    },
    {
      "cell_type": "code",
      "metadata": {
        "id": "hm9cIvH4FN14",
        "colab": {
          "base_uri": "https://localhost:8080/"
        },
        "outputId": "472b0f7b-33ba-43fe-f07d-d83fe00b2cb6"
      },
      "source": [
        "np.eye(5,3,-1)"
      ],
      "execution_count": 36,
      "outputs": [
        {
          "output_type": "execute_result",
          "data": {
            "text/plain": [
              "array([[0., 0., 0.],\n",
              "       [1., 0., 0.],\n",
              "       [0., 1., 0.],\n",
              "       [0., 0., 1.],\n",
              "       [0., 0., 0.]])"
            ]
          },
          "metadata": {},
          "execution_count": 36
        }
      ]
    },
    {
      "cell_type": "code",
      "metadata": {
        "id": "Qo-PNy-fFN16",
        "colab": {
          "base_uri": "https://localhost:8080/"
        },
        "outputId": "b1394ce1-0651-48f3-f51e-c33e3126e3f4"
      },
      "source": [
        "np.eye(5,3,-2)"
      ],
      "execution_count": 37,
      "outputs": [
        {
          "output_type": "execute_result",
          "data": {
            "text/plain": [
              "array([[0., 0., 0.],\n",
              "       [0., 0., 0.],\n",
              "       [1., 0., 0.],\n",
              "       [0., 1., 0.],\n",
              "       [0., 0., 1.]])"
            ]
          },
          "metadata": {},
          "execution_count": 37
        }
      ]
    },
    {
      "cell_type": "markdown",
      "metadata": {
        "id": "Utt8Pc03FN18"
      },
      "source": [
        "**Contruir matriz Diagonal**\n",
        "\n",
        "Una matriz diagonal , es una matriz cuadrada de n*n la cual tiene todos sus elementos igual a 0, excepto los de su diagonal principal que pueden ser cualquier valor diferente de 0(a diferencia de cuando usamos np.eye o matrices identidad donde el valor de la diagonal  es  igual a 1). Para crear matrices diagonales en numpy podemos usar **np.diag** enviando como parametro un vector de n elementos que pertenecen a la diagonal principal."
      ]
    },
    {
      "cell_type": "code",
      "metadata": {
        "id": "LnW1RB4eFN18",
        "colab": {
          "base_uri": "https://localhost:8080/"
        },
        "outputId": "8a18f977-840b-4e11-e107-173485d79c9a"
      },
      "source": [
        "matriz_diagonal = np.diag([1,2,3,4,5])\n",
        "\n",
        "print(matriz_diagonal)"
      ],
      "execution_count": 38,
      "outputs": [
        {
          "output_type": "stream",
          "name": "stdout",
          "text": [
            "[[1 0 0 0 0]\n",
            " [0 2 0 0 0]\n",
            " [0 0 3 0 0]\n",
            " [0 0 0 4 0]\n",
            " [0 0 0 0 5]]\n"
          ]
        }
      ]
    },
    {
      "cell_type": "code",
      "metadata": {
        "id": "UQbYqQT5FN1-",
        "colab": {
          "base_uri": "https://localhost:8080/"
        },
        "outputId": "9597f332-9e49-4e95-dd73-f31577030362"
      },
      "source": [
        "v = [5,4,3,2,1] #resultado de otro calculo\n",
        "matriz_diagonal = np.diag(v)\n",
        "\n",
        "print(\"Vector de elementos en la diagonal:\",v)\n",
        "print(\"Matriz diagonal:\")\n",
        "print(matriz_diagonal)"
      ],
      "execution_count": 39,
      "outputs": [
        {
          "output_type": "stream",
          "name": "stdout",
          "text": [
            "Vector de elementos en la diagonal: [5, 4, 3, 2, 1]\n",
            "Matriz diagonal:\n",
            "[[5 0 0 0 0]\n",
            " [0 4 0 0 0]\n",
            " [0 0 3 0 0]\n",
            " [0 0 0 2 0]\n",
            " [0 0 0 0 1]]\n"
          ]
        }
      ]
    },
    {
      "cell_type": "markdown",
      "metadata": {
        "id": "sU8_JBVxFN1E"
      },
      "source": [
        "### Diagonal principal de una matriz\n",
        "\n",
        "La diagonal principal(a veces solo llamada diagonal) es  el conjunto de elementos conformados al recorrer la matriz desde la primera fila y primera columna,luego segunda fila y segunda columna y así sucesivamente hasta donde el tamaño de la matriz permite.\n",
        "\n",
        "<img src=\"http://navarrof.orgfree.com/Docencia/MatematicasI/UT4/ut4t1f8.gif\">"
      ]
    },
    {
      "cell_type": "code",
      "metadata": {
        "id": "VLOckZNZFN1E"
      },
      "source": [
        "matriz = np.array([[1,2,3],\n",
        "                   [5,6,7],\n",
        "                   [8,9,10]])"
      ],
      "execution_count": 40,
      "outputs": []
    },
    {
      "cell_type": "code",
      "metadata": {
        "id": "hCS3KgxZFN1G",
        "colab": {
          "base_uri": "https://localhost:8080/"
        },
        "outputId": "c057b112-08de-44ac-c547-5cbdf7878221"
      },
      "source": [
        "print(\"Matriz:\")\n",
        "print(matriz)"
      ],
      "execution_count": 41,
      "outputs": [
        {
          "output_type": "stream",
          "name": "stdout",
          "text": [
            "Matriz:\n",
            "[[ 1  2  3]\n",
            " [ 5  6  7]\n",
            " [ 8  9 10]]\n"
          ]
        }
      ]
    },
    {
      "cell_type": "code",
      "metadata": {
        "id": "cC1fOxS9FN1H",
        "colab": {
          "base_uri": "https://localhost:8080/"
        },
        "outputId": "072fcff5-c1ca-4db6-ecf2-a2ff906eda6a"
      },
      "source": [
        "matriz.diagonal()"
      ],
      "execution_count": 42,
      "outputs": [
        {
          "output_type": "execute_result",
          "data": {
            "text/plain": [
              "array([ 1,  6, 10])"
            ]
          },
          "metadata": {},
          "execution_count": 42
        }
      ]
    },
    {
      "cell_type": "code",
      "metadata": {
        "id": "_6NxB8XuFN1J",
        "colab": {
          "base_uri": "https://localhost:8080/"
        },
        "outputId": "76cb711e-070a-4b2e-8314-dadc14ed3598"
      },
      "source": [
        "np.diag(matriz)"
      ],
      "execution_count": 43,
      "outputs": [
        {
          "output_type": "execute_result",
          "data": {
            "text/plain": [
              "array([ 1,  6, 10])"
            ]
          },
          "metadata": {},
          "execution_count": 43
        }
      ]
    },
    {
      "cell_type": "code",
      "metadata": {
        "id": "Vr8hNrcyFN1K",
        "colab": {
          "base_uri": "https://localhost:8080/"
        },
        "outputId": "e250c162-f425-4825-c4f2-59b51b1accee"
      },
      "source": [
        "np.diag(matriz)"
      ],
      "execution_count": 44,
      "outputs": [
        {
          "output_type": "execute_result",
          "data": {
            "text/plain": [
              "array([ 1,  6, 10])"
            ]
          },
          "metadata": {},
          "execution_count": 44
        }
      ]
    },
    {
      "cell_type": "code",
      "metadata": {
        "id": "nEfz2dUBFN1M",
        "colab": {
          "base_uri": "https://localhost:8080/"
        },
        "outputId": "a605f218-8b7f-4d77-ff0b-4db53d6ed3c5"
      },
      "source": [
        "matriz_cuadrada = np.reshape(np.arange(16),(4,4))\n",
        "\n",
        "print(matriz_cuadrada)"
      ],
      "execution_count": 45,
      "outputs": [
        {
          "output_type": "stream",
          "name": "stdout",
          "text": [
            "[[ 0  1  2  3]\n",
            " [ 4  5  6  7]\n",
            " [ 8  9 10 11]\n",
            " [12 13 14 15]]\n"
          ]
        }
      ]
    },
    {
      "cell_type": "code",
      "metadata": {
        "id": "z8KkZj_kFN1N",
        "colab": {
          "base_uri": "https://localhost:8080/"
        },
        "outputId": "a814a850-b21a-4b33-8976-24fe2e96cec9"
      },
      "source": [
        "matriz_cuadrada.diagonal()"
      ],
      "execution_count": 46,
      "outputs": [
        {
          "output_type": "execute_result",
          "data": {
            "text/plain": [
              "array([ 0,  5, 10, 15])"
            ]
          },
          "metadata": {},
          "execution_count": 46
        }
      ]
    },
    {
      "cell_type": "markdown",
      "metadata": {
        "id": "RLVwGx7WFN1_"
      },
      "source": [
        "### Accediendo elementos específicos de una matriz\n",
        "\n",
        "Similar a cuando estudiamos colecciones como listas y tuplas , en muchos casos necesitamos acceder a elementos específicos de cierta matriz , en algunos casos únicamente para consultar los datos que esta contiene o bien para utilizarlos en alguna otra operación o en otros casos para modificar solo ciertos elementos de la matriz. Cuando estudiamos vectores no dedicamos mucho tiempo a esto ya que es exactamente igual al caso de listas (lo cual ya habiamos visto a detalle antes)  pero para el caso de matrices(y tensores de mayor dimensionalidad como veremos) existen algunos detalles adicionales que necesitamos conocer.\n",
        "\n",
        "La buena parte de esto es que aun que hay algunos detalles adicionales, el acceso a elementos sigue basado en lo que aprendimos de **indexing**  y **slicing** y todo lo que aprendimos aplica también para matrices.\n",
        "\n",
        "Estudiaremos el acceso a elementos de la matriz dividio en 3 partes:\n",
        "\n",
        "1. Acceso a filas y columnas completas(una única fila  o columna).\n",
        "2. Acceso a elementos específicos de la matriz(cierta fila, cierta columna).\n",
        "3. Multiples filas y/o múltiples columnas de la matriz combinando los 2 anteriores.\n",
        "\n",
        "**Nota** No olvidemos que en Python el primer elemento se representa con la posicion 0 y el ultimo con la posicion n-1, en matemática se acostumbra a hacerlo de 1 a n .\n",
        "\n",
        "\n",
        "#### Acceder a filas completas: \n",
        "Cuando necesitamos acceder a filas completas de la matriz usamos la sintaxis conocida de:\n",
        "\n",
        "**A[indice]**\n",
        "\n",
        "Donde\n",
        "* A = la matriz de \"m\" filas y \"n\" columnas,de la cual queremos acceder una fila\n",
        "* indice = el número de fila a acceder(de -m a m-1)\n",
        "\n",
        "Si la matriz esta organizada de manera tal que cada fila representa una observación u ocurrencia de un evento y cada columna características de esta observación u ocurrencia ,el acceder a cierta fila implica acceder a cierta observación específica."
      ]
    },
    {
      "cell_type": "code",
      "metadata": {
        "id": "-iwaU8YHFN2A",
        "colab": {
          "base_uri": "https://localhost:8080/"
        },
        "outputId": "750ea753-5c4a-4278-9721-a4123cdd8976"
      },
      "source": [
        "matriz = np.array([[1,2,3],\n",
        "                   [4,5,6],\n",
        "                   [7,8,9]])\n",
        "\n",
        "print(matriz[0]) #acceder a la primera fila\n",
        "print(matriz[2]) #acceder a la última fila m-1"
      ],
      "execution_count": 47,
      "outputs": [
        {
          "output_type": "stream",
          "name": "stdout",
          "text": [
            "[1 2 3]\n",
            "[7 8 9]\n"
          ]
        }
      ]
    },
    {
      "cell_type": "code",
      "metadata": {
        "id": "0oKFdJOOFN2C",
        "colab": {
          "base_uri": "https://localhost:8080/"
        },
        "outputId": "2bc07417-7023-4686-f6cc-64fa7a58cd44"
      },
      "source": [
        "print(matriz[-1]) # acceder a la última fila con indice negativo\n",
        "print(matriz[-3]) # acceder a la primera fila -m con  indice negativo"
      ],
      "execution_count": 48,
      "outputs": [
        {
          "output_type": "stream",
          "name": "stdout",
          "text": [
            "[7 8 9]\n",
            "[1 2 3]\n"
          ]
        }
      ]
    },
    {
      "cell_type": "code",
      "metadata": {
        "id": "8T84w3APFN2D",
        "colab": {
          "base_uri": "https://localhost:8080/"
        },
        "outputId": "d030e84b-8716-44ae-defa-dc93268f9d4e"
      },
      "source": [
        "print(matriz[1])  # acceder a la segunda fila con indice positivo\n",
        "print(matriz[-2]) # acceder a la segunda fila con indice negativo"
      ],
      "execution_count": 49,
      "outputs": [
        {
          "output_type": "stream",
          "name": "stdout",
          "text": [
            "[4 5 6]\n",
            "[4 5 6]\n"
          ]
        }
      ]
    },
    {
      "cell_type": "markdown",
      "metadata": {
        "id": "2GvWgdysFN2F"
      },
      "source": [
        "Podemos asignar a una variable la fila accesada \n",
        "\n"
      ]
    },
    {
      "cell_type": "code",
      "metadata": {
        "id": "XgohxmEYFN2F",
        "colab": {
          "base_uri": "https://localhost:8080/"
        },
        "outputId": "fd9e902d-9c05-4e2d-a8c6-92a50947314c"
      },
      "source": [
        "fila2 = matriz[1]\n",
        "\n",
        "fila2_triplicada =fila2*3\n",
        "print(fila2,fila2_triplicada)"
      ],
      "execution_count": 50,
      "outputs": [
        {
          "output_type": "stream",
          "name": "stdout",
          "text": [
            "[4 5 6] [12 15 18]\n"
          ]
        }
      ]
    },
    {
      "cell_type": "markdown",
      "metadata": {
        "id": "0gBu6FSFFN2I"
      },
      "source": [
        "#### Acceder a columnas completas: \n",
        "Cuando necesitamos acceder a columnas completas de la matriz usamos la sintaxis conocida de:\n",
        "\n",
        "**A[:,indice]**\n",
        "\n",
        "Donde\n",
        "* A = la matriz de \"m\" filas y \"n\" columnas,de la cual queremos acceder una columna.\n",
        "* indice = el número de columna a acceder(de -n a n-1)\n",
        "\n",
        "Si la matriz esta organizada de manera tal que cada fila representa una observación u ocurrencia de un evento y cada columna características de esta observación u ocurrencia ,el acceder a cierta columna implica acceder a cierta característica.\n",
        "\n",
        "**nota** : Al igual que con listas, usamos \":\" para hacer slicing que en este caso indica todas las filas(mas detalles en la siguiente sección). "
      ]
    },
    {
      "cell_type": "code",
      "metadata": {
        "id": "VCJVI-a9FN2J",
        "colab": {
          "base_uri": "https://localhost:8080/"
        },
        "outputId": "150b326c-4510-4594-8884-e8974df409fd"
      },
      "source": [
        "matriz = np.array([[1,2,3],\n",
        "                   [4,5,6],\n",
        "                   [7,8,9]])\n",
        "\n",
        "print(matriz)\n",
        "print(\"Columnas individuales:\")\n",
        "print(matriz[:,0]) #acceder a la primera columna\n",
        "print(matriz[:,2]) #acceder a la última columna n-1"
      ],
      "execution_count": 51,
      "outputs": [
        {
          "output_type": "stream",
          "name": "stdout",
          "text": [
            "[[1 2 3]\n",
            " [4 5 6]\n",
            " [7 8 9]]\n",
            "Columnas individuales:\n",
            "[1 4 7]\n",
            "[3 6 9]\n"
          ]
        }
      ]
    },
    {
      "cell_type": "code",
      "metadata": {
        "id": "JysT7uKUFN2L",
        "colab": {
          "base_uri": "https://localhost:8080/"
        },
        "outputId": "61efa8ff-7cbf-4b59-8404-74d170810f3c"
      },
      "source": [
        "print(matriz)\n",
        "print(\"Columnas individuales:\")\n",
        "print(matriz[:,-1]) # acceder a la última columna con indice negativo\n",
        "print(matriz[:,-3]) # acceder a la primera columna -n con  indice negativo"
      ],
      "execution_count": 52,
      "outputs": [
        {
          "output_type": "stream",
          "name": "stdout",
          "text": [
            "[[1 2 3]\n",
            " [4 5 6]\n",
            " [7 8 9]]\n",
            "Columnas individuales:\n",
            "[3 6 9]\n",
            "[1 4 7]\n"
          ]
        }
      ]
    },
    {
      "cell_type": "code",
      "metadata": {
        "id": "PwDZm_vnFN2N",
        "colab": {
          "base_uri": "https://localhost:8080/"
        },
        "outputId": "3a7dd913-be9b-4bd3-e2c7-3dd7fa3c32fe"
      },
      "source": [
        "print(matriz)\n",
        "print(\"Columnas individuales:\")\n",
        "print(matriz[:,1])  # acceder a la segunda columna con indice positivo\n",
        "print(matriz[:,-2]) # acceder a la segunda columna con indice negativo"
      ],
      "execution_count": 53,
      "outputs": [
        {
          "output_type": "stream",
          "name": "stdout",
          "text": [
            "[[1 2 3]\n",
            " [4 5 6]\n",
            " [7 8 9]]\n",
            "Columnas individuales:\n",
            "[2 5 8]\n",
            "[2 5 8]\n"
          ]
        }
      ]
    },
    {
      "cell_type": "code",
      "metadata": {
        "id": "oHOA-RZ6FN2O",
        "colab": {
          "base_uri": "https://localhost:8080/"
        },
        "outputId": "c6bb97a0-928c-476d-96e0-4a12c368f252"
      },
      "source": [
        "columna3 = matriz[:,2]\n",
        "\n",
        "columna3_triplicada =columna3*3\n",
        "print(matriz)\n",
        "print(columna3,columna3_triplicada)"
      ],
      "execution_count": 54,
      "outputs": [
        {
          "output_type": "stream",
          "name": "stdout",
          "text": [
            "[[1 2 3]\n",
            " [4 5 6]\n",
            " [7 8 9]]\n",
            "[3 6 9] [ 9 18 27]\n"
          ]
        }
      ]
    },
    {
      "cell_type": "markdown",
      "metadata": {
        "id": "tq6tnqkMFN2P"
      },
      "source": [
        "Si consultamos el atributo shape en un vector obtenido al acceder a una fila o columna específica podemos ver que tenemos una **dimensión desconocida** o no específicada. En algunos casos puede llevar a comportamientos no predecibles  y/o inesperados."
      ]
    },
    {
      "cell_type": "code",
      "metadata": {
        "id": "ylPrv9bEFN2P",
        "colab": {
          "base_uri": "https://localhost:8080/"
        },
        "outputId": "ddf7b5ed-05b3-401d-82e1-470bdc27b8df"
      },
      "source": [
        "columna3.shape"
      ],
      "execution_count": 55,
      "outputs": [
        {
          "output_type": "execute_result",
          "data": {
            "text/plain": [
              "(3,)"
            ]
          },
          "metadata": {},
          "execution_count": 55
        }
      ]
    },
    {
      "cell_type": "markdown",
      "metadata": {
        "id": "sUI2SzArFN2R"
      },
      "source": [
        "En algunos casos queremos eliminar este compartamiento y asegurarnos de poseer un valor de 1 en lugar del valor no especifidado , podemos para esto usar la función \"expand_dims\" e indicarle si queremos convertir el vector de n elementos en una matriz de 1 fila y columnas o n filas y una columna"
      ]
    },
    {
      "cell_type": "code",
      "metadata": {
        "id": "Z9tA-c0qFN2S",
        "colab": {
          "base_uri": "https://localhost:8080/"
        },
        "outputId": "eb05e2db-e7f5-42a9-8550-a45ff8d295b9"
      },
      "source": [
        "una_fila_3_cols = np.expand_dims(columna3,0) # el parametro 0 indica crear una matriz 1 fila con n columnas\n",
        "\n",
        "print(una_fila_3_cols)\n",
        "print(una_fila_3_cols.shape)"
      ],
      "execution_count": 56,
      "outputs": [
        {
          "output_type": "stream",
          "name": "stdout",
          "text": [
            "[[3 6 9]]\n",
            "(1, 3)\n"
          ]
        }
      ]
    },
    {
      "cell_type": "code",
      "metadata": {
        "id": "w3Jm-R-ZFN2T",
        "colab": {
          "base_uri": "https://localhost:8080/"
        },
        "outputId": "5dcf711b-a1f1-4dbe-f76d-149b0a1ab52e"
      },
      "source": [
        "una_col_3_filas = np.expand_dims(columna3,1) # el parametro 1 indica crear una matriz de n filas y 1 columna\n",
        "\n",
        "print(una_col_3_filas)\n",
        "print(una_col_3_filas.shape)"
      ],
      "execution_count": 57,
      "outputs": [
        {
          "output_type": "stream",
          "name": "stdout",
          "text": [
            "[[3]\n",
            " [6]\n",
            " [9]]\n",
            "(3, 1)\n"
          ]
        }
      ]
    },
    {
      "cell_type": "markdown",
      "metadata": {
        "id": "ujgMBXqhFN2V"
      },
      "source": [
        "Aun que menos común y poco necesario , también podemos realizar la operacion contraria:convertir 1 matriz con ya sea 1 sola fila o 1 sola columna, en un vector con una dimensión no definida. usando **np.squeeze**"
      ]
    },
    {
      "cell_type": "code",
      "metadata": {
        "id": "KlMKO12AFN2V",
        "colab": {
          "base_uri": "https://localhost:8080/"
        },
        "outputId": "1cbab7e2-49a7-4b6e-ccac-9944f80df361"
      },
      "source": [
        "print(np.squeeze(una_col_3_filas))\n",
        "print(np.squeeze(una_col_3_filas).shape)\n"
      ],
      "execution_count": 58,
      "outputs": [
        {
          "output_type": "stream",
          "name": "stdout",
          "text": [
            "[3 6 9]\n",
            "(3,)\n"
          ]
        }
      ]
    },
    {
      "cell_type": "markdown",
      "metadata": {
        "id": "2mAnO-uvFN2X"
      },
      "source": [
        "#### Acceder a elementos específicos(indexing): \n",
        "En muchos casos necesitamos acceder a elementos específicos de la matriz ya sea como consulta, usarlos en otro cálculo o para cambiar su valor, podemos entonces acceder a elementos específicos de la matriz a partir de su posición (fila y columna).\n",
        "\n",
        "**A[fila,columna]**\n",
        "\n",
        "Donde\n",
        "* A = la matriz de \"m\" filas y \"n\" columnas,de la cual queremos acceder un elemento.\n",
        "* fila = el número de columna a acceder(de -m a m-1)\n",
        "* columna = el número de columna a acceder (de -n a n-1)\n",
        "\n",
        "Si la matriz esta organizada de manera tal que cada fila representa una observación u ocurrencia de un evento y cada columna características de esta observación u ocurrencia ,el acceder a un elemento localizado en cierta fila y columna se interpreta como: la característica j de la observación i."
      ]
    },
    {
      "cell_type": "code",
      "metadata": {
        "id": "eNW4E52DFN2X",
        "colab": {
          "base_uri": "https://localhost:8080/"
        },
        "outputId": "c1559b30-6a3a-4262-8def-e5e03e6dd7c6"
      },
      "source": [
        "matriz = np.array([\n",
        "    [1,2,3],\n",
        "    [4,5,6],\n",
        "    [7,8,9]])\n",
        "\n",
        "print(matriz)\n",
        "print(\"Elementos individuales:\")\n",
        "print(matriz[0,0]) # acceder a elemento en primera fila y primera columna\n",
        "print(matriz[0,2]) # acceder a elemento en la primera fila la última columna n-1"
      ],
      "execution_count": 59,
      "outputs": [
        {
          "output_type": "stream",
          "name": "stdout",
          "text": [
            "[[1 2 3]\n",
            " [4 5 6]\n",
            " [7 8 9]]\n",
            "Elementos individuales:\n",
            "1\n",
            "3\n"
          ]
        }
      ]
    },
    {
      "cell_type": "code",
      "metadata": {
        "id": "D97TAF6YFN2Y",
        "colab": {
          "base_uri": "https://localhost:8080/"
        },
        "outputId": "f995e5f6-d342-4bf0-871c-9b42fb328962"
      },
      "source": [
        "print(matriz)\n",
        "print(\"Elementos individuales:\")\n",
        "print(matriz[0,-1]) # acceder a elemento en la primera fila y la última columna con indice negativo\n",
        "print(matriz[-3,-3]) # acceder a elemento en la primera fila y la primera columna -n con  indice negativo"
      ],
      "execution_count": 60,
      "outputs": [
        {
          "output_type": "stream",
          "name": "stdout",
          "text": [
            "[[1 2 3]\n",
            " [4 5 6]\n",
            " [7 8 9]]\n",
            "Elementos individuales:\n",
            "3\n",
            "1\n"
          ]
        }
      ]
    },
    {
      "cell_type": "code",
      "metadata": {
        "id": "hhNsuJ4QFN2Z",
        "colab": {
          "base_uri": "https://localhost:8080/"
        },
        "outputId": "ba831c7c-1cee-4cfe-e9b5-dd2238cb770d"
      },
      "source": [
        "print(matriz)\n",
        "print(\"Elementos individuales:\")\n",
        "print(matriz[1,1])  # acceder elemento en la segunda fila con indice positivo y  la segunda columna con indice positivo\n",
        "print(matriz[-2,-2]) # accederelemento en la segunda fila y  la segunda columna con indice negativo"
      ],
      "execution_count": 61,
      "outputs": [
        {
          "output_type": "stream",
          "name": "stdout",
          "text": [
            "[[1 2 3]\n",
            " [4 5 6]\n",
            " [7 8 9]]\n",
            "Elementos individuales:\n",
            "5\n",
            "5\n"
          ]
        }
      ]
    },
    {
      "cell_type": "markdown",
      "metadata": {
        "id": "2yBXYDCCFN2a"
      },
      "source": [
        "**Nota** La sintaxis vista utilizando un unico par de corchetes y separar el indice de filas del de columnas por comas es la forma recomendada de hacerlo tanto por performance y legibilidad, la siguiente celda logra el mismo resultado de la anterior pero es menos eficiente, esto por que hay 2 operaciones en lugar de 1:\n",
        "\n",
        "* Primero se accede a una fila de la matriz y se crea un vector intermedio temporal para esta.\n",
        "* Luego accedemos a un elemento del vector intermedio temporal."
      ]
    },
    {
      "cell_type": "code",
      "metadata": {
        "id": "kC6QwG06FN2a",
        "outputId": "e3e0936a-22dc-4b0e-e646-f64426d40c5c",
        "colab": {
          "base_uri": "https://localhost:8080/"
        }
      },
      "source": [
        "print(matriz)\n",
        "print(\"Elementos individuales:\")\n",
        "print(matriz[1][1])  # acceder elemento en la segunda fila con indice positivo y  la segunda columna con indice positivo\n",
        "print(matriz[-2][-2]) # acceder elemento en la segunda fila y  la segunda columna con indice negativo"
      ],
      "execution_count": 62,
      "outputs": [
        {
          "output_type": "stream",
          "name": "stdout",
          "text": [
            "[[1 2 3]\n",
            " [4 5 6]\n",
            " [7 8 9]]\n",
            "Elementos individuales:\n",
            "5\n",
            "5\n"
          ]
        }
      ]
    },
    {
      "cell_type": "markdown",
      "metadata": {
        "id": "hUDrcEO4FN2c"
      },
      "source": [
        "#### Acceder sub-porciones de una matriz(slicing): \n",
        "En algunos casos necesitamos acceder sub-porciones de la matriz, por ejemplo casos como los siguientes:\n",
        "* Las primeras 3 filas , últimas 2 columnas.\n",
        "* Las últimas 5 filas , las columnas 2,4,6.\n",
        "* Las filas de la 10 a la 20 , primeras 5 columnas.\n",
        "* Ultima fila , últimas 3 columnas\n",
        "\n",
        "Estos requieren acceder más de una fila, o mas de una columna(o ambos casos) por lo tanto no podemos específicar solo una fila o solo una columna como en los ejemplos anteriores. Por suerte podemos extender el concepto de slicing ya estudiado a este caso, solo necesitamos pensar cada dimensión de manera individual.\n",
        "\n",
        "Utilizaremos nuevamente el operador \":\" para indicar sub-porciones, y pensamos de manera independiete filas y columnas por lo cual podemos usar hasta  2 operadores \":\" al acceder elementos de una matriz.\n",
        "\n",
        "\n",
        "**A[fila_inicio:fila_fin,columna_inicio:columna_fin]**\n",
        "\n",
        "Donde\n",
        "* A = la matriz de \"m\" filas y \"n\" columnas,de la cual queremos acceder una sub-porcion\n",
        "* fila_inicio\n",
        "* fila_fin\n",
        "* columna_inicio\n",
        "* columna_fin\n",
        "\n",
        "Otra manera de acceder a múltiples columnas o filas de una matriz es usando una lista con los indices deseados, por ejemplo si deseamos acceder a la primera y quinta fila podemos usar una lista con los indices [0,4].\n",
        "\n",
        "\n",
        "**A[lista_filas,lista_columnas]**\n",
        "\n",
        "Donde\n",
        "* A = la matriz de \"m\" filas y \"n\" columnas,de la cual queremos acceder una sub-porcion\n",
        "* lista_filas: lista de las filas  a acceder\n",
        "* lista_columnas: lista de las columnas a acceder\n",
        "\n",
        "O bien podemos combinar estos 2 casos y usar \":\" para indicar filas(o columnas) y una lista para indicar columnas(o filas)."
      ]
    },
    {
      "cell_type": "code",
      "metadata": {
        "id": "Xp5jZS-IFN2c",
        "colab": {
          "base_uri": "https://localhost:8080/"
        },
        "outputId": "1faed08a-3af3-4562-fad0-a6a439a1917d"
      },
      "source": [
        "matriz = np.array([[1,2,3],\n",
        "                   [4,5,6],\n",
        "                   [7,8,9],\n",
        "                   [10,11,12]])\n",
        "\n",
        "print(matriz)"
      ],
      "execution_count": 63,
      "outputs": [
        {
          "output_type": "stream",
          "name": "stdout",
          "text": [
            "[[ 1  2  3]\n",
            " [ 4  5  6]\n",
            " [ 7  8  9]\n",
            " [10 11 12]]\n"
          ]
        }
      ]
    },
    {
      "cell_type": "markdown",
      "metadata": {
        "id": "sVcmR-MEFN2d"
      },
      "source": [
        "* Primeras 3 filas ,últimas 2 columnas "
      ]
    },
    {
      "cell_type": "code",
      "metadata": {
        "id": "Gfd4af0RFN2h",
        "outputId": "3e24f6f5-fcf0-4d05-d6a6-8ed5cb4f5270",
        "colab": {
          "base_uri": "https://localhost:8080/"
        }
      },
      "source": [
        "print(matriz[0:3,-2:])"
      ],
      "execution_count": 64,
      "outputs": [
        {
          "output_type": "stream",
          "name": "stdout",
          "text": [
            "[[2 3]\n",
            " [5 6]\n",
            " [8 9]]\n"
          ]
        }
      ]
    },
    {
      "cell_type": "markdown",
      "metadata": {
        "id": "VSLWOFaMFN2i"
      },
      "source": [
        "* Las últimas 2 filas , las columnas 0,2"
      ]
    },
    {
      "cell_type": "code",
      "metadata": {
        "id": "KUgATrItFN2i",
        "colab": {
          "base_uri": "https://localhost:8080/"
        },
        "outputId": "7e7c0c8b-1f5d-4c0b-ce53-b830940c064d"
      },
      "source": [
        "print(matriz[-2:,[0,2]])"
      ],
      "execution_count": 65,
      "outputs": [
        {
          "output_type": "stream",
          "name": "stdout",
          "text": [
            "[[ 7  9]\n",
            " [10 12]]\n"
          ]
        }
      ]
    },
    {
      "cell_type": "markdown",
      "metadata": {
        "id": "dMKAwgnNFN2j"
      },
      "source": [
        "* Las filas de la 1 a la 2 , primeras 2 columnas."
      ]
    },
    {
      "cell_type": "code",
      "metadata": {
        "id": "_If1n4EjFN2j",
        "outputId": "c98f9a52-ccf5-4f06-b6f5-423e89d4c21e",
        "colab": {
          "base_uri": "https://localhost:8080/"
        }
      },
      "source": [
        "print(matriz[1:3,:2]) # recordemos que el limite superior es no incluyente por lo tanto usamos 3 en lugar de 2"
      ],
      "execution_count": 66,
      "outputs": [
        {
          "output_type": "stream",
          "name": "stdout",
          "text": [
            "[[4 5]\n",
            " [7 8]]\n"
          ]
        }
      ]
    },
    {
      "cell_type": "markdown",
      "metadata": {
        "id": "q2prz58LFN2k"
      },
      "source": [
        "* Ultima fila , últimas 2 columnas"
      ]
    },
    {
      "cell_type": "code",
      "metadata": {
        "id": "MIYQGNJsFN2k",
        "colab": {
          "base_uri": "https://localhost:8080/"
        },
        "outputId": "60aba8f1-4784-457d-b833-777099b92260"
      },
      "source": [
        "print(matriz[-1,-2:])"
      ],
      "execution_count": 67,
      "outputs": [
        {
          "output_type": "stream",
          "name": "stdout",
          "text": [
            "[11 12]\n"
          ]
        }
      ]
    },
    {
      "cell_type": "code",
      "metadata": {
        "id": "o-D1XRqfFN2m",
        "colab": {
          "base_uri": "https://localhost:8080/"
        },
        "outputId": "ecb53dcd-672b-42a1-9174-5f1bb320ea22"
      },
      "source": [
        "print(\"Matriz:\")\n",
        "matriz"
      ],
      "execution_count": 68,
      "outputs": [
        {
          "output_type": "stream",
          "name": "stdout",
          "text": [
            "Matriz:\n"
          ]
        },
        {
          "output_type": "execute_result",
          "data": {
            "text/plain": [
              "array([[ 1,  2,  3],\n",
              "       [ 4,  5,  6],\n",
              "       [ 7,  8,  9],\n",
              "       [10, 11, 12]])"
            ]
          },
          "metadata": {},
          "execution_count": 68
        }
      ]
    },
    {
      "cell_type": "markdown",
      "metadata": {
        "id": "V4i6bwV_FN2l"
      },
      "source": [
        "### Matriz transpuesta o Transpuesta de una Matriz\n",
        "\n",
        "La transpuesta de una matriz A es una nueva matriz que puede ser definida según cualquiera de las descripciones comunes a continuación:\n",
        "\n",
        "* Matriz que se obtiene al reflejar la matriz sobre su diagonal principal.\n",
        "* Matriz que se obtiene al convertir filas a columnas y columnas a filas.\n",
        "\n",
        "<img src=\"https://4.bp.blogspot.com/-N5CZYpsTOmc/WLv0zcBnKII/AAAAAAAAaCs/HSsDvDA5KnMbplqnYz1HMuj5QVSpaI54gCLcB/s1600/Traspuesta_ejemplos.png\">\n",
        "\n",
        "En data science es común utilizar la transposición en casos donde debemos trabajar y combinar en un mismo proyecto 2 datasets con distinta orientación, por ejemplo en deep learning en algunos casos se poseen  y deben integrar datasets donde uno de ellos esta como: 1 row por observación  y una columna por feature, y otro dataset donde estan almacenados como 1 row por característica o feature y 1 columna por observación.\n",
        "\n",
        "**Nota**: siempre debemos tener en cuenta el significado y/o interpretación de una matriz y trabajar consistentemente con este significado, esto toma mayor importancia al combinar 2 datasets como en el ejemplo anterior."
      ]
    },
    {
      "cell_type": "code",
      "metadata": {
        "colab": {
          "base_uri": "https://localhost:8080/"
        },
        "id": "3yZhJ6N2KRdO",
        "outputId": "497257c3-c0d8-44ef-8b4f-b478a1b27a54"
      },
      "source": [
        "print(\"Matriz:\")\n",
        "matriz\n"
      ],
      "execution_count": 69,
      "outputs": [
        {
          "output_type": "stream",
          "name": "stdout",
          "text": [
            "Matriz:\n"
          ]
        },
        {
          "output_type": "execute_result",
          "data": {
            "text/plain": [
              "array([[ 1,  2,  3],\n",
              "       [ 4,  5,  6],\n",
              "       [ 7,  8,  9],\n",
              "       [10, 11, 12]])"
            ]
          },
          "metadata": {},
          "execution_count": 69
        }
      ]
    },
    {
      "cell_type": "code",
      "metadata": {
        "id": "Rc7qqHrFFN2n",
        "colab": {
          "base_uri": "https://localhost:8080/"
        },
        "outputId": "55d7853b-3817-4af3-ee38-369fe614a131"
      },
      "source": [
        "print(\"Usando transpose():\")\n",
        "matriz.transpose()"
      ],
      "execution_count": 70,
      "outputs": [
        {
          "output_type": "stream",
          "name": "stdout",
          "text": [
            "Usando transpose():\n"
          ]
        },
        {
          "output_type": "execute_result",
          "data": {
            "text/plain": [
              "array([[ 1,  4,  7, 10],\n",
              "       [ 2,  5,  8, 11],\n",
              "       [ 3,  6,  9, 12]])"
            ]
          },
          "metadata": {},
          "execution_count": 70
        }
      ]
    },
    {
      "cell_type": "code",
      "metadata": {
        "id": "n_GNaZThFN2p",
        "outputId": "c089205c-85e3-4060-ccb1-f49d75435a1a",
        "colab": {
          "base_uri": "https://localhost:8080/"
        }
      },
      "source": [
        "print(\"Usando .T\")\n",
        "matriz.T"
      ],
      "execution_count": 71,
      "outputs": [
        {
          "output_type": "stream",
          "name": "stdout",
          "text": [
            "Usando .T\n"
          ]
        },
        {
          "output_type": "execute_result",
          "data": {
            "text/plain": [
              "array([[ 1,  4,  7, 10],\n",
              "       [ 2,  5,  8, 11],\n",
              "       [ 3,  6,  9, 12]])"
            ]
          },
          "metadata": {},
          "execution_count": 71
        }
      ]
    },
    {
      "cell_type": "code",
      "metadata": {
        "id": "dctMEZr8FN2r",
        "colab": {
          "base_uri": "https://localhost:8080/"
        },
        "outputId": "ece03dc0-526f-4b4f-bcbe-588e5a7ebc1a"
      },
      "source": [
        "matriz_cuadrada = np.reshape(np.arange(16),(4,4))\n",
        "print(\"Matriz:\")\n",
        "matriz_cuadrada"
      ],
      "execution_count": 72,
      "outputs": [
        {
          "output_type": "stream",
          "name": "stdout",
          "text": [
            "Matriz:\n"
          ]
        },
        {
          "output_type": "execute_result",
          "data": {
            "text/plain": [
              "array([[ 0,  1,  2,  3],\n",
              "       [ 4,  5,  6,  7],\n",
              "       [ 8,  9, 10, 11],\n",
              "       [12, 13, 14, 15]])"
            ]
          },
          "metadata": {},
          "execution_count": 72
        }
      ]
    },
    {
      "cell_type": "code",
      "metadata": {
        "id": "G3CxRTu8FN2t",
        "colab": {
          "base_uri": "https://localhost:8080/"
        },
        "outputId": "8cc4c164-9308-4dc0-fa83-a69a2e84e2d6"
      },
      "source": [
        "print(\"Usando transpose():\")\n",
        "matriz_cuadrada.transpose()"
      ],
      "execution_count": 73,
      "outputs": [
        {
          "output_type": "stream",
          "name": "stdout",
          "text": [
            "Usando transpose():\n"
          ]
        },
        {
          "output_type": "execute_result",
          "data": {
            "text/plain": [
              "array([[ 0,  4,  8, 12],\n",
              "       [ 1,  5,  9, 13],\n",
              "       [ 2,  6, 10, 14],\n",
              "       [ 3,  7, 11, 15]])"
            ]
          },
          "metadata": {},
          "execution_count": 73
        }
      ]
    },
    {
      "cell_type": "code",
      "metadata": {
        "id": "Pu-LCD66FN2u",
        "colab": {
          "base_uri": "https://localhost:8080/"
        },
        "outputId": "c3b980d4-4a94-42ea-a897-a881c5218019"
      },
      "source": [
        "print(\"Usando .T\")\n",
        "matriz_cuadrada.T"
      ],
      "execution_count": 74,
      "outputs": [
        {
          "output_type": "stream",
          "name": "stdout",
          "text": [
            "Usando .T\n"
          ]
        },
        {
          "output_type": "execute_result",
          "data": {
            "text/plain": [
              "array([[ 0,  4,  8, 12],\n",
              "       [ 1,  5,  9, 13],\n",
              "       [ 2,  6, 10, 14],\n",
              "       [ 3,  7, 11, 15]])"
            ]
          },
          "metadata": {},
          "execution_count": 74
        }
      ]
    },
    {
      "cell_type": "code",
      "metadata": {
        "id": "plZ_fxD9FN2v",
        "colab": {
          "base_uri": "https://localhost:8080/"
        },
        "outputId": "7ae1c82e-2ee3-45a8-b901-6d14fc4be8d5"
      },
      "source": [
        "matriz_cuadrada"
      ],
      "execution_count": 75,
      "outputs": [
        {
          "output_type": "execute_result",
          "data": {
            "text/plain": [
              "array([[ 0,  1,  2,  3],\n",
              "       [ 4,  5,  6,  7],\n",
              "       [ 8,  9, 10, 11],\n",
              "       [12, 13, 14, 15]])"
            ]
          },
          "metadata": {},
          "execution_count": 75
        }
      ]
    },
    {
      "cell_type": "markdown",
      "metadata": {
        "id": "avIowW4FFN2w"
      },
      "source": [
        "### Concatenar matrices\n",
        "\n",
        "De manera similar a la concatenación de vectores para crear un nuevo vector, podemos concatenar matrices para obtener una nueva matriz , pero ahora poseemos 2 opciones: \n",
        "\n",
        "1. Concatenar por fila.\n",
        "2. Concatenar por columna.\n",
        "\n",
        "Similar a hstack cuando trabajamos con vectores, para concatenar matrices usaremos 3 funciones.\n",
        "\n",
        "1. **np.vstack**: concatenar verticalmente o por fila\n",
        "2. **np.hstack**: concatenar horizontalmente o por columna\n",
        "3. **np.concatenate**: utiliza un parametro nombrado axis para indicar cual de las 2 operaciones realizar , 0 = por fila , 1 = por columna."
      ]
    },
    {
      "cell_type": "code",
      "metadata": {
        "colab": {
          "base_uri": "https://localhost:8080/"
        },
        "id": "YfjTKHNqMIpS",
        "outputId": "910622e0-6101-48b4-9e40-8614ea3b2743"
      },
      "source": [
        "ceros = np.zeros((2,4)) #2 filas y 4 columnas de ceros\n",
        "unos = np.ones((2,3)) # 2 filas y 3 columnas de unos\n",
        "\n",
        "print(ceros)\n",
        "print(unos)"
      ],
      "execution_count": 76,
      "outputs": [
        {
          "output_type": "stream",
          "name": "stdout",
          "text": [
            "[[0. 0. 0. 0.]\n",
            " [0. 0. 0. 0.]]\n",
            "[[1. 1. 1.]\n",
            " [1. 1. 1.]]\n"
          ]
        }
      ]
    },
    {
      "cell_type": "code",
      "metadata": {
        "id": "o2JqDSCLFN2w",
        "outputId": "f58b8236-1952-4158-972f-459bf6e082fa",
        "colab": {
          "base_uri": "https://localhost:8080/"
        }
      },
      "source": [
        "ceros = np.zeros((2,4)) #2 filas y 4 columnas de ceros\n",
        "unos = np.ones((2,3)) # 2 filas y 3 columnas de unos\n",
        "\n",
        "np.hstack((ceros,unos))"
      ],
      "execution_count": 77,
      "outputs": [
        {
          "output_type": "execute_result",
          "data": {
            "text/plain": [
              "array([[0., 0., 0., 0., 1., 1., 1.],\n",
              "       [0., 0., 0., 0., 1., 1., 1.]])"
            ]
          },
          "metadata": {},
          "execution_count": 77
        }
      ]
    },
    {
      "cell_type": "code",
      "metadata": {
        "id": "dwPhJqxPFN2x",
        "colab": {
          "base_uri": "https://localhost:8080/"
        },
        "outputId": "c7d35cdb-7755-491a-8494-439ae012c8a1"
      },
      "source": [
        "a = np.array((1,2,3))\n",
        "b = np.array((2,3,4))\n",
        "np.hstack((a,b))"
      ],
      "execution_count": 78,
      "outputs": [
        {
          "output_type": "execute_result",
          "data": {
            "text/plain": [
              "array([1, 2, 3, 2, 3, 4])"
            ]
          },
          "metadata": {},
          "execution_count": 78
        }
      ]
    },
    {
      "cell_type": "code",
      "metadata": {
        "id": "ueV05DDeFN2y",
        "colab": {
          "base_uri": "https://localhost:8080/"
        },
        "outputId": "583b0a1d-dc97-456f-9d95-d9c65708fcbc"
      },
      "source": [
        "matriz1 = np.array([[1,2,3],\n",
        "                    [4,5,6]])\n",
        "matriz2 = np.array([[-1,-2,-3],\n",
        "                    [-4,-5,-6]])\n",
        "\n",
        "nueva_matriz = np.hstack((matriz1,matriz2))\n",
        "\n",
        "print(nueva_matriz)\n",
        "print(\"Forma:\",nueva_matriz.shape)"
      ],
      "execution_count": 79,
      "outputs": [
        {
          "output_type": "stream",
          "name": "stdout",
          "text": [
            "[[ 1  2  3 -1 -2 -3]\n",
            " [ 4  5  6 -4 -5 -6]]\n",
            "Forma: (2, 6)\n"
          ]
        }
      ]
    },
    {
      "cell_type": "code",
      "metadata": {
        "colab": {
          "base_uri": "https://localhost:8080/"
        },
        "id": "G3bB-HDiNjKM",
        "outputId": "3729d21c-311a-4b7b-c9d2-c96410087d15"
      },
      "source": [
        "matriz1 = np.array([[1,2,3], \n",
        "                    [4,5,6]])\n",
        "\n",
        "#agregando variables a cada observacon\n",
        "np.hstack((matriz1,np.ones(shape=(matriz1.shape[0],1)))) #ejemplo para la parte de proyecto de agregar una columna de 1s"
      ],
      "execution_count": 80,
      "outputs": [
        {
          "output_type": "execute_result",
          "data": {
            "text/plain": [
              "array([[1., 2., 3., 1.],\n",
              "       [4., 5., 6., 1.]])"
            ]
          },
          "metadata": {},
          "execution_count": 80
        }
      ]
    },
    {
      "cell_type": "code",
      "metadata": {
        "colab": {
          "base_uri": "https://localhost:8080/"
        },
        "id": "8VTymVfzPGCL",
        "outputId": "6e93e25c-c214-4dbb-b9c7-1e09910f8681"
      },
      "source": [
        "print(matriz1)\n",
        "print(matriz2)"
      ],
      "execution_count": 81,
      "outputs": [
        {
          "output_type": "stream",
          "name": "stdout",
          "text": [
            "[[1 2 3]\n",
            " [4 5 6]]\n",
            "[[-1 -2 -3]\n",
            " [-4 -5 -6]]\n"
          ]
        }
      ]
    },
    {
      "cell_type": "code",
      "metadata": {
        "id": "Fzco_587FN2z",
        "outputId": "416a8a99-58d1-4cc7-f879-93b5ac69f97c",
        "colab": {
          "base_uri": "https://localhost:8080/"
        }
      },
      "source": [
        "nueva_matriz = np.vstack((matriz1,matriz2)) # agregando observaciones con el mismo numero de variables\n",
        "\n",
        "print(nueva_matriz)\n",
        "print(\"Forma:\",nueva_matriz.shape)"
      ],
      "execution_count": 82,
      "outputs": [
        {
          "output_type": "stream",
          "name": "stdout",
          "text": [
            "[[ 1  2  3]\n",
            " [ 4  5  6]\n",
            " [-1 -2 -3]\n",
            " [-4 -5 -6]]\n",
            "Forma: (4, 3)\n"
          ]
        }
      ]
    },
    {
      "cell_type": "code",
      "metadata": {
        "colab": {
          "base_uri": "https://localhost:8080/"
        },
        "id": "7MdeH3xsQnN2",
        "outputId": "c2fd565d-497b-440a-f990-421c14816826"
      },
      "source": [
        "print(matriz1)\n",
        "print(matriz2)"
      ],
      "execution_count": 83,
      "outputs": [
        {
          "output_type": "stream",
          "name": "stdout",
          "text": [
            "[[1 2 3]\n",
            " [4 5 6]]\n",
            "[[-1 -2 -3]\n",
            " [-4 -5 -6]]\n"
          ]
        }
      ]
    },
    {
      "cell_type": "code",
      "metadata": {
        "id": "o4DBHRL7FN21",
        "colab": {
          "base_uri": "https://localhost:8080/"
        },
        "outputId": "31b74152-e28f-4b39-d3d5-3063a8dcd075"
      },
      "source": [
        "nueva_matrix = np.concatenate((matriz1,matriz2),axis=1)\n",
        "\n",
        "print(nueva_matriz)\n",
        "print(\"Forma:\",nueva_matriz.shape)"
      ],
      "execution_count": 84,
      "outputs": [
        {
          "output_type": "stream",
          "name": "stdout",
          "text": [
            "[[ 1  2  3]\n",
            " [ 4  5  6]\n",
            " [-1 -2 -3]\n",
            " [-4 -5 -6]]\n",
            "Forma: (4, 3)\n"
          ]
        }
      ]
    },
    {
      "cell_type": "markdown",
      "metadata": {
        "id": "vJge2pOoFN22"
      },
      "source": [
        "### ufuncs(universal functions)\n",
        "\n",
        "Ufuncs son funciones que trabajan de manera general independiente de la dimension del objeto al que sean aplicadas, esto significa que la misma función puede ser utilizada sobre valores **escalares**  o sobre **tensores** de cualquier dimensión, en este caso sobre matrices. Cuando es aplicada sobre tensores esta trabaja elemento por elemento soportando \"broadcasting\" .\n",
        "\n",
        "NumPy provee una gran colección de ufuncs comunes en ciencias y que serán muy útiles en data science, ya hemos usado algunas por ejemplo: **np.sin(tensor)** , muchas comunes y que te serán familares son:\n",
        "\n",
        "* np.sign: determinar el signo de un número\n",
        "* np.abs: valor absoluto de un número\n",
        "* np.cos: coseno de un angulo en radianes\n",
        "* np.sin : seno de un angulo en radianes\n",
        "* np.tan : tangente de un angulo en radianes\n",
        "* np.exp : función exponencial e** x\n",
        "* np.log: logaritmo natural\n",
        "* np.log10 : logaritmo base 10\n",
        "* np.log2 : logaritmo base 2\n",
        "* np.sqrt : raiz cuadrada\n",
        "* np.power : potenciacion\n",
        "\n",
        "Al ser aplicadas sobre matrices , las ufuncs obtienen como resultado una matriz con la misma forma de la matriz sobre la que se ejecuta la función resultado de aplicar la función elemento por elemento.\n",
        "\n",
        "Al trabajar una aplicación numérica/científica es recomendable tener a la mano la documentación de las funciones disponibles : https://docs.scipy.org/doc/numpy-1.15.1/reference/routines.math.html\n",
        "\n",
        "#### Nota: \n",
        "En algunos casos requeriremos crear nuestras propias funciones y es recomendable que se apeguen a las ufuncs, es decir que se puedan aplicar independiente de la dimensión del objeto al que se aplican, que soporten broadcasting y muy importante **que su definición evite ciclos y use operaciones vectorizadas y otras ufuncs** , esto será parte de los criterios de evaluación en tareas y exámenes en este curso."
      ]
    },
    {
      "cell_type": "code",
      "metadata": {
        "id": "5YXUGPfIFuji",
        "colab": {
          "base_uri": "https://localhost:8080/",
          "height": 1000
        },
        "outputId": "15e8875f-45bb-4a82-a5e3-b301acab333b"
      },
      "source": [
        "import numpy as np\n",
        "import seaborn as sns #instalarlo con anaconda\n",
        "from matplotlib import pyplot as plt \n",
        "\n",
        "x = np.random.randn(1000,6)\n",
        "\n",
        "fig, axs = plt.subplots(nrows=6)\n",
        "\n",
        "for i in range(6):\n",
        "  sns.displot(x[:,i], kde=True,ax=axs[i])\n",
        "\n",
        "plt.show()"
      ],
      "execution_count": 85,
      "outputs": [
        {
          "output_type": "stream",
          "name": "stderr",
          "text": [
            "/usr/local/lib/python3.7/dist-packages/seaborn/distributions.py:2211: UserWarning: `displot` is a figure-level function and does not accept the ax= paramter. You may wish to try histplot.\n",
            "  warnings.warn(msg, UserWarning)\n",
            "/usr/local/lib/python3.7/dist-packages/seaborn/distributions.py:2211: UserWarning: `displot` is a figure-level function and does not accept the ax= paramter. You may wish to try histplot.\n",
            "  warnings.warn(msg, UserWarning)\n",
            "/usr/local/lib/python3.7/dist-packages/seaborn/distributions.py:2211: UserWarning: `displot` is a figure-level function and does not accept the ax= paramter. You may wish to try histplot.\n",
            "  warnings.warn(msg, UserWarning)\n",
            "/usr/local/lib/python3.7/dist-packages/seaborn/distributions.py:2211: UserWarning: `displot` is a figure-level function and does not accept the ax= paramter. You may wish to try histplot.\n",
            "  warnings.warn(msg, UserWarning)\n",
            "/usr/local/lib/python3.7/dist-packages/seaborn/distributions.py:2211: UserWarning: `displot` is a figure-level function and does not accept the ax= paramter. You may wish to try histplot.\n",
            "  warnings.warn(msg, UserWarning)\n",
            "/usr/local/lib/python3.7/dist-packages/seaborn/distributions.py:2211: UserWarning: `displot` is a figure-level function and does not accept the ax= paramter. You may wish to try histplot.\n",
            "  warnings.warn(msg, UserWarning)\n"
          ]
        },
        {
          "output_type": "display_data",
          "data": {
            "text/plain": [
              "<Figure size 432x288 with 6 Axes>"
            ],
            "image/png": "[encoded data removed]"
          },
          "metadata": {
            "needs_background": "light"
          }
        },
        {
          "output_type": "display_data",
          "data": {
            "text/plain": [
              "<Figure size 360x360 with 1 Axes>"
            ],
            "image/png": "[encoded data removed]"
          },
          "metadata": {
            "needs_background": "light"
          }
        },
        {
          "output_type": "display_data",
          "data": {
            "text/plain": [
              "<Figure size 360x360 with 1 Axes>"
            ],
            "image/png": "[encoded data removed]"
          },
          "metadata": {
            "needs_background": "light"
          }
        },
        {
          "output_type": "display_data",
          "data": {
            "text/plain": [
              "<Figure size 360x360 with 1 Axes>"
            ],
            "image/png": "[encoded data removed]"
          },
          "metadata": {
            "needs_background": "light"
          }
        },
        {
          "output_type": "display_data",
          "data": {
            "text/plain": [
              "<Figure size 360x360 with 1 Axes>"
            ],
            "image/png": "[encoded data removed]"
          },
          "metadata": {
            "needs_background": "light"
          }
        },
        {
          "output_type": "display_data",
          "data": {
            "text/plain": [
              "<Figure size 360x360 with 1 Axes>"
            ],
            "image/png": "[encoded data removed]"
          },
          "metadata": {
            "needs_background": "light"
          }
        },
        {
          "output_type": "display_data",
          "data": {
            "text/plain": [
              "<Figure size 360x360 with 1 Axes>"
            ],
            "image/png": "[encoded data removed]"
          },
          "metadata": {
            "needs_background": "light"
          }
        }
      ]
    },
    {
      "cell_type": "markdown",
      "metadata": {
        "id": "vZv3BTtTHyNb"
      },
      "source": [
        ""
      ]
    },
    {
      "cell_type": "code",
      "metadata": {
        "id": "acn_tc_vHzeH",
        "colab": {
          "base_uri": "https://localhost:8080/"
        },
        "outputId": "845357f1-1048-455c-d0d3-7de5c88741ab"
      },
      "source": [
        "bool(10) and True "
      ],
      "execution_count": 86,
      "outputs": [
        {
          "output_type": "execute_result",
          "data": {
            "text/plain": [
              "True"
            ]
          },
          "metadata": {},
          "execution_count": 86
        }
      ]
    },
    {
      "cell_type": "code",
      "metadata": {
        "id": "18XvYOuxFN22",
        "colab": {
          "base_uri": "https://localhost:8080/"
        },
        "outputId": "fc18d348-891c-414b-dfc3-45abd862e880"
      },
      "source": [
        "x = np.matrix([[1,2,3,4],\n",
        "               [5,6,7,8],\n",
        "               [-1,-2,-3,-4]])\n",
        "\n",
        "print(\"Signo:\")\n",
        "print(np.sign(x))\n",
        "print(\"Valor absoluto:\")\n",
        "print(np.abs(x))\n",
        "print(\"Coseno:\")\n",
        "print(np.cos(x))\n",
        "print(\"Seno:\")\n",
        "print(np.sin(x))\n",
        "print(\"Tangente:\")\n",
        "print(np.tan(x))\n",
        "print(\"Exponencial:\")\n",
        "print(np.exp(x))\n",
        "print(\"Logaritmo natural:\")\n",
        "print(np.log(x))"
      ],
      "execution_count": 87,
      "outputs": [
        {
          "output_type": "stream",
          "name": "stdout",
          "text": [
            "Signo:\n",
            "[[ 1  1  1  1]\n",
            " [ 1  1  1  1]\n",
            " [-1 -1 -1 -1]]\n",
            "Valor absoluto:\n",
            "[[1 2 3 4]\n",
            " [5 6 7 8]\n",
            " [1 2 3 4]]\n",
            "Coseno:\n",
            "[[ 0.54030231 -0.41614684 -0.9899925  -0.65364362]\n",
            " [ 0.28366219  0.96017029  0.75390225 -0.14550003]\n",
            " [ 0.54030231 -0.41614684 -0.9899925  -0.65364362]]\n",
            "Seno:\n",
            "[[ 0.84147098  0.90929743  0.14112001 -0.7568025 ]\n",
            " [-0.95892427 -0.2794155   0.6569866   0.98935825]\n",
            " [-0.84147098 -0.90929743 -0.14112001  0.7568025 ]]\n",
            "Tangente:\n",
            "[[ 1.55740772 -2.18503986 -0.14254654  1.15782128]\n",
            " [-3.38051501 -0.29100619  0.87144798 -6.79971146]\n",
            " [-1.55740772  2.18503986  0.14254654 -1.15782128]]\n",
            "Exponencial:\n",
            "[[2.71828183e+00 7.38905610e+00 2.00855369e+01 5.45981500e+01]\n",
            " [1.48413159e+02 4.03428793e+02 1.09663316e+03 2.98095799e+03]\n",
            " [3.67879441e-01 1.35335283e-01 4.97870684e-02 1.83156389e-02]]\n",
            "Logaritmo natural:\n",
            "[[0.         0.69314718 1.09861229 1.38629436]\n",
            " [1.60943791 1.79175947 1.94591015 2.07944154]\n",
            " [       nan        nan        nan        nan]]\n"
          ]
        },
        {
          "output_type": "stream",
          "name": "stderr",
          "text": [
            "/usr/local/lib/python3.7/dist-packages/ipykernel_launcher.py:18: RuntimeWarning: invalid value encountered in log\n"
          ]
        }
      ]
    },
    {
      "cell_type": "code",
      "metadata": {
        "id": "MioQP56qFN23",
        "colab": {
          "base_uri": "https://localhost:8080/"
        },
        "outputId": "8b905556-ddd5-478c-b77a-d1588258178e"
      },
      "source": [
        "print(\"Logaritmo base 2:\")\n",
        "print(np.log2(x))"
      ],
      "execution_count": 88,
      "outputs": [
        {
          "output_type": "stream",
          "name": "stdout",
          "text": [
            "Logaritmo base 2:\n",
            "[[0.         1.         1.5849625  2.        ]\n",
            " [2.32192809 2.5849625  2.80735492 3.        ]\n",
            " [       nan        nan        nan        nan]]\n"
          ]
        },
        {
          "output_type": "stream",
          "name": "stderr",
          "text": [
            "/usr/local/lib/python3.7/dist-packages/ipykernel_launcher.py:2: RuntimeWarning: invalid value encountered in log2\n",
            "  \n"
          ]
        }
      ]
    },
    {
      "cell_type": "code",
      "metadata": {
        "id": "ORdyf5flFN24",
        "colab": {
          "base_uri": "https://localhost:8080/"
        },
        "outputId": "cec7a82c-8cbb-411a-f301-7e703866f2f4"
      },
      "source": [
        "print(\"Raiz cuadrada:\")\n",
        "print(np.sqrt(x))"
      ],
      "execution_count": 89,
      "outputs": [
        {
          "output_type": "stream",
          "name": "stdout",
          "text": [
            "Raiz cuadrada:\n",
            "[[1.         1.41421356 1.73205081 2.        ]\n",
            " [2.23606798 2.44948974 2.64575131 2.82842712]\n",
            " [       nan        nan        nan        nan]]\n"
          ]
        },
        {
          "output_type": "stream",
          "name": "stderr",
          "text": [
            "/usr/local/lib/python3.7/dist-packages/ipykernel_launcher.py:2: RuntimeWarning: invalid value encountered in sqrt\n",
            "  \n"
          ]
        }
      ]
    },
    {
      "cell_type": "code",
      "metadata": {
        "id": "7E6cT9AZFN25",
        "colab": {
          "base_uri": "https://localhost:8080/"
        },
        "outputId": "a899e030-fc93-43dd-b4ba-2f1e28223022"
      },
      "source": [
        "print(\"Exponenciacion(cuadrado):\")\n",
        "print(np.power(x,2))"
      ],
      "execution_count": 90,
      "outputs": [
        {
          "output_type": "stream",
          "name": "stdout",
          "text": [
            "Exponenciacion(cuadrado):\n",
            "[[ 1  4  9 16]\n",
            " [25 36 49 64]\n",
            " [ 1  4  9 16]]\n"
          ]
        }
      ]
    },
    {
      "cell_type": "markdown",
      "metadata": {
        "id": "AHOXHvWpFN26"
      },
      "source": [
        "#### Nota: \n",
        "En algunos casos requeriremos crear nuestras propias funciones y es recomendable que se apeguen a las ufuncs, es decir que se puedan aplicar independiente de la dimensión del objeto al que se aplican, que soporten broadcasting y muy importante **que su definición evite ciclos y use operaciones vectorizadas y otras ufuncs** , esto será parte de los criterios de evaluación en tareas y exámenes en este curso."
      ]
    },
    {
      "cell_type": "markdown",
      "source": [
        "# Ejercicios Clase 08 Numpy"
      ],
      "metadata": {
        "id": "FbCFYkMNlleX"
      }
    },
    {
      "cell_type": "markdown",
      "source": [
        "\n",
        "**Ejemplo en DS** : en inteligencia artificial y ML en la sub-rama \"reinforcement learning\" la \"ecuacion de bellman\" puede aplicarse de manera vectorizada a traves del operar vectores, matrices y escalares en una sola expresión.\n",
        "\n",
        "<img src=\"https://rebornhugo.github.io/assets/images/post_images/%E5%BC%BA%E5%8C%96%E5%AD%A6%E4%B9%A02/bellman%20equation2.PNG\">\n",
        "\n",
        "* n = número de estados del sistema.\n",
        "* V(s) = vector que representa el valor esperado para cierto estado\n",
        "* R = recompensa inmediata percibida por el agente al salir de cierto estado.(vector)\n",
        "* P = matriz de transicion de la cadena de Markov sub-yacente.(matriz)\n",
        "* γ = factor de descuento de recompensas futuras(escalar)\n",
        "\n",
        "Calcular V(s) para el siguiente sistema aplicando la ecuación de bellman de manera vectorizada."
      ],
      "metadata": {
        "id": "F0JZk7S1lwBg"
      }
    },
    {
      "cell_type": "code",
      "source": [
        "V = np.array([0,0,0]) # valor inicial de V(s)\n",
        "R = np.array([10,2,5]) # vector de recompensas\n",
        "P = np.array([[0.5,0.25,0.25],\n",
        "              [0.2,0.40,0.40],\n",
        "              [0.80,0.10,0.10]])  # matriz de transición\n",
        "gamma = 0.99\n",
        "\n",
        "VT=np.reshape(V,(len(V),1))\n",
        "RT=np.reshape(R,(len(R),1))\n",
        "VS = RT + (np.matmul(P,VT)*gamma)\n",
        "print(VS)"
      ],
      "metadata": {
        "colab": {
          "base_uri": "https://localhost:8080/"
        },
        "id": "r8dy-MJEl0Fx",
        "outputId": "d95bf01b-3c59-447f-be4c-9e61e7414af1"
      },
      "execution_count": 91,
      "outputs": [
        {
          "output_type": "stream",
          "name": "stdout",
          "text": [
            "[[10.]\n",
            " [ 2.]\n",
            " [ 5.]]\n"
          ]
        }
      ]
    },
    {
      "cell_type": "markdown",
      "source": [
        "**Ejercicio aplicado en DS**\n",
        "Se tiene una red neuronal sencilla(y simplificada) como la de la siguiente imagen:\n",
        "<img src=\"https://www.oreilly.com/library/view/practical-convolutional-neural/9781788392303/assets/246151fb-7893-448d-b9bb-7a87b387a24b.png\">\n",
        "\n",
        "Donde:\n",
        "* INPUT LAYER: un vector X de tamaño = 2 que representa los datos de entrada\n",
        "* HIDDEN_LAYER :capa oculta con 2 neuronas definidas por los vectores:\n",
        "    * HL1 = [0.25,0.37]\n",
        "    * HL2 = [-8,14]\n",
        "* OUTPUT_LAYER = capa de salida definida por el vector [4,9]\n",
        "\n",
        "Crear una funcion neural_network(X) para calcular:\n",
        "* Calcule la salida de cada neurona en la capa intermedia aplicada a la capa de entrada.\n",
        "* Use el resultado del paso anterior como entrada para la neurona en la capa de salida\n",
        "\n",
        "Utilizando multiplicación de matrices se debe calcular para cada fila de la matriz de entrada X el valor de las neuronas de la capa intermedia, esto producirá una nueva matriz con el mismo número de filas que X y 2 columnas(1 para cada neurona) , a  los valores de esta matriz se les debe aplicar la función \"sigmoid\"(descrita a continuación) para limitarlos al intervalo de 0 a 1, esto produce una matriz del mismo tamaño pero con valores entre 0 a 1, esta matriz se multiplica matricialmente por la matriz que representa los pesos de la capa de salida  y este proceso produce un nuevo tensor al cual se debe aplicar nuevamente la función sigmoid. El resultado debe ser un tensor con el mismo número de filas que la matriz X y una sola columna(una predicción para cada fila de X.\n",
        "\n",
        "<img src=\"https://cdn-images-1.medium.com/max/1600/1*Xu7B5y9gp0iL5ooBj7LtWw.png\">"
      ],
      "metadata": {
        "id": "YiLp9mcjl6Jo"
      }
    },
    {
      "cell_type": "code",
      "source": [
        "def sigmoid(x): #convertir los valores de x al rango de 0 a 1\n",
        "    \n",
        "    return 1/(1+np.exp(-x))"
      ],
      "metadata": {
        "id": "yvofpL56l-Ex"
      },
      "execution_count": 92,
      "outputs": []
    },
    {
      "cell_type": "code",
      "source": [
        "H1_W = np.array([[0.25,-8],\n",
        "                 [0.37,14]])\n",
        "OL_W = np.array([[4],[9]])\n",
        "\n",
        "X =  np.array([[0.1,0.2],\n",
        "               [1,2]])\n",
        "\n",
        "H1 = np.matmul(X,H1_W)\n",
        "H1 = sigmoid(H1)  # funcion de activacion: convertir a valores en el intervalo de 0 a 1\n",
        "OL = np.matmul(H1,OL_W)\n",
        "OL = sigmoid(OL)  # funcion de activacion: convertir a valores en el intervalo de 0 a 1\n",
        "\n",
        "\n",
        "print(OL)"
      ],
      "metadata": {
        "colab": {
          "base_uri": "https://localhost:8080/"
        },
        "id": "Ayffs9znl_Av",
        "outputId": "ec2d533b-065b-4421-fafa-44fadc222d48"
      },
      "execution_count": 93,
      "outputs": [
        {
          "output_type": "stream",
          "name": "stdout",
          "text": [
            "[[0.99995577]\n",
            " [0.99999332]]\n"
          ]
        }
      ]
    },
    {
      "cell_type": "markdown",
      "source": [
        "### Ejercicio \n",
        "\n",
        "Implementar en una funcion neural_network(X) la red neuronal definida por la siguiente arquitectura:\n",
        "\n",
        "<img src=\"http://i.imgur.com/UNlffE1.png\">\n",
        "\n",
        "Podemos validar si fue correctamente implementada si usamos como entrada el vector x=[1,1] . Debemos obtener el resultado mostrado en la imagen.\n",
        "\n",
        "Una vez tenemos la implementacion correcta, cambiar la funcion de activacion de la capa de salida por la funcion de activacion ReLu(https://en.wikipedia.org/wiki/Rectifier_(neural_networks)):\n",
        "\n",
        "<img src=\"https://cdn-images-1.medium.com/max/1600/1*DfMRHwxY1gyyDmrIAd-gjQ.png\">\n",
        "\n",
        "Luego evaluar la red neuronal sobre la matriz de datos X(de manera vectorizada):"
      ],
      "metadata": {
        "id": "PaNNQR3gmErl"
      }
    },
    {
      "cell_type": "code",
      "source": [
        "def F(x): #convertir los valores de x al rango de 0 a 1\n",
        "    \n",
        "    return np.piecewise(x, [x<0,x>=0],[lambda x: 0,lambda x: x])"
      ],
      "metadata": {
        "id": "9UtcIRDAmGh9"
      },
      "execution_count": 94,
      "outputs": []
    },
    {
      "cell_type": "code",
      "source": [
        "H1_W = np.array([[0.712,0.355,0.268],\n",
        "                 [0.112,0.855,0.468]])\n",
        "OL_W = np.array([[0.116],[0.329],[0.708]])\n",
        "\n",
        "X =  np.array([[1,1]])\n",
        "\n",
        "H1 = np.matmul(X,H1_W)\n",
        "H1 = F(H1)  # funcion de activacion F\n",
        "OL = np.matmul(H1,OL_W)\n",
        "OL = F(OL)  # funcion de activacion F\n",
        "\n",
        "print(OL)"
      ],
      "metadata": {
        "colab": {
          "base_uri": "https://localhost:8080/"
        },
        "id": "SUWGT7YdmQe7",
        "outputId": "2753da66-b770-4fdb-ea75-d4fb4e27d954"
      },
      "execution_count": 95,
      "outputs": [
        {
          "output_type": "stream",
          "name": "stdout",
          "text": [
            "[[1.014762]]\n"
          ]
        }
      ]
    },
    {
      "cell_type": "code",
      "source": [
        "X = np.array([\n",
        "    [0.1,2],\n",
        "    [0.3,0.45],\n",
        "    [5,9],\n",
        "    [12,6],\n",
        "    [7,5],\n",
        "    [0.3,0.8],\n",
        "    [12,5],\n",
        "    [100,200],\n",
        "    [7,8],\n",
        "    [300,1500]])\n",
        "\n",
        "\n",
        "H1 = np.matmul(X,H1_W)\n",
        "H1 = F(H1)  # funcion de activacion F\n",
        "OL = np.matmul(H1,OL_W)\n",
        "OL = F(OL)  # funcion de activacion F\n",
        "\n",
        "print(OL)"
      ],
      "metadata": {
        "colab": {
          "base_uri": "https://localhost:8080/"
        },
        "id": "_CjKyCkTmUbA",
        "outputId": "ab1df214-714d-4ec9-a8bb-11326e5408f8"
      },
      "execution_count": 96,
      "outputs": [
        {
          "output_type": "stream",
          "name": "stdout",
          "text": [
            "[[1.2901751e+00]\n",
            " [3.9827325e-01]\n",
            " [7.5763340e+00]\n",
            " [8.4233580e+00]\n",
            " [5.8520720e+00]\n",
            " [6.1724410e-01]\n",
            " [7.7977270e+00]\n",
            " [1.6403930e+02]\n",
            " [7.7289650e+00]\n",
            " [1.0551858e+03]]\n"
          ]
        }
      ]
    },
    {
      "cell_type": "code",
      "source": [
        "y = np.array([100,200,300,800])\n",
        "x = np.array([1,2,3,8])\n",
        "unos = np.array([1,1,1,1])\n",
        "\n",
        "\n",
        "#y_aprox = mx + b*(1)\n",
        "\n",
        "parametros = np.array([100,0.01])\n",
        "x_modificado = np.vstack((x,unos)).T\n",
        "y_aprox = np.matmul(x_modificado,parametros)\n",
        "\n",
        "print(y_aprox -y)"
      ],
      "metadata": {
        "colab": {
          "base_uri": "https://localhost:8080/"
        },
        "id": "NPy5HuWzmXZJ",
        "outputId": "66991ce2-76b8-48bd-d05b-56ee49389620"
      },
      "execution_count": 97,
      "outputs": [
        {
          "output_type": "stream",
          "name": "stdout",
          "text": [
            "[0.01 0.01 0.01 0.01]\n"
          ]
        }
      ]
    }
  ]
}