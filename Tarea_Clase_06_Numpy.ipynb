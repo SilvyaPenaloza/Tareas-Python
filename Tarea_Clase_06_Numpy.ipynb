{
  "nbformat": 4,
  "nbformat_minor": 0,
  "metadata": {
    "kernelspec": {
      "display_name": "Python 3",
      "language": "python",
      "name": "python3"
    },
    "language_info": {
      "codemirror_mode": {
        "name": "ipython",
        "version": 3
      },
      "file_extension": ".py",
      "mimetype": "text/x-python",
      "name": "python",
      "nbconvert_exporter": "python",
      "pygments_lexer": "ipython3",
      "version": "3.7.2"
    },
    "colab": {
      "name": "Tarea Clase_06_Numpy.ipynb",
      "provenance": [],
      "collapsed_sections": [
        "dpTxVAeOaxs-",
        "IEhuGnCJaxtT",
        "mggBAMXWaxtU",
        "NQsZTEy3axtd",
        "RdpBYHliaxte",
        "Nzg9gVdoaxtj",
        "TVcTQSn8axts",
        "7NGf_2y5axtu",
        "XTSzWXdsaxt1",
        "GGDfc5t_axt4",
        "uFI8KNdLaxt9",
        "80bTM6XbaxuJ",
        "AZnrBQW6axuV"
      ]
    }
  },
  "cells": [
    {
      "cell_type": "markdown",
      "metadata": {
        "id": "pydYdlvTaxr0"
      },
      "source": [
        "# NumPy y algebra lineal(parte 1) \n",
        "\n",
        "\n",
        "* Su nombre se deriva de Numeric Python\n",
        "* Es una libreria amplia:   user guide de casi 200 pagina, reference manual mas de 1500\n",
        "    * np. <tab> para ver opciones\n",
        "    * np.lookfor? , help(np.lookfor)\n",
        "    * np.lookfor(“cosine”)\n",
        "    * np.cos? , help(np.cos)\n",
        "* Paquete fundamental de computación científica en Python y báse para otros paquetes mas específicos y/o avanzados\n",
        "* Performance superior, parecido a lenguajes compilados con la facilidad de Python\n",
        "* ndarrays :  tipo básico de objeto, corresponde al tipo de objeto matemático conocido como Tensor\n",
        "    * Arreglos multidimensionales\n",
        "    * Mutables como las listas\n",
        "    * Podemos hacer indexing y slicing sobre ellos\n",
        "\n",
        "* Tipo de dato y tamaño fijado en creación lo cual le permite aplicar optimizaciones: El usar el mismo tipo y tamaño definido permite asegurar que todos los objetos utilizan el mismo tamaño de memoria y esto permite realizar muchas operaciones pre-compiladas de C. Esto permite realizar operaciones mucho mas efcientemente y con menos código que con listas.\n",
        "* Operaciones vectorizadas vs por ciclos como ventaja de numpy(simplicidad y eficiencia) **Nota**: Siempre usar vectorizacion en el curso y en la carrera.\n",
        "\n",
        "## ¿Por que estudiamos en ciencia de datos álgebra lineal?\n",
        "\n",
        "Algebra lineal es una bella rama de la matemáticas que tiene muchas aplicaciones en diversas áreas, en ciencias de la computación y ciencia de datos tiene también innumerables aplicaciones  pero existe un motivo por el cual se vuelve escencial :\n",
        "\n",
        "**Todo algoritmo, modelo matemático, estadístico ,  AI , etc trabaja con números y colecciones de estos**, aún los modelos para variables categóricas transforman de algún modo estas a una representación numérica, en ciencia de datos llamamos **embedding** al proceso de convertir datos no numéricos a representaciones numéricas y a las estructuras de datos resultantes(comunmente vectores) **embeddings** .\n",
        "\n",
        "Podemos pensar entonces que el algebra lineal y sus estructuras entonces nos proveen una **manera de representar y trabajar información en la computadora**\n",
        "\n",
        "<img src=\"https://upload.wikimedia.org/wikipedia/commons/thumb/4/45/Components_stress_tensor.svg/300px-Components_stress_tensor.svg.png\"/>\n",
        "\n",
        "### Ejemplos:\n",
        "\n",
        "* Computer Vision: imagenes son tensores\n",
        "* NLP: palabras son vectores.\n",
        "\n",
        "Algebra lineal por si solo es un campo amplio(algunas universidades dan 2 cursos de 1 semestre o mas del tema) y no podemos cubrir todo lo que nos gustaría en esta clase, pero existe gran variedad de recursos en internet y es un tema que agrega valor en tu carrera de data science, especialmente si tu interés principal es ML y AI. Por ejemplo:\n",
        "\n",
        "* Uno de los algoritmos mas famosos de ML: support VECTOR machine\n",
        "* Uno de los metodos mas populares de AI en la actualidad es \"deep learning\" que se basa en transformaciones lineales (multiplicación de matrices).\n",
        "* Los frameworks mas populares de ML tienen al algebra lineal como elemento base:\n",
        "    * TensorFlow incluso basa su nombre en la estructura básica: Tensor\n",
        "    * PyTorch: en Pytorch, la estructura de datos básica es precisamente el Tensor\n",
        "    \n",
        "\n",
        "### ¿NumPy mas que algebra lineal?\n",
        "\n",
        "Aun que NumPy se basa mucho y es muy útil para algebra lineal y estructuras de esta rama, también es útil para realizar otros tipos de operaciones numéricas y es la base  para otros paquetes mas específicos , por ejemplo podemos usar NumPy también para:\n",
        "\n",
        "* Numeros aleatorios: NumPy provee capacidades para trabajar con números aleatorios y colecciones de esto, por ejemplo generación de numeros aleatorios de muchas distribuciones de probabiliad(muestreo/sampleo) escencial en estadística y modelación y simulación.\n",
        "* Transormadas de Fourier\n",
        "* Scipy: paquete basado en Python que extiende muchas de sus capacidades con capacidades adicionales como:\n",
        "    * Integración y solución de ecuaciones diferenciales.\n",
        "    * Encontrar raices de funciones y optimización numérica.\n",
        "    * Algebra lineal adicional.\n",
        "    \n",
        "    \n",
        "    \n",
        "Para usar NumPy es necesario instalarlo, si usamos Anaconda debemos instalarlo en el ambiente deseado, en linea de comandos esto se gra facilmente con:\n",
        "\n",
        "**conda install numpy**"
      ]
    },
    {
      "cell_type": "markdown",
      "metadata": {
        "id": "Uh5wKIWYaxsP"
      },
      "source": [
        "# Instalar numpy desde el jupyter notebook en el ambiente actual de Anaconda\n",
        "# esto puede ser realizado de manera tradicional con linea de comandos o Anaconda Navigator\n",
        "import sys\n",
        "!conda install --yes --prefix {sys.prefix} numpy\n",
        "\n",
        "# ! ejecuta un comando del sistema desde el notebook, el comando ejecutado fue:\n",
        "print(\"Comando ejecutado:conda install --yes --prefix {\"+sys.prefix+\"} numpy\")"
      ]
    },
    {
      "cell_type": "markdown",
      "metadata": {
        "id": "J3aAEmNxaxsR"
      },
      "source": [
        "Para poder utilizar numpy debemos importar el paquete, es casi un estandar de la industria importarlo bajo el alias **\"np\"**"
      ]
    },
    {
      "cell_type": "code",
      "metadata": {
        "id": "bqWr8RdPaxsT"
      },
      "source": [
        "import numpy as np"
      ],
      "execution_count": 1,
      "outputs": []
    },
    {
      "cell_type": "code",
      "source": [
        "def valInt(tupla):\n",
        "  for i in tupla:\n",
        "    if i not in range(1,4):\n",
        "      return False\n",
        "  return True\n",
        "\n",
        "tupla = tuple(map(int, input().split()))\n",
        "if valInt(tupla):\n",
        "  print(np.zeros(tupla))\n",
        "  print(np.ones(tupla))\n"
      ],
      "metadata": {
        "colab": {
          "base_uri": "https://localhost:8080/"
        },
        "id": "sNE3b0Rjlio3",
        "outputId": "73b797ee-6a83-498c-8ac5-9a01a3796b3f"
      },
      "execution_count": 2,
      "outputs": [
        {
          "output_type": "stream",
          "name": "stdout",
          "text": [
            "1\n",
            "[0.]\n",
            "[1.]\n"
          ]
        }
      ]
    },
    {
      "cell_type": "code",
      "source": [
        "import numpy as np\n",
        "np.set_printoptions(legacy='1.13')\n",
        "\n",
        "A = np.array(list(map(float, input().split())))\n",
        "#A = np.array([1.1, 2.2, 3.3, 4.4, 5.5, 6.6, 7.7, 8.8, 9.9])\n",
        "print(np.floor(A))\n",
        "print(np.ceil(A))\n",
        "print(np.rint(A))"
      ],
      "metadata": {
        "colab": {
          "base_uri": "https://localhost:8080/"
        },
        "id": "Tjhm_CAkw3ZC",
        "outputId": "1a3a3b53-fcb3-4775-dad9-08b56429c276"
      },
      "execution_count": 3,
      "outputs": [
        {
          "output_type": "stream",
          "name": "stdout",
          "text": [
            "1\n",
            "[ 1.]\n",
            "[ 1.]\n",
            "[ 1.]\n"
          ]
        }
      ]
    },
    {
      "cell_type": "code",
      "source": [
        "np.lookfor(\"cosine\")"
      ],
      "metadata": {
        "colab": {
          "base_uri": "https://localhost:8080/"
        },
        "id": "iDzEwY9oQpv4",
        "outputId": "1478028b-7f27-4ba7-dca9-d88f42358868"
      },
      "execution_count": 4,
      "outputs": [
        {
          "output_type": "stream",
          "name": "stdout",
          "text": [
            "Search results for 'cosine'\n",
            "---------------------------\n",
            "numpy.cos\n",
            "    Cosine element-wise.\n",
            "numpy.cosh\n",
            "    Hyperbolic cosine, element-wise.\n",
            "numpy.arccos\n",
            "    Trigonometric inverse cosine, element-wise.\n",
            "numpy.arccosh\n",
            "    Inverse hyperbolic cosine, element-wise.\n",
            "numpy.hamming\n",
            "    Return the Hamming window.\n",
            "numpy.hanning\n",
            "    Return the Hanning window.\n",
            "numpy.ma.cos\n",
            "    Cosine element-wise.\n",
            "numpy.ma.cosh\n",
            "    Hyperbolic cosine, element-wise.\n",
            "numpy.ma.arccos\n",
            "    Trigonometric inverse cosine, element-wise.\n",
            "numpy.ma.arccosh\n",
            "    Inverse hyperbolic cosine, element-wise.\n",
            "numpy.blackman\n",
            "    Return the Blackman window."
          ]
        }
      ]
    },
    {
      "cell_type": "markdown",
      "metadata": {
        "id": "fxvMDqpLaxsV"
      },
      "source": [
        "## Escalares y Vectores (Arreglos de una dimension): \n",
        "\n",
        "La pieza clave y fundamental para el algebra lineal es el **vector** (pero aun que el vector es la base, hay un objeto mas general que este como veremos mas adelante.).\n",
        "\n",
        "<img src=\"https://raw.githubusercontent.com/llealgt/Galileo_Python_DS/main/NumPy_algebra_lineal/Seleccion_999_2003.png\">\n",
        "\n",
        "<img src=\"https://raw.githubusercontent.com/llealgt/Galileo_Python_DS/main/NumPy_algebra_lineal/fisica_cs.png\">\n",
        "\n",
        "Matemáticamente el Tensor es la entidad mas general cuando hablamos de arreglos o colecciones de elementos y que comunmente representan coordenadas en un plano posiblemente multidimensional, por lo tanto al traducirlo a software científico un tensor es también la estructura mas general para trabajar ,y es la estructura de datos básica en la cual almacenaremos información, **NumPy logra esto a través del objeto ndarray**(tensorflow usa tf.Tensor, PyTorch usa  torch.Tensor).\n",
        "\n",
        "<img src=\"https://upload.wikimedia.org/wikipedia/commons/thumb/4/45/Components_stress_tensor.svg/300px-Components_stress_tensor.svg.png\"/>\n",
        "\n",
        "<img src=\"https://wikimedia.org/api/rest_v1/media/math/render/svg/4885fc71da8be5094bf42dd592882a4deb94ff90\">\n",
        "\n",
        "\n",
        "\n",
        "Ya que el tensor es el tipo general , los objetos con los que comunmente hemos trabajado como vectores y matrices deben ser un caso específico de tensores, por lo tanto podemos pensar que un tensor es: **una generalización de vectores y matrices que podemos conceptualizar o entender como una arreglo multidimensional**\n",
        "\n",
        "Si todos estos son tensores, debe haber una propiedad de los tensores que los distinga, esta propiedad es llamada **rango del tensor** y se define como el número de indices o coordenadas necesarias para referenciar a un elemento del tensor así tenemos:\n",
        "\n",
        "* Escalar: tensor de rango 0\n",
        "* Vector: tensores de rango 1\n",
        "\n",
        "Ilustración 1:\n",
        "\n",
        "<img src=\"https://cdn-images-1.medium.com/max/1600/1*pUr-9ctuGamgjSwoW_KU-A.png\">\n",
        "\n",
        "Ilustración 2:\n",
        "\n",
        "<img src=\"https://cdn-images-1.medium.com/max/2000/1*_D5ZvufDS38WkhK9rK32hQ.jpeg\">\n",
        "\n",
        "\n",
        "Podemos pensar en 2 representaciones básicas de un vector:\n",
        "* Gráfica: representando un punto en el espacio\n",
        "* Lista de números : representando las coordenadas ,o compoenentes de el punto en el espacio correspondiente.\n",
        "\n",
        "<img src=\"https://raw.githubusercontent.com/llealgt/Galileo_Python_DS/main/NumPy_algebra_lineal/3d_vec.png\">\n",
        "\n",
        "En DS nos interesa mayormente la segunda representación,pero en algunos casos resulta útil utilizar la primera para poder visualizar patrones en datos que estemos analizando.\n",
        "\n",
        "<img src=\"https://raw.githubusercontent.com/llealgt/Galileo_Python_DS/main/NumPy_algebra_lineal/patron_eliptico.png\">\n",
        "\n",
        "**Nota**:Algunas operaciones no estan definidas matemáticamente  , pero NumPy las provee ya que resultan útiles en programación aún si no existen en matemática, por ejemplo: \n",
        "* Sumar un escalar a un vector.\n",
        "* Multiplicar 2 vectores elemento por elemento."
      ]
    },
    {
      "cell_type": "markdown",
      "metadata": {
        "id": "MyrjOr__axsX"
      },
      "source": [
        "### Rango y dimensión \n",
        "\n",
        "Como dijimos , ya que vectores y matrices son Tensores, necesitamos una característica que los distinga, esto es matemáticamente el **rango** del Tensor , en el mundo de NumPy obtenemos esto al usar la característica **ndim** sobre un Tensor dado.\n",
        "\n",
        "Si pensamos en la representación gráfica podemos pensar que el rango nos indica cuantos \"ejes\" posee el espacio sobre el que se define el tensor ,y necesitamos un número por cada eje para especificar cierto vector,  desde la perspectiva de la colección de números esto nos indica cuantos indices necesitamos para especificar o acceder cierto punto.\n",
        "\n",
        "La dimensión o forma del tensor nos indica cuantos elementos este puede almacenar distribuidas en cada uno de sus \"ejes\".\n",
        "\n",
        "Para vectores, el rango  es 1 , y la dimensión es cuantos elementos el vector posee. \n",
        "\n",
        "Resumen\n",
        "* ndim = entero indicando el rango de un tensor(cuantos ejes posee)\n",
        "* shape = tupla indicando la forma(cuantos elementos posee el tensor en cada uno de sus ejes )"
      ]
    },
    {
      "cell_type": "code",
      "metadata": {
        "colab": {
          "base_uri": "https://localhost:8080/"
        },
        "id": "KeyMzjhVaxsY",
        "outputId": "4e9e7b02-de9a-4860-8c14-b85b1604f5b0"
      },
      "source": [
        "x = np.array([1,2,3,4,5,6])\n",
        "\n",
        "print(x.ndim)\n",
        "print(x.shape)\n",
        "print(len(x.shape)) #forma de obtener el rango del tensor a partir de su dimension"
      ],
      "execution_count": 5,
      "outputs": [
        {
          "output_type": "stream",
          "name": "stdout",
          "text": [
            "1\n",
            "(6,)\n",
            "1\n"
          ]
        }
      ]
    },
    {
      "cell_type": "markdown",
      "metadata": {
        "id": "sCEjIu0Kaxsb"
      },
      "source": [
        "Por el momento estamos interesados en vectores, pero vale la pena ver como ndim y shape varían para una matriz."
      ]
    },
    {
      "cell_type": "code",
      "metadata": {
        "colab": {
          "base_uri": "https://localhost:8080/"
        },
        "id": "uvTDmcw-axsc",
        "outputId": "a0b584e2-294c-44d6-970f-62591ceef50d"
      },
      "source": [
        "x = np.array([[1,2,3],\n",
        "              [4,5,6]])\n",
        "\n",
        "print(x.ndim)\n",
        "print(x.shape)\n",
        "print(len(x.shape))  #forma de obtener el rango del tensor a partir de su dimension"
      ],
      "execution_count": 6,
      "outputs": [
        {
          "output_type": "stream",
          "name": "stdout",
          "text": [
            "2\n",
            "(2, 3)\n",
            "2\n"
          ]
        }
      ]
    },
    {
      "cell_type": "markdown",
      "metadata": {
        "id": "xD8Vj3ECaxsd"
      },
      "source": [
        "Tanto ndim como shape pueden ser usadas en cualquier expresión valida, por ejemplo asignarlas a variables "
      ]
    },
    {
      "cell_type": "code",
      "metadata": {
        "colab": {
          "base_uri": "https://localhost:8080/"
        },
        "id": "2n7AZvVPaxse",
        "outputId": "051b7b97-c872-4a35-ac0a-9b44ed391a97"
      },
      "source": [
        "forma_x = x.shape\n",
        "\n",
        "print(\"Filas de x:\",forma_x[0])\n",
        "print(\"Columnas de x:\",forma_x[1])"
      ],
      "execution_count": 7,
      "outputs": [
        {
          "output_type": "stream",
          "name": "stdout",
          "text": [
            "Filas de x: 2\n",
            "Columnas de x: 3\n"
          ]
        }
      ]
    },
    {
      "cell_type": "markdown",
      "metadata": {
        "id": "3DHU14Znaxsf"
      },
      "source": [
        "### Constructores de vectores\n",
        "\n",
        "NumPy provee diversas formas para crear o construir vectores, por ejemplo:\n",
        "* np.linspace\n",
        "* np.array\n",
        "* np.arange\n",
        "* np.zeros\n",
        "* np.ones\n",
        "\n",
        "Existen otras pero estas son posiblemente las mas comunes. Puedes consultar las otras disponibles en: https://docs.scipy.org/doc/numpy/reference/routines.array-creation.html"
      ]
    },
    {
      "cell_type": "code",
      "metadata": {
        "colab": {
          "base_uri": "https://localhost:8080/"
        },
        "id": "YLLOwO1qaxsg",
        "outputId": "3a6b141f-16c6-41ba-984a-a561d4ebf26b"
      },
      "source": [
        "x = np.linspace(0,5,50,endpoint=True,retstep=False)\n",
        "\n",
        "x"
      ],
      "execution_count": 8,
      "outputs": [
        {
          "output_type": "execute_result",
          "data": {
            "text/plain": [
              "array([ 0.        ,  0.10204082,  0.20408163,  0.30612245,  0.40816327,\n",
              "        0.51020408,  0.6122449 ,  0.71428571,  0.81632653,  0.91836735,\n",
              "        1.02040816,  1.12244898,  1.2244898 ,  1.32653061,  1.42857143,\n",
              "        1.53061224,  1.63265306,  1.73469388,  1.83673469,  1.93877551,\n",
              "        2.04081633,  2.14285714,  2.24489796,  2.34693878,  2.44897959,\n",
              "        2.55102041,  2.65306122,  2.75510204,  2.85714286,  2.95918367,\n",
              "        3.06122449,  3.16326531,  3.26530612,  3.36734694,  3.46938776,\n",
              "        3.57142857,  3.67346939,  3.7755102 ,  3.87755102,  3.97959184,\n",
              "        4.08163265,  4.18367347,  4.28571429,  4.3877551 ,  4.48979592,\n",
              "        4.59183673,  4.69387755,  4.79591837,  4.89795918,  5.        ])"
            ]
          },
          "metadata": {},
          "execution_count": 8
        }
      ]
    },
    {
      "cell_type": "code",
      "metadata": {
        "colab": {
          "base_uri": "https://localhost:8080/"
        },
        "id": "Ni_Pq3h5axsh",
        "outputId": "24073fab-146e-4373-dcc4-150801fa068e"
      },
      "source": [
        "x = np.linspace(0,5,50,False,retstep=False)\n",
        "\n",
        "x"
      ],
      "execution_count": 9,
      "outputs": [
        {
          "output_type": "execute_result",
          "data": {
            "text/plain": [
              "array([ 0. ,  0.1,  0.2,  0.3,  0.4,  0.5,  0.6,  0.7,  0.8,  0.9,  1. ,\n",
              "        1.1,  1.2,  1.3,  1.4,  1.5,  1.6,  1.7,  1.8,  1.9,  2. ,  2.1,\n",
              "        2.2,  2.3,  2.4,  2.5,  2.6,  2.7,  2.8,  2.9,  3. ,  3.1,  3.2,\n",
              "        3.3,  3.4,  3.5,  3.6,  3.7,  3.8,  3.9,  4. ,  4.1,  4.2,  4.3,\n",
              "        4.4,  4.5,  4.6,  4.7,  4.8,  4.9])"
            ]
          },
          "metadata": {},
          "execution_count": 9
        }
      ]
    },
    {
      "cell_type": "code",
      "metadata": {
        "colab": {
          "base_uri": "https://localhost:8080/"
        },
        "id": "eDCHx4Dtaxsi",
        "outputId": "0c153339-410c-4769-ace4-1700abea6207"
      },
      "source": [
        "xc,dx = np.linspace(0,5,50,endpoint=True,retstep=True)\n",
        "\n",
        "print(xc,dx)\n",
        "print(xc.shape)\n",
        "print(xc.ndim)"
      ],
      "execution_count": 10,
      "outputs": [
        {
          "output_type": "stream",
          "name": "stdout",
          "text": [
            "[ 0.          0.10204082  0.20408163  0.30612245  0.40816327  0.51020408\n",
            "  0.6122449   0.71428571  0.81632653  0.91836735  1.02040816  1.12244898\n",
            "  1.2244898   1.32653061  1.42857143  1.53061224  1.63265306  1.73469388\n",
            "  1.83673469  1.93877551  2.04081633  2.14285714  2.24489796  2.34693878\n",
            "  2.44897959  2.55102041  2.65306122  2.75510204  2.85714286  2.95918367\n",
            "  3.06122449  3.16326531  3.26530612  3.36734694  3.46938776  3.57142857\n",
            "  3.67346939  3.7755102   3.87755102  3.97959184  4.08163265  4.18367347\n",
            "  4.28571429  4.3877551   4.48979592  4.59183673  4.69387755  4.79591837\n",
            "  4.89795918  5.        ] 0.102040816327\n",
            "(50,)\n",
            "1\n"
          ]
        }
      ]
    },
    {
      "cell_type": "code",
      "metadata": {
        "colab": {
          "base_uri": "https://localhost:8080/"
        },
        "id": "yLquVN5Daxsk",
        "outputId": "7af6d8b2-8c85-4971-e51a-aafd5b14f1e6"
      },
      "source": [
        "x = np.linspace(0,5,5,True)\n",
        "\n",
        "x"
      ],
      "execution_count": 11,
      "outputs": [
        {
          "output_type": "execute_result",
          "data": {
            "text/plain": [
              "array([ 0.  ,  1.25,  2.5 ,  3.75,  5.  ])"
            ]
          },
          "metadata": {},
          "execution_count": 11
        }
      ]
    },
    {
      "cell_type": "code",
      "metadata": {
        "colab": {
          "base_uri": "https://localhost:8080/",
          "height": 264
        },
        "id": "Ozn0bwT3Howi",
        "outputId": "61d18227-9cc4-45c9-bc9a-0f2db17aac3b"
      },
      "source": [
        "import matplotlib.pyplot as plt\n",
        "\n",
        "x = np.linspace(0,100,100)\n",
        "y = np.square(x)\n",
        "\n",
        "plt.plot(x,y)\n",
        "plt.show()"
      ],
      "execution_count": 12,
      "outputs": [
        {
          "output_type": "display_data",
          "data": {
            "text/plain": [
              "<Figure size 432x288 with 1 Axes>"
            ],
            "image/png": "[encoded data removed]"
          },
          "metadata": {
            "needs_background": "light"
          }
        }
      ]
    },
    {
      "cell_type": "markdown",
      "metadata": {
        "id": "-h22TCegaxsl"
      },
      "source": [
        "**np.arange**\n",
        "Esta función es parecida a la función **range** que vimos en ciclos, pero genera un vector de NumPy que puede ser utilizdo en otras expresiones o ser asignado a variables para posterior uso.\n",
        "\n",
        "\n",
        "arange(start=0,stop,step = 1,dtype=None) \n",
        "\n",
        "Intenta determinar el tipo de datos a partir de los parametros pero se puede sobreescribir si lo especificamos con dtype"
      ]
    },
    {
      "cell_type": "code",
      "metadata": {
        "colab": {
          "base_uri": "https://localhost:8080/"
        },
        "id": "DKibpfubaxsm",
        "outputId": "17f37633-fe7f-458c-cae1-d4c2273850e7"
      },
      "source": [
        "yo = np.arange(1,10)\n",
        "yoc = np.arange(2,10,dtype = float)\n",
        "\n",
        "yo,yoc"
      ],
      "execution_count": 13,
      "outputs": [
        {
          "output_type": "execute_result",
          "data": {
            "text/plain": [
              "(array([1, 2, 3, 4, 5, 6, 7, 8, 9]),\n",
              " array([ 2.,  3.,  4.,  5.,  6.,  7.,  8.,  9.]))"
            ]
          },
          "metadata": {},
          "execution_count": 13
        }
      ]
    },
    {
      "cell_type": "markdown",
      "metadata": {
        "id": "qMJYHKXgaxsp"
      },
      "source": [
        "En muchos casos es útil crear vectores inicializados con 0s o 1s ,o bien cuando no nos importa su valor inicial podemos especificar que sean creados  como vácios.\n",
        "\n",
        "Esto lo logramos con:\n",
        "* np.zeros\n",
        "* np.ones\n",
        "* np.empty"
      ]
    },
    {
      "cell_type": "code",
      "metadata": {
        "colab": {
          "base_uri": "https://localhost:8080/"
        },
        "id": "4bJnYejKaxsq",
        "outputId": "3efd6032-e4df-4f34-b1ad-0b93a7cc878d"
      },
      "source": [
        "np.array([0,0,0,0,0])"
      ],
      "execution_count": 14,
      "outputs": [
        {
          "output_type": "execute_result",
          "data": {
            "text/plain": [
              "array([0, 0, 0, 0, 0])"
            ]
          },
          "metadata": {},
          "execution_count": 14
        }
      ]
    },
    {
      "cell_type": "code",
      "metadata": {
        "colab": {
          "base_uri": "https://localhost:8080/"
        },
        "id": "osqRN6jnaxsr",
        "outputId": "329bd888-a0c7-483b-86aa-804c8f43c49c"
      },
      "source": [
        "np.zeros(5) # proyecto"
      ],
      "execution_count": 15,
      "outputs": [
        {
          "output_type": "execute_result",
          "data": {
            "text/plain": [
              "array([ 0.,  0.,  0.,  0.,  0.])"
            ]
          },
          "metadata": {},
          "execution_count": 15
        }
      ]
    },
    {
      "cell_type": "code",
      "metadata": {
        "colab": {
          "base_uri": "https://localhost:8080/"
        },
        "id": "wR_k8Vu_axst",
        "outputId": "f9b232d8-99d9-4715-aaed-c09169d11c41"
      },
      "source": [
        "np.ones(5)"
      ],
      "execution_count": 16,
      "outputs": [
        {
          "output_type": "execute_result",
          "data": {
            "text/plain": [
              "array([ 1.,  1.,  1.,  1.,  1.])"
            ]
          },
          "metadata": {},
          "execution_count": 16
        }
      ]
    },
    {
      "cell_type": "code",
      "metadata": {
        "colab": {
          "base_uri": "https://localhost:8080/"
        },
        "id": "taujSBaTaxsv",
        "outputId": "dfc74328-1764-4b4b-c9d4-784dcdd62474"
      },
      "source": [
        "np.empty(4)  # el valor varia, experimentemos cambiando el tipo con ndtype = <tipo>"
      ],
      "execution_count": 17,
      "outputs": [
        {
          "output_type": "execute_result",
          "data": {
            "text/plain": [
              "array([  54.  ,   36.  ,  388.8 ,  253.44])"
            ]
          },
          "metadata": {},
          "execution_count": 17
        }
      ]
    },
    {
      "cell_type": "markdown",
      "metadata": {
        "id": "zPiWm8vlaxsw"
      },
      "source": [
        "**Vectores a partir de datos existentes**\n",
        "Podemos también construir vectores  a partir de datos existentes(por ejempro listas de números, u otros vectores)  o bien especificar explicitamente con que valores queremos que un vector sea creado.\n",
        "\n",
        "Esto lo logramos basicamente con 2 funciones(nuevamente existen otras a explorar):\n",
        "\n",
        "* np.array\n",
        "* np.copy"
      ]
    },
    {
      "cell_type": "code",
      "metadata": {
        "colab": {
          "base_uri": "https://localhost:8080/"
        },
        "id": "E8HIEKTEaxsy",
        "outputId": "0870bc07-99a5-4da4-fc7d-1e6631304242"
      },
      "source": [
        "lista = [2,3,4.0]\n",
        "\n",
        "x = np.array(lista)\n",
        "\n",
        "x "
      ],
      "execution_count": 18,
      "outputs": [
        {
          "output_type": "execute_result",
          "data": {
            "text/plain": [
              "array([ 2.,  3.,  4.])"
            ]
          },
          "metadata": {},
          "execution_count": 18
        }
      ]
    },
    {
      "cell_type": "code",
      "metadata": {
        "colab": {
          "base_uri": "https://localhost:8080/",
          "height": 268
        },
        "id": "OsFpGWb7axsz",
        "outputId": "8d80709b-7701-4953-8b5c-b923c70294fb"
      },
      "source": [
        "import matplotlib.pyplot as plt\n",
        "\n",
        "a = np.array([1,2])\n",
        "\n",
        "plt.arrow(0,0,a[0],a[1],head_width=0.1,head_length=0.1)\n",
        "plt.xlim(-1,1.5)\n",
        "plt.ylim(-2,2.5)\n",
        "plt.show()"
      ],
      "execution_count": 19,
      "outputs": [
        {
          "output_type": "display_data",
          "data": {
            "text/plain": [
              "<Figure size 432x288 with 1 Axes>"
            ],
            "image/png": "[encoded data removed]"
          },
          "metadata": {
            "needs_background": "light"
          }
        }
      ]
    },
    {
      "cell_type": "code",
      "metadata": {
        "colab": {
          "base_uri": "https://localhost:8080/"
        },
        "id": "1I5NW12xaxs1",
        "outputId": "f054617e-1655-4acd-e8c8-72c62baedba4"
      },
      "source": [
        "vector = np.array([1,2,3,4,5,6,7,8,9])\n",
        "\n",
        "print(vector)"
      ],
      "execution_count": 20,
      "outputs": [
        {
          "output_type": "stream",
          "name": "stdout",
          "text": [
            "[1 2 3 4 5 6 7 8 9]\n"
          ]
        }
      ]
    },
    {
      "cell_type": "code",
      "metadata": {
        "colab": {
          "base_uri": "https://localhost:8080/"
        },
        "id": "aGcm0b8maxs2",
        "outputId": "9d1ed675-4e60-431f-af96-2255ed483873"
      },
      "source": [
        "nuevo_vector = vector.copy()\n",
        "\n",
        "print(nuevo_vector)"
      ],
      "execution_count": 21,
      "outputs": [
        {
          "output_type": "stream",
          "name": "stdout",
          "text": [
            "[1 2 3 4 5 6 7 8 9]\n"
          ]
        }
      ]
    },
    {
      "cell_type": "markdown",
      "metadata": {
        "id": "BfkYaqX8axs3"
      },
      "source": [
        "El siguiente ejemplo crea una copia de un vector m cambiando(truncando) su tipo de dato a entero."
      ]
    },
    {
      "cell_type": "code",
      "metadata": {
        "colab": {
          "base_uri": "https://localhost:8080/"
        },
        "id": "4EdaxodJaxs3",
        "outputId": "33353445-0475-426a-8c3e-2fb726b67e37"
      },
      "source": [
        "m = np.linspace(9,1,11)\n",
        "\n",
        "m_int = np.array(m,dtype = int)\n",
        "\n",
        "m,m_int"
      ],
      "execution_count": 22,
      "outputs": [
        {
          "output_type": "execute_result",
          "data": {
            "text/plain": [
              "(array([ 9. ,  8.2,  7.4,  6.6,  5.8,  5. ,  4.2,  3.4,  2.6,  1.8,  1. ]),\n",
              " array([9, 8, 7, 6, 5, 5, 4, 3, 2, 1, 1]))"
            ]
          },
          "metadata": {},
          "execution_count": 22
        }
      ]
    },
    {
      "cell_type": "markdown",
      "metadata": {
        "id": "Br3mpFDvaxs4"
      },
      "source": [
        "**Construir vector como otro vector**\n",
        "\n",
        "Existen algunas funiones que nos permiten crear vectores \"como\" otros vectores,es decir de la misma forma pero con posibles diferentes valores:\n"
      ]
    },
    {
      "cell_type": "code",
      "metadata": {
        "colab": {
          "base_uri": "https://localhost:8080/"
        },
        "id": "3Gcs4vZFaxs5",
        "outputId": "d5d6e5a6-cdbe-4779-d653-607ae1ae3cc3"
      },
      "source": [
        "x = np.linspace(1,3,5)\n",
        "\n",
        "ceros = np.zeros_like(x,dtype=int)\n",
        "unos = np.ones_like(x)\n",
        "vacio = np.empty_like(x)\n",
        "\n",
        "print(x)\n",
        "print(ceros)\n",
        "print(unos)\n",
        "print(vacio)"
      ],
      "execution_count": 23,
      "outputs": [
        {
          "output_type": "stream",
          "name": "stdout",
          "text": [
            "[ 1.   1.5  2.   2.5  3. ]\n",
            "[0 0 0 0 0]\n",
            "[ 1.  1.  1.  1.  1.]\n",
            "[  4.67956282e-310   6.90231534e-310   6.90232148e-310   0.00000000e+000\n",
            "   0.00000000e+000]\n"
          ]
        }
      ]
    },
    {
      "cell_type": "markdown",
      "metadata": {
        "id": "0Q3QuONOaxs6"
      },
      "source": [
        "En otros casos algunas funciones tambien devuelven un array  A de la misma forma de otro B pero con el resultado de aplicar alguna función a este, por ejemplo, el siguiente caso devuelve un nuevo vector con la forma de un vector \"x\" resultado de calcular el seno trigonoḿetrico sobre cada uno de sus elementos.:"
      ]
    },
    {
      "cell_type": "code",
      "metadata": {
        "colab": {
          "base_uri": "https://localhost:8080/"
        },
        "id": "B-MAu-j6axs7",
        "outputId": "cc769fa9-c8a6-438d-8ef8-f00a98f48e70"
      },
      "source": [
        "np.sin(x) #operacion vectorizada\n"
      ],
      "execution_count": 24,
      "outputs": [
        {
          "output_type": "execute_result",
          "data": {
            "text/plain": [
              "array([ 0.84147098,  0.99749499,  0.90929743,  0.59847214,  0.14112001])"
            ]
          },
          "metadata": {},
          "execution_count": 24
        }
      ]
    },
    {
      "cell_type": "code",
      "metadata": {
        "id": "C00OL4qnoiAM",
        "colab": {
          "base_uri": "https://localhost:8080/"
        },
        "outputId": "5465f573-7f5a-4200-f272-d4ebd2676848"
      },
      "source": [
        "\n",
        "for elemento in x:\n",
        "  print(np.sin(elemento))"
      ],
      "execution_count": 25,
      "outputs": [
        {
          "output_type": "stream",
          "name": "stdout",
          "text": [
            "0.841470984808\n",
            "0.997494986604\n",
            "0.909297426826\n",
            "0.598472144104\n",
            "0.14112000806\n"
          ]
        }
      ]
    },
    {
      "cell_type": "markdown",
      "metadata": {
        "id": "bNZTwbUOaxs7"
      },
      "source": [
        "Similar a la concatenación de listas (con +) podemos  concatenar 2 vectores y crear uno nuevo usando np.hstack((tupla))"
      ]
    },
    {
      "cell_type": "code",
      "metadata": {
        "id": "xFGnitsVaxs8"
      },
      "source": [
        "?np.hstack"
      ],
      "execution_count": 26,
      "outputs": []
    },
    {
      "cell_type": "code",
      "metadata": {
        "colab": {
          "base_uri": "https://localhost:8080/"
        },
        "id": "G1BYVDGMaxs8",
        "outputId": "15bf00ce-3bc3-41e5-ca0f-f036d6eac15a"
      },
      "source": [
        "a = np.array((1,2,3))\n",
        "b = np.array((2,3,4))\n",
        "np.hstack((a,b))"
      ],
      "execution_count": 27,
      "outputs": [
        {
          "output_type": "execute_result",
          "data": {
            "text/plain": [
              "array([1, 2, 3, 2, 3, 4])"
            ]
          },
          "metadata": {},
          "execution_count": 27
        }
      ]
    },
    {
      "cell_type": "markdown",
      "metadata": {
        "id": "mFfPnIFZaxs9"
      },
      "source": [
        "**ejercicio** : en data science y programación científica es común necesitar vectores con valores dentro de cierto intervalo, pero con sub-intervalos internos con diference espaciamiento ,por ejemplo:\n",
        "\n",
        "[0.  , 0.1 , 0.2 , 0.3 , 0.4 , 0.5 , 0.51, 0.52, 0.53, 0.54, 0.55,\n",
        "       0.56, 0.57, 0.58, 0.59, 0.6 , 0.7 , 0.8 , 0.9 , 1.  ]\n",
        "       \n",
        "El primer sub-intervalo incrementa de 0.1 en 0.1 , el segundo de 0.01 en 0.01 , y el tercero de 0.1 en 0.1 nuevamente.\n",
        "\n",
        "Usando unicamente NumPy crea un vector de este tipo con el nombre xs .\n",
        "\n",
        "**nota**: no es permitido usar ciclos, debe realizarse con operaciones \"vectorizadas\" de numpy"
      ]
    },
    {
      "cell_type": "code",
      "metadata": {
        "id": "8xn0P1UDaxs-",
        "colab": {
          "base_uri": "https://localhost:8080/"
        },
        "outputId": "be419507-fc39-4bfe-ee1f-3521dd34163c"
      },
      "source": [
        "# tu codigo aqui (~ 5 lineas de codigo):\n",
        "\n",
        "xs = np.hstack((np.linspace(0,0.5,6),np.linspace(0.51,0.59,9),np.linspace(0.6,1,5)))\n",
        "xs\n"
      ],
      "execution_count": 28,
      "outputs": [
        {
          "output_type": "execute_result",
          "data": {
            "text/plain": [
              "array([ 0.  ,  0.1 ,  0.2 ,  0.3 ,  0.4 ,  0.5 ,  0.51,  0.52,  0.53,\n",
              "        0.54,  0.55,  0.56,  0.57,  0.58,  0.59,  0.6 ,  0.7 ,  0.8 ,\n",
              "        0.9 ,  1.  ])"
            ]
          },
          "metadata": {},
          "execution_count": 28
        }
      ]
    },
    {
      "cell_type": "markdown",
      "metadata": {
        "id": "dpTxVAeOaxs-"
      },
      "source": [
        "### Operaciones y Aritmetica Vectorial\n",
        "\n",
        "Utiliza los operadores aritmeticos ya conocidos +,-,*,/, %\n",
        "\n",
        "Las operaciones vectoriales básicas son:\n",
        "* Sumar 2 vectores.\n",
        "<img src=\"https://raw.githubusercontent.com/llealgt/Galileo_Python_DS/main/NumPy_algebra_lineal/suma_vec.png\">\n",
        "* Multiplicar 1 vector por un número: el efecto de esto es cambiar el tamaño del vector, es decir \"escalarlo\" y por eso en algebra lineal llamamos a un único número : **escalar**. El **span**,alcance o extención de un vector es el conjunto de todos los posibles vectores obtenidos por multiplicación escalar sobre este vector.\n",
        "<img src=\"https://raw.githubusercontent.com/llealgt/Galileo_Python_DS/main/NumPy_algebra_lineal/mult_vec.png\">\n",
        "\n",
        "<img src=\"https://raw.githubusercontent.com/llealgt/Galileo_Python_DS/main/NumPy_algebra_lineal/adicion_mult_escalar.png\">\n",
        "\n",
        "**Nota**:Algunas operaciones no estan definidas matemáticamente  , pero NumPy las provee ya que resultan útiles en programación aún si no existen en matemática, por ejemplo: \n",
        "\n",
        "* Multiplicar 2 vectores entre si\n",
        "* Sumar 1 vector con un escalar"
      ]
    },
    {
      "cell_type": "code",
      "metadata": {
        "colab": {
          "base_uri": "https://localhost:8080/"
        },
        "id": "XeSWw9ycaxs_",
        "outputId": "1d5af792-0bf6-457a-c3ca-4d102794cb34"
      },
      "source": [
        "v = np.array([3,-5])\n",
        "w = np.array([2,1])\n",
        "\n",
        "c = v + w\n",
        "\n",
        "print(c)"
      ],
      "execution_count": 29,
      "outputs": [
        {
          "output_type": "stream",
          "name": "stdout",
          "text": [
            "[ 5 -4]\n"
          ]
        }
      ]
    },
    {
      "cell_type": "code",
      "metadata": {
        "colab": {
          "base_uri": "https://localhost:8080/"
        },
        "id": "VQi5vsa6axtA",
        "outputId": "ad9186f8-2147-46b9-d114-153cf5f3bee4"
      },
      "source": [
        "2*v"
      ],
      "execution_count": 30,
      "outputs": [
        {
          "output_type": "execute_result",
          "data": {
            "text/plain": [
              "array([  6, -10])"
            ]
          },
          "metadata": {},
          "execution_count": 30
        }
      ]
    },
    {
      "cell_type": "markdown",
      "metadata": {
        "id": "Peaf_0FqaxtC"
      },
      "source": [
        "Esta operacion no esta definida en linalg"
      ]
    },
    {
      "cell_type": "code",
      "metadata": {
        "id": "InN78WNAaxtD",
        "colab": {
          "base_uri": "https://localhost:8080/"
        },
        "outputId": "0ccce557-74ca-4bef-d1c7-e9b74e9e7f7e"
      },
      "source": [
        "np.array([2,2])*v #producto haddamard (elemento a elemento)"
      ],
      "execution_count": 31,
      "outputs": [
        {
          "output_type": "execute_result",
          "data": {
            "text/plain": [
              "array([  6, -10])"
            ]
          },
          "metadata": {},
          "execution_count": 31
        }
      ]
    },
    {
      "cell_type": "code",
      "metadata": {
        "colab": {
          "base_uri": "https://localhost:8080/"
        },
        "id": "pPxonoQQaxtF",
        "outputId": "515f2987-2977-42ec-d8ed-62ccc0fffd8b"
      },
      "source": [
        "dos = np.array([2,2])\n",
        "dos*v"
      ],
      "execution_count": 32,
      "outputs": [
        {
          "output_type": "execute_result",
          "data": {
            "text/plain": [
              "array([  6, -10])"
            ]
          },
          "metadata": {},
          "execution_count": 32
        }
      ]
    },
    {
      "cell_type": "code",
      "metadata": {
        "colab": {
          "base_uri": "https://localhost:8080/"
        },
        "id": "ip1QKnMMvFz3",
        "outputId": "032e18ee-661a-45d6-9716-6041231ab7db"
      },
      "source": [
        "print(v)\n",
        "print(w)"
      ],
      "execution_count": 33,
      "outputs": [
        {
          "output_type": "stream",
          "name": "stdout",
          "text": [
            "[ 3 -5]\n",
            "[2 1]\n"
          ]
        }
      ]
    },
    {
      "cell_type": "code",
      "metadata": {
        "colab": {
          "base_uri": "https://localhost:8080/"
        },
        "id": "yta6irxhaxtG",
        "outputId": "3eabc304-e72d-4b5b-d423-94282679a9ad"
      },
      "source": [
        "resta = v - w #\n",
        "multiplicacion = v*w\n",
        "division = v/w\n",
        "div_mod = v%w\n",
        "\n",
        "print(resta)\n",
        "print(multiplicacion)\n",
        "print(division)\n",
        "print(div_mod)"
      ],
      "execution_count": 34,
      "outputs": [
        {
          "output_type": "stream",
          "name": "stdout",
          "text": [
            "[ 1 -6]\n",
            "[ 6 -5]\n",
            "[ 1.5 -5. ]\n",
            "[1 0]\n"
          ]
        }
      ]
    },
    {
      "cell_type": "markdown",
      "metadata": {
        "id": "sP-DvNV4axtH"
      },
      "source": [
        "Los operadores +=,-=,*=,/=,%=  , también son validos en vectores con NumPy y son mas eficientes, por ejemplo:\n",
        "\n",
        "a+=b\n",
        "\n",
        "Es mas eficiente que\n",
        "\n",
        "a = a + b\n",
        "\n",
        "Por lo tanto se recomienda usarlos siempre que sea posible :"
      ]
    },
    {
      "cell_type": "code",
      "metadata": {
        "id": "MCcRKwdiaxtI"
      },
      "source": [
        "a = np.array((1,2,3))\n",
        "b = np.array((2,3,4))"
      ],
      "execution_count": 35,
      "outputs": []
    },
    {
      "cell_type": "code",
      "metadata": {
        "id": "7-C5265yaxtJ",
        "colab": {
          "base_uri": "https://localhost:8080/"
        },
        "outputId": "c13cf77e-c109-44c7-e731-0f2ffb9a4520"
      },
      "source": [
        "a = a + b\n",
        "a"
      ],
      "execution_count": 36,
      "outputs": [
        {
          "output_type": "execute_result",
          "data": {
            "text/plain": [
              "array([3, 5, 7])"
            ]
          },
          "metadata": {},
          "execution_count": 36
        }
      ]
    },
    {
      "cell_type": "code",
      "metadata": {
        "colab": {
          "base_uri": "https://localhost:8080/"
        },
        "id": "w3zQrXv9axtK",
        "outputId": "8ec174a3-a9ab-448e-8b73-6e5ae39238bc"
      },
      "source": [
        "a+=b\n",
        "a"
      ],
      "execution_count": 37,
      "outputs": [
        {
          "output_type": "execute_result",
          "data": {
            "text/plain": [
              "array([ 5,  8, 11])"
            ]
          },
          "metadata": {},
          "execution_count": 37
        }
      ]
    },
    {
      "cell_type": "markdown",
      "metadata": {
        "id": "GA-ARywAaxtL"
      },
      "source": [
        "Python utiliza un mecanismo conocido como **\"broadcasting\"** para algunas operaciones cuando el tamaño de los operandos no coincide, por ejemplo el caso de una suma entre un vector y un escalar, broadcasting \"expande\" el escalar para que tenga la misma forma que el vector (replicando el valor escalar) y luego aplica la operacion **\"elementwise\"** (elemento a elemento)"
      ]
    },
    {
      "cell_type": "code",
      "metadata": {
        "colab": {
          "base_uri": "https://localhost:8080/"
        },
        "id": "KIK0Vtx7yLhB",
        "outputId": "fda90aa4-f621-4562-9971-958da6f26d35"
      },
      "source": [
        "print(a)"
      ],
      "execution_count": 38,
      "outputs": [
        {
          "output_type": "stream",
          "name": "stdout",
          "text": [
            "[ 5  8 11]\n"
          ]
        }
      ]
    },
    {
      "cell_type": "code",
      "metadata": {
        "colab": {
          "base_uri": "https://localhost:8080/"
        },
        "id": "dBidLRgzaxtM",
        "outputId": "16c78e01-fb53-405c-b9dc-b7630e7b5376"
      },
      "source": [
        "a + 2 #operación no definida matemáticamente pero posible con broadcasting"
      ],
      "execution_count": 39,
      "outputs": [
        {
          "output_type": "execute_result",
          "data": {
            "text/plain": [
              "array([ 7, 10, 13])"
            ]
          },
          "metadata": {},
          "execution_count": 39
        }
      ]
    },
    {
      "cell_type": "code",
      "metadata": {
        "colab": {
          "base_uri": "https://localhost:8080/"
        },
        "id": "UJZqqJQ9axtM",
        "outputId": "6a4b792a-3b7c-481c-eacc-89c7a318c3de"
      },
      "source": [
        "a -5 #operación no definida matemáticamente pero posible con broadcasting "
      ],
      "execution_count": 40,
      "outputs": [
        {
          "output_type": "execute_result",
          "data": {
            "text/plain": [
              "array([0, 3, 6])"
            ]
          },
          "metadata": {},
          "execution_count": 40
        }
      ]
    },
    {
      "cell_type": "code",
      "metadata": {
        "colab": {
          "base_uri": "https://localhost:8080/"
        },
        "id": "3mI-kMJLaxtN",
        "outputId": "89099c48-48b9-4fcf-c8d1-33c03705d4c4"
      },
      "source": [
        "a * 3 # operación si definida matemáticamente esta \"escalando\" el vector en factor de 3"
      ],
      "execution_count": 41,
      "outputs": [
        {
          "output_type": "execute_result",
          "data": {
            "text/plain": [
              "array([15, 24, 33])"
            ]
          },
          "metadata": {},
          "execution_count": 41
        }
      ]
    },
    {
      "cell_type": "code",
      "metadata": {
        "colab": {
          "base_uri": "https://localhost:8080/"
        },
        "id": "w_1FWh11ymAA",
        "outputId": "4aafb51e-6164-4938-9c48-99ea9d072c12"
      },
      "source": [
        "a"
      ],
      "execution_count": 42,
      "outputs": [
        {
          "output_type": "execute_result",
          "data": {
            "text/plain": [
              "array([ 5,  8, 11])"
            ]
          },
          "metadata": {},
          "execution_count": 42
        }
      ]
    },
    {
      "cell_type": "code",
      "metadata": {
        "id": "1qZpeT9WaxtO",
        "colab": {
          "base_uri": "https://localhost:8080/"
        },
        "outputId": "ddbfc67b-7ada-4f90-c458-fea49cf7d390"
      },
      "source": [
        "# operacion no definida directamente pero ya que la division se reduce \n",
        "#a un producto por una fraccion, si esta definida a traves del \"escalado\"  dl vector en factor de 0.33333\n",
        "a / 3 "
      ],
      "execution_count": 43,
      "outputs": [
        {
          "output_type": "execute_result",
          "data": {
            "text/plain": [
              "array([ 1.66666667,  2.66666667,  3.66666667])"
            ]
          },
          "metadata": {},
          "execution_count": 43
        }
      ]
    },
    {
      "cell_type": "markdown",
      "metadata": {
        "id": "tBhzMWwoaxtQ"
      },
      "source": [
        "**Ejemplo aplicado a DS** :  Suavizado de curvas a través de promedios de n-puntos(medias móviles):\n",
        "\n",
        "<img src=\"https://www.luisllamas.es/wp-content/uploads/2017/03/arduino-filtro-media-movil-ventana-5.png\">\n",
        "\n",
        "En el mundo la data comunmente posee \"ruido\" por lo cual muchas veces antes de hacer análisis o modelado se necesita \"suavizar\" las curvas para reducir este ruido, una técnica muy sencilla es  el suavizado por promedio de n-puntos(también llamado media móvil), esto significa que para cada punto Xn obtenemos una versión transformada(suavizada) que consiste en promediar n puntos cercanos a el, por ejemplo para n= 3 tenemos que:\n",
        "\n",
        "$$XS_{n}  =  \\frac{X_{n-1}+X_{n}+X_{n+1}}{3}$$"
      ]
    },
    {
      "cell_type": "code",
      "metadata": {
        "scrolled": true,
        "id": "IgL1CydiaxtR",
        "colab": {
          "base_uri": "https://localhost:8080/"
        },
        "outputId": "fe96b558-62df-446c-ec8c-f98dae6c478d"
      },
      "source": [
        "# las siguientes 3 lineas generan un conjunto de datos que se comportan segun una onda senoidal pero tienen\n",
        "# ruido por lo cual vamos a suavizar usando promedio de 3 puntos\n",
        "# en este ejercicio los generamos manualmente pero pensemos que son datos que pudieron ser generados con algún\n",
        "# instrumento como un sensor, o bien estar almacenados en una base de datos\n",
        "sample_points = 10000\n",
        "inicio_intervalo = 0\n",
        "ruido = 0.5*np.random.randn(sample_points) #el ruido comunmente se debe a aleatoriedad o captura no exacta de info.\n",
        "x = np.linspace(inicio_intervalo,5*np.pi,sample_points) \n",
        "y = np.sin(x) + ruido\n",
        "\n",
        "#ys es \"y suavizado\", inicialmente es una copia de y\n",
        "ys =  y.copy()\n",
        "\n",
        "for n in range(1,len(y)-1): #5\n",
        "    ys[n] = (y[n-1] + y[n] + y[n+1])/3\n",
        "    \n",
        "print(y)\n",
        "print(ys)"
      ],
      "execution_count": 44,
      "outputs": [
        {
          "output_type": "stream",
          "name": "stdout",
          "text": [
            "[-0.20778815  0.00484963 -0.83195595 ...,  0.08734526  1.31597543\n",
            "  0.19149631]\n",
            "[-0.20778815 -0.34496482 -0.61881978 ...,  0.32997064  0.53160567\n",
            "  0.19149631]\n"
          ]
        }
      ]
    },
    {
      "cell_type": "code",
      "metadata": {
        "colab": {
          "base_uri": "https://localhost:8080/",
          "height": 264
        },
        "id": "DjIK7-d_axtS",
        "outputId": "579bbea6-e1de-417c-b01f-bd958ab9a0e9"
      },
      "source": [
        "plt.plot(x,y)\n",
        "plt.plot(x,ys)\n",
        "plt.xlim(inicio_intervalo,5*np.pi + 0.5)\n",
        "plt.show()"
      ],
      "execution_count": 45,
      "outputs": [
        {
          "output_type": "display_data",
          "data": {
            "text/plain": [
              "<Figure size 432x288 with 1 Axes>"
            ],
            "image/png": "[encoded data removed]"
          },
          "metadata": {
            "needs_background": "light"
          }
        }
      ]
    },
    {
      "cell_type": "markdown",
      "metadata": {
        "id": "OCVCXBFWaxtT"
      },
      "source": [
        "**Ejercicio (parte de tarea)** En este caso usamos un ciclo  para ejemplificar pero ya hemos mencionado que debemos evitarlos siempre que sea posible y usar operaciones \"vectorizadas\" ya que es mucho mas rápido al utilizar  código pre-compilado de C, en este ejercicio debemos remplazar el calculo de ys para hacerlo de manera \"vectorizada\" y eliminar el ciclo for. \n",
        "\n",
        "**tip**: usar slicing"
      ]
    },
    {
      "cell_type": "code",
      "source": [
        "sample_points = 10000\n",
        "inicio_intervalo = 0\n",
        "ruido = 0.5*np.random.randn(sample_points) #el ruido comunmente se debe a aleatoriedad o captura no exacta de info.\n",
        "x = np.linspace(inicio_intervalo,5*np.pi,sample_points) \n",
        "y = np.sin(x) + ruido\n",
        "\n",
        "#ys es \"y suavizado\", inicialmente es una copia de y\n",
        "yn_men1 = y[0:len(y)-2]\n",
        "yn_mas1 = y[2:len(y)]\n",
        "yst = (yn_men1 + y[1:-1] + yn_mas1)/3\n",
        "ys = np.hstack((np.array(y[0]), yst, np.array(y[len(y)-1])))\n",
        "\n",
        "\n",
        "print(y)\n",
        "print(ys)\n"
      ],
      "metadata": {
        "id": "4sTY9eGHxXz2",
        "colab": {
          "base_uri": "https://localhost:8080/"
        },
        "outputId": "a5415140-96b3-4864-9adf-ec6ecafddd6c"
      },
      "execution_count": 46,
      "outputs": [
        {
          "output_type": "stream",
          "name": "stdout",
          "text": [
            "[  3.17014857e-01   3.53664028e-01   1.52030490e-04 ...,   1.01138318e+00\n",
            "   1.03095390e-01  -1.56307735e-01]\n",
            "[ 0.31701486  0.22361031  0.13601947 ...,  0.39543424  0.31939028\n",
            " -0.15630773]\n"
          ]
        }
      ]
    },
    {
      "cell_type": "code",
      "source": [
        "plt.plot(x,y)\n",
        "plt.plot(x,ys)\n",
        "plt.xlim(inicio_intervalo,5*np.pi + 0.5)\n",
        "plt.show()"
      ],
      "metadata": {
        "id": "aG1fBb6LxnH3",
        "colab": {
          "base_uri": "https://localhost:8080/",
          "height": 264
        },
        "outputId": "4bef6044-6056-4859-e008-a147d581af69"
      },
      "execution_count": 47,
      "outputs": [
        {
          "output_type": "display_data",
          "data": {
            "text/plain": [
              "<Figure size 432x288 with 1 Axes>"
            ],
            "image/png": "[encoded data removed]"
          },
          "metadata": {
            "needs_background": "light"
          }
        }
      ]
    },
    {
      "cell_type": "markdown",
      "metadata": {
        "id": "IEhuGnCJaxtT"
      },
      "source": [
        "### Combinaciones lineales,span,vectores base,espacio vectorial e independencia lineal.\n",
        "\n",
        "**Nota**: esta sección es de cierto relevante a futuro  ya que no es tan importante para este curso,pero lo será para futuros cursos y en tu carrera, por ejemplo en machine learning y estadística la reducción de dimensionalidad PCA se basa en el contenido acá resumido.\n",
        "\n",
        "Derivado de las 2 operaciones básicas de algebra lineal que ya mencionamos: suma de 2 vectores y multiplicación de un escalar por un vector podemos hablar de **combinaciones lineales**\n",
        "\n",
        "* **Combinación lineal** : Una combinación lineal es una generalización que combina estas 2 operaciones básicas y la podemos definir como **la suma de 2 o mas vectores escalados** , \n",
        "\n",
        "<img src=\"https://raw.githubusercontent.com/llealgt/Galileo_Python_DS/main/NumPy_algebra_lineal/combinacion_base.png\">\n",
        "\n",
        "Combinación lineal\n",
        "\n",
        "<img src=\"https://raw.githubusercontent.com/llealgt/Galileo_Python_DS/main/NumPy_algebra_lineal/combinacion_lineal.png\">\n",
        "\n",
        "* El **span**(alceance, o extensión) de una combinacion lineal es el conjunto de todos los posibles vectores obtenidos para cada posible combinación de sus valores escalares.\n",
        "\n",
        "\n",
        "<img src=\"https://raw.githubusercontent.com/llealgt/Galileo_Python_DS/main/NumPy_algebra_lineal/span.png\">\n",
        "\n",
        "<img src=\"https://raw.githubusercontent.com/llealgt/Galileo_Python_DS/main/NumPy_algebra_lineal/3d_span.png\">\n",
        "\n",
        "* **Independencia Lineal** : si un vector A es un múltiplo de otro vector B, decimos que existe dependencia lineal entre ellos, geométricamente el efecto de esto es que el **span** de estos  es el mismo, o bien si se trata de combinaciones lineales, el agregar un vector dependientemente lineal significa que este puede ser obtenido como una combinación de los otros en la combinación ,esto no modifica el **span** de la combinación, por lo cual es redundante y no aporta nada.\n",
        "\n",
        "<img src=\"https://raw.githubusercontent.com/llealgt/Galileo_Python_DS/main/NumPy_algebra_lineal/dependencia_lineal.png\">\n",
        "\n",
        "<img src=\"https://raw.githubusercontent.com/llealgt/Galileo_Python_DS/main/NumPy_algebra_lineal/dependencia_lineal2.png\">\n",
        "\n",
        "**Referencia Util**:\n",
        "https://youtu.be/k7RM-ot2NWY?list=PLZHQObOWTQDPD3MizzM2xVFitgF8hE_ab"
      ]
    },
    {
      "cell_type": "markdown",
      "metadata": {
        "id": "mggBAMXWaxtU"
      },
      "source": [
        "### ufuncs(universal functions)\n",
        "\n",
        "Ufuncs son funciones que trabajan de manera general independiente de la dimension del objeto al que sean aplicadas, esto significa que la misma función puede ser utilizada sobre valores **escalares**  o sobre **tensores** de cualquier dimensión. , cuando es aplicada sobre tensores esta trabaja elemento por elemento soportando \"broadcasting\" .\n",
        "\n",
        "NumPy provee una gran colección de ufuncs comunes en ciencias y que serán muy útiles en data science, ya hemos usado algunas por ejemplo: **np.sin(tensor)** , muchas comunes y que te serán familares son:\n",
        "\n",
        "* np.sign: determinar el signo de un número\n",
        "* np.abs: valor absoluto de un número\n",
        "* np.cos: coseno de un angulo en radianes\n",
        "* np.sin : seno de un angulo en radianes\n",
        "* np.tan : tangente de un angulo en radianes\n",
        "* np.exp : función exponencial e** x\n",
        "* np.log: logaritmo natural\n",
        "* np.log10 : logaritmo base 10\n",
        "* np.log2 : logaritmo base 2\n",
        "* np.sqrt : raiz cuadrada\n",
        "* np.power : potenciacion\n",
        "\n",
        "Al trabajar una aplicación numérica/científica es recomendable tener a la mano la documentación de las funciones disponibles : https://docs.scipy.org/doc/numpy-1.15.1/reference/routines.math.html\n",
        "\n",
        "#### Nota: \n",
        "En algunos casos requeriremos crear nuestras propias funciones y es recomendable que se apeguen a las ufuncs, es decir que se puedan aplicar independiente de la dimensión del objeto al que se aplican, que soporten broadcasting y muy importante **que su definición evite ciclos y use operaciones vectorizadas y otras ufuncs** , esto será parte de los criterios de evaluación en tareas y exámenes en este curso."
      ]
    },
    {
      "cell_type": "code",
      "metadata": {
        "id": "TdLbj7_NaxtX",
        "colab": {
          "base_uri": "https://localhost:8080/"
        },
        "outputId": "bfa4d3e3-222d-43a0-93c7-8b77d41dba52"
      },
      "source": [
        "x = np.array([-5.3,-1,0,1.5,10,100])\n",
        "\n",
        "print(np.sign(x))\n",
        "print(np.abs(x))\n",
        "print(np.cos(x))\n",
        "print(np.sin(x))\n",
        "print(np.tan(x))\n",
        "print(np.exp(x))\n",
        "print(len(x))"
      ],
      "execution_count": 48,
      "outputs": [
        {
          "output_type": "stream",
          "name": "stdout",
          "text": [
            "[-1. -1.  0.  1.  1.  1.]\n",
            "[   5.3    1.     0.     1.5   10.   100. ]\n",
            "[ 0.55437434  0.54030231  1.          0.0707372  -0.83907153  0.86231887]\n",
            "[ 0.83226744 -0.84147098  0.          0.99749499 -0.54402111 -0.50636564]\n",
            "[  1.5012734   -1.55740772   0.          14.10141995   0.64836083\n",
            "  -0.58721392]\n",
            "[  4.99159391e-03   3.67879441e-01   1.00000000e+00   4.48168907e+00\n",
            "   2.20264658e+04   2.68811714e+43]\n",
            "6\n"
          ]
        }
      ]
    },
    {
      "cell_type": "code",
      "metadata": {
        "id": "IhAOG5pKaxtY",
        "colab": {
          "base_uri": "https://localhost:8080/"
        },
        "outputId": "be866b75-7598-4fb3-f4ef-3e76f825b94b"
      },
      "source": [
        "print(np.log(x))"
      ],
      "execution_count": 49,
      "outputs": [
        {
          "output_type": "stream",
          "name": "stdout",
          "text": [
            "[        nan         nan        -inf  0.40546511  2.30258509  4.60517019]\n"
          ]
        },
        {
          "output_type": "stream",
          "name": "stderr",
          "text": [
            "/usr/local/lib/python3.7/dist-packages/ipykernel_launcher.py:1: RuntimeWarning: divide by zero encountered in log\n",
            "  \"\"\"Entry point for launching an IPython kernel.\n",
            "/usr/local/lib/python3.7/dist-packages/ipykernel_launcher.py:1: RuntimeWarning: invalid value encountered in log\n",
            "  \"\"\"Entry point for launching an IPython kernel.\n"
          ]
        }
      ]
    },
    {
      "cell_type": "code",
      "metadata": {
        "id": "-nrqfeY6axta",
        "colab": {
          "base_uri": "https://localhost:8080/"
        },
        "outputId": "ef194200-c389-42fb-cae1-cc9f4223eb33"
      },
      "source": [
        "print(np.log10(x))\n"
      ],
      "execution_count": 50,
      "outputs": [
        {
          "output_type": "stream",
          "name": "stdout",
          "text": [
            "[        nan         nan        -inf  0.17609126  1.          2.        ]\n"
          ]
        },
        {
          "output_type": "stream",
          "name": "stderr",
          "text": [
            "/usr/local/lib/python3.7/dist-packages/ipykernel_launcher.py:1: RuntimeWarning: divide by zero encountered in log10\n",
            "  \"\"\"Entry point for launching an IPython kernel.\n",
            "/usr/local/lib/python3.7/dist-packages/ipykernel_launcher.py:1: RuntimeWarning: invalid value encountered in log10\n",
            "  \"\"\"Entry point for launching an IPython kernel.\n"
          ]
        }
      ]
    },
    {
      "cell_type": "code",
      "metadata": {
        "id": "EdLaZLzMaxtb",
        "colab": {
          "base_uri": "https://localhost:8080/"
        },
        "outputId": "76fd92c6-24a2-42c7-b565-4b30590410f0"
      },
      "source": [
        "print(np.log2(x))"
      ],
      "execution_count": 51,
      "outputs": [
        {
          "output_type": "stream",
          "name": "stdout",
          "text": [
            "[        nan         nan        -inf  0.5849625   3.32192809  6.64385619]\n"
          ]
        },
        {
          "output_type": "stream",
          "name": "stderr",
          "text": [
            "/usr/local/lib/python3.7/dist-packages/ipykernel_launcher.py:1: RuntimeWarning: divide by zero encountered in log2\n",
            "  \"\"\"Entry point for launching an IPython kernel.\n",
            "/usr/local/lib/python3.7/dist-packages/ipykernel_launcher.py:1: RuntimeWarning: invalid value encountered in log2\n",
            "  \"\"\"Entry point for launching an IPython kernel.\n"
          ]
        }
      ]
    },
    {
      "cell_type": "code",
      "metadata": {
        "id": "-P1Sbi2HBE0S",
        "colab": {
          "base_uri": "https://localhost:8080/"
        },
        "outputId": "fe2dcb44-c2aa-4b0d-c11c-a28ae8a65f6a"
      },
      "source": [
        "print(np.sqrt(x))"
      ],
      "execution_count": 52,
      "outputs": [
        {
          "output_type": "stream",
          "name": "stdout",
          "text": [
            "[         nan          nan   0.           1.22474487   3.16227766\n",
            "  10.        ]\n"
          ]
        },
        {
          "output_type": "stream",
          "name": "stderr",
          "text": [
            "/usr/local/lib/python3.7/dist-packages/ipykernel_launcher.py:1: RuntimeWarning: invalid value encountered in sqrt\n",
            "  \"\"\"Entry point for launching an IPython kernel.\n"
          ]
        }
      ]
    },
    {
      "cell_type": "code",
      "metadata": {
        "id": "CBI4-Gn_axtc",
        "colab": {
          "base_uri": "https://localhost:8080/"
        },
        "outputId": "747dd9c4-cfc9-4b4f-b6cc-80fa9497f010"
      },
      "source": [
        "print(np.sqrt(x,dtype=complex))"
      ],
      "execution_count": 53,
      "outputs": [
        {
          "output_type": "stream",
          "name": "stdout",
          "text": [
            "[  0.00000000+2.30217289j   0.00000000+1.j           0.00000000+0.j\n",
            "   1.22474487+0.j           3.16227766+0.j          10.00000000+0.j        ]\n"
          ]
        }
      ]
    },
    {
      "cell_type": "code",
      "metadata": {
        "id": "DuCeny_gaxtc",
        "colab": {
          "base_uri": "https://localhost:8080/"
        },
        "outputId": "07c732dc-301f-48eb-c330-30f8a43803a2"
      },
      "source": [
        "print(np.power(x,2))"
      ],
      "execution_count": 54,
      "outputs": [
        {
          "output_type": "stream",
          "name": "stdout",
          "text": [
            "[  2.80900000e+01   1.00000000e+00   0.00000000e+00   2.25000000e+00\n",
            "   1.00000000e+02   1.00000000e+04]\n"
          ]
        }
      ]
    },
    {
      "cell_type": "markdown",
      "metadata": {
        "id": "NQsZTEy3axtd"
      },
      "source": [
        "#### Nota: \n",
        "En algunos casos requeriremos crear nuestras propias funciones y es recomendable que se apeguen a las ufuncs, es decir que se puedan aplicar independiente de la dimensión del objeto al que se aplican, que soporten broadcasting y muy importante **que su definición evite ciclos y use operaciones vectorizadas y otras ufuncs** , esto será parte de los criterios de evaluación en tareas y exámenes en este curso."
      ]
    },
    {
      "cell_type": "markdown",
      "metadata": {
        "id": "RdpBYHliaxte"
      },
      "source": [
        "#### Ejemplos en DS:\n",
        "\n",
        "**1)**\n",
        "En machine learning se necesita una manera de \"evaluar\" nuestros modelos ,en ML del tipo \"supervisado\" para modelos de variables discretas categóricas  usamos  para esto  la \"entropía cruzada\" que mide la diferencia  entre 2 distribuciones de probabilidad,la que nuestro modelo predice vs la real obtenida de datos **ground truth** , una entropía cruzada alta es un modelo de ML malo y una entropía cruzada de 0 es un modelo de ML perfecto.\n",
        "\n",
        "La entropía medida en bits(ojo,no cruzada, solo entropía) se define como \"el promedio de información\"(promedio ponderado) y la información se define se define como el negativo del logaritmo base 2 de la probabilidad . \n",
        "\n",
        "$$I(x) = -log_{2}P(x)$$\n",
        "\n",
        "**Comentario**:La entropía es una medida de \"incerteza\", si un evento puede producir muchos resultados diferentes entonces tenemos una alta incerteza del evento lo cual se traduce a entropía alta.\n",
        "\n",
        "La siguiente función calcula para cierta distribución de probabilidad dada por un vector px la información de cada elemento."
      ]
    },
    {
      "cell_type": "code",
      "metadata": {
        "id": "2QOKk1H7C9aI"
      },
      "source": [
        ""
      ],
      "execution_count": 54,
      "outputs": []
    },
    {
      "cell_type": "code",
      "metadata": {
        "id": "LVBqUS7Uaxtf",
        "colab": {
          "base_uri": "https://localhost:8080/"
        },
        "outputId": "e4dc7bc5-6b91-43e1-aa15-3d1dfa22e187"
      },
      "source": [
        "def calcular_informacion(px):\n",
        "    return np.log2(px)*-1 # teoría de la información\n",
        "\n",
        "distribucion_prob1 = [1.0]\n",
        "distribucion_prob2 = [0.5,0.5] # la entropia es maxima cuando todos tienen la misma prob\n",
        "distribucion_prob3 = [1.0,0.0]\n",
        "distribucion_prob4 = [0.9999]\n",
        "distribucion_prob5 = [0.25,0.75]\n",
        "distribucion_prob6 = [0.2]*5 # ojo estas son listas por lo tanto * la replica, no son arrays de numpy\n",
        "distribucion_prob7 = [0.4,0.2,0.1,0.1,0.2]\n",
        "\n",
        "print(calcular_informacion(distribucion_prob1))\n",
        "print(calcular_informacion(distribucion_prob2))\n",
        "print(calcular_informacion(distribucion_prob3))\n",
        "print(calcular_informacion(distribucion_prob4))\n",
        "print(calcular_informacion(distribucion_prob5))\n",
        "print(calcular_informacion(distribucion_prob6))\n",
        "print(calcular_informacion(distribucion_prob7))"
      ],
      "execution_count": 55,
      "outputs": [
        {
          "output_type": "stream",
          "name": "stdout",
          "text": [
            "[-0.]\n",
            "[ 1.  1.]\n",
            "[ -0.  inf]\n",
            "[ 0.00014428]\n",
            "[ 2.         0.4150375]\n",
            "[ 2.32192809  2.32192809  2.32192809  2.32192809  2.32192809]\n",
            "[ 1.32192809  2.32192809  3.32192809  3.32192809  2.32192809]\n"
          ]
        },
        {
          "output_type": "stream",
          "name": "stderr",
          "text": [
            "/usr/local/lib/python3.7/dist-packages/ipykernel_launcher.py:2: RuntimeWarning: divide by zero encountered in log2\n",
            "  \n"
          ]
        }
      ]
    },
    {
      "cell_type": "markdown",
      "metadata": {
        "id": "LCcPuLnzaxtg"
      },
      "source": [
        "**Ejercicio** Para calcular la información de una distribución de probabilidad necesitamos calcular el producto entre la información de cada posible x y su probabilidad , cada uno de estos elementos nos indica cuanta incerteza aporta cada x a la entropía de la distribución. Crea una función que calcule esto, debe recibir un vector representando a la dist. de probabilidad y devoler otro vector con el termino de entropía para cada x. Por ejemplo:\n",
        "\n",
        "calcular_entropia([0.25,0.75])\n",
        "\n",
        "Debe resultar en :\n",
        "\n",
        "[0.5    ,    0.31127812]\n",
        "\n",
        "**Nota**: la entropía es la suma sobre estos valores, en este caso no calculamos la entropía,unicamente los termimos de su sumatoria. La entropía es:\n",
        "\n",
        "$$S = -\\sum_i^nP(x_{i})log_{2}P(x_{i})$$"
      ]
    },
    {
      "cell_type": "code",
      "metadata": {
        "id": "CSBwGnZ-axth",
        "colab": {
          "base_uri": "https://localhost:8080/"
        },
        "outputId": "59a6c289-b6b3-4899-91db-b07edeb3e07a"
      },
      "source": [
        "# tu codigo aqui (~ 4 lineas de codigo)\n",
        "def EntropiaX(px):\n",
        "  return px *(np.log2(px)) *-1\n",
        "\n",
        "EntropiaX([0.25,0.75])"
      ],
      "execution_count": 56,
      "outputs": [
        {
          "output_type": "execute_result",
          "data": {
            "text/plain": [
              "array([ 0.5       ,  0.31127812])"
            ]
          },
          "metadata": {},
          "execution_count": 56
        }
      ]
    },
    {
      "cell_type": "markdown",
      "metadata": {
        "id": "d2IreNMKaxth"
      },
      "source": [
        "**2)** \n",
        "\n",
        "A partir de la información en un data warehouse con un modelo de  datos el valor de clientes en el tiempo se ha determinado un modelo predictivo  no lineal que estima cuanta ganancia ha generado cierto cliente en 5 años en base a lo que ha gastado en su primer mes como cliente. \n",
        "\n",
        "El modelo tiene la forma:\n",
        "\n",
        "$$g(x) = (x^{3} + 2x^{2} + e^{0.0001x} -\\sqrt{2x})/50$$\n",
        "\n",
        "Crear una función que calcule la ganancia para valores de gasto de nuevos clientes:"
      ]
    },
    {
      "cell_type": "code",
      "metadata": {
        "id": "u4D60NkLaxti",
        "colab": {
          "base_uri": "https://localhost:8080/"
        },
        "outputId": "c0b9bf0f-71c8-402b-89a4-9fda21d22d6a"
      },
      "source": [
        "def g(x): #<- vector\n",
        "    \n",
        "    ganancia = (np.power(x,3) + 2.0*(np.power(x,2.0))+np.exp(0.0001*x) - np.sqrt(2.0*x))/50\n",
        "    \n",
        "    return ganancia # <- vector del mismo tamaño que x\n",
        "    \n",
        "gastos = np.array([100,50,25,100]) #vector\n",
        "ganancia = g(gastos)\n",
        "\n",
        "print(\"Ganancias\",ganancia)"
      ],
      "execution_count": 57,
      "outputs": [
        {
          "output_type": "stream",
          "name": "stdout",
          "text": [
            "Ganancias [ 20399.73735829   2599.82010025    337.37862871  20399.73735829]\n"
          ]
        }
      ]
    },
    {
      "cell_type": "markdown",
      "metadata": {
        "id": "afpF1h4Kaxti"
      },
      "source": [
        "**Ejercicio** : se ha determinado también que hay costos asociados a la comunicación y relación con los clientes(llamadas,mensajes electrónicos,etc) y que estos también tienen alta correlación con el monto que estos gastan en su primer més siguiendo el modelo:\n",
        "$$c(x) = (x^{2} + x + log (0.0001x)-\\sqrt{0.54x})/100$$\n",
        "\n",
        "Cree una función para calcular este modelo sobre valores de de gasto de nuevos clientes , y luego cree una función  **ganancia_neta(x,g,c)** donde:\n",
        "* x = vector conteniendo los valores de gasto del primer mes para nuevos clientes.\n",
        "* g = función que estima la ganancia en función de x\n",
        "* c = función que estima el costo en función de x\n",
        "\n",
        "La función realiza el calculo simple **g(x) - c(x)** , ya que es posible que los modelos cambien en el tiempo es común recibir como parámetro el modelo o modelos hijos de un modelo mas grande , en este caso eso se logra recibiendo como parámetro las funciones de ganancia y costo."
      ]
    },
    {
      "cell_type": "code",
      "metadata": {
        "id": "2ClMDGdaG7BA"
      },
      "source": [
        "def ganancia2(x):\n",
        "  return np.power(x,2)\n",
        "\n",
        "def costos(x):\n",
        "  costo = (np.power(x,2) + x + np.log(0.0001 * x) - np.sqrt(0.54*x) )/100 \n",
        "  return costo"
      ],
      "execution_count": 58,
      "outputs": []
    },
    {
      "cell_type": "code",
      "metadata": {
        "id": "ux1p0QzlGhGQ",
        "colab": {
          "base_uri": "https://localhost:8080/"
        },
        "outputId": "eea10465-7ff1-481f-b785-33b4a30a7d57"
      },
      "source": [
        "def ganancia_neta(x,g,c):\n",
        "  return g(x) - c(x)\n",
        "\n",
        "\n",
        "x = np.array([100,50,25,100]) #vector\n",
        "ganancia_neta(x,g,costos)\n"
      ],
      "execution_count": 59,
      "outputs": [
        {
          "output_type": "execute_result",
          "data": {
            "text/plain": [
              "array([ 20298.85689469,   2574.42504495,    330.9752857 ,  20298.85689469])"
            ]
          },
          "metadata": {},
          "execution_count": 59
        }
      ]
    },
    {
      "cell_type": "code",
      "metadata": {
        "id": "gDSGvXYvHNno",
        "colab": {
          "base_uri": "https://localhost:8080/"
        },
        "outputId": "a623054d-008a-4a74-f04c-9ee72ab3c526"
      },
      "source": [
        "x"
      ],
      "execution_count": 60,
      "outputs": [
        {
          "output_type": "execute_result",
          "data": {
            "text/plain": [
              "array([100,  50,  25, 100])"
            ]
          },
          "metadata": {},
          "execution_count": 60
        }
      ]
    },
    {
      "cell_type": "markdown",
      "metadata": {
        "id": "Nzg9gVdoaxtj"
      },
      "source": [
        "### Funciones miscelaneas(agregación y estadistica descriptiva básica) \n",
        "\n",
        "Ya hemos trabajado algunas funciones de NumPy pero han sido funciones \"elementwise\" cuyo vector resultante tiene el mismo tamaño que el vector de entrada, existen muchas otras funciones que utilizamos en casos en los que necesitamos agregar,resumir cierto vector,incluyendo en este tipo de funciones algunas de estadistica descriptiva básica."
      ]
    },
    {
      "cell_type": "code",
      "metadata": {
        "id": "yieQlOmRaxtk"
      },
      "source": [
        "x = np.array([1,2,3,4,5,6,7,8,9,2,2])\n",
        "x_nan = np.array([1,2,3,4,np.nan,6,8,2,2])"
      ],
      "execution_count": 62,
      "outputs": []
    },
    {
      "cell_type": "code",
      "metadata": {
        "id": "Qb8Lrr_Aaxtk",
        "colab": {
          "base_uri": "https://localhost:8080/"
        },
        "outputId": "49614653-d221-453e-e39a-3dbe0627a23e"
      },
      "source": [
        "#nanmax ignora valores nan si existieran , max retorna nan si el vector tuviera un nan\n",
        "\n",
        "\n",
        "print(np.max(x))\n",
        "print(x.max())\n",
        "print(np.max(x_nan))\n",
        "\n",
        "print(np.nanmax(x))\n",
        "print(np.nanmax(x_nan))"
      ],
      "execution_count": 63,
      "outputs": [
        {
          "output_type": "stream",
          "name": "stdout",
          "text": [
            "9\n",
            "9\n",
            "nan\n",
            "9\n",
            "8.0\n"
          ]
        }
      ]
    },
    {
      "cell_type": "code",
      "metadata": {
        "id": "tGpt63roaxtl",
        "colab": {
          "base_uri": "https://localhost:8080/"
        },
        "outputId": "78dd3214-cd51-45d6-fc99-749553a6d848"
      },
      "source": [
        "print(np.argmax(x))\n",
        "print(x.argmax())"
      ],
      "execution_count": 64,
      "outputs": [
        {
          "output_type": "stream",
          "name": "stdout",
          "text": [
            "8\n",
            "8\n"
          ]
        }
      ]
    },
    {
      "cell_type": "code",
      "metadata": {
        "id": "TrAFnPNzaxtn",
        "colab": {
          "base_uri": "https://localhost:8080/"
        },
        "outputId": "ff570a4d-13f1-47e3-ec2a-33ea5758f07a"
      },
      "source": [
        "print(np.min(x))\n",
        "print(x.min())\n",
        "print(np.min(x_nan))\n",
        "\n",
        "print(np.nanmin(x))\n",
        "print(np.nanmin(x_nan))"
      ],
      "execution_count": 65,
      "outputs": [
        {
          "output_type": "stream",
          "name": "stdout",
          "text": [
            "1\n",
            "1\n",
            "nan\n",
            "1\n",
            "1.0\n"
          ]
        }
      ]
    },
    {
      "cell_type": "code",
      "metadata": {
        "id": "04gNPKimaxto",
        "colab": {
          "base_uri": "https://localhost:8080/"
        },
        "outputId": "7aab6074-f273-45b0-f279-e7c5393adc9c"
      },
      "source": [
        "print(np.argmin(x))\n",
        "print(x.min())"
      ],
      "execution_count": 66,
      "outputs": [
        {
          "output_type": "stream",
          "name": "stdout",
          "text": [
            "0\n",
            "1\n"
          ]
        }
      ]
    },
    {
      "cell_type": "code",
      "metadata": {
        "id": "HsKlSLzXNSQ6",
        "colab": {
          "base_uri": "https://localhost:8080/"
        },
        "outputId": "b08b9263-46ea-4874-da81-649aaa7784d2"
      },
      "source": [
        "np.argmin(np.array([456,2,100,23]))"
      ],
      "execution_count": 67,
      "outputs": [
        {
          "output_type": "execute_result",
          "data": {
            "text/plain": [
              "1"
            ]
          },
          "metadata": {},
          "execution_count": 67
        }
      ]
    },
    {
      "cell_type": "code",
      "metadata": {
        "id": "FnZAM55TNfbH",
        "colab": {
          "base_uri": "https://localhost:8080/"
        },
        "outputId": "c7e10b18-d034-4056-caee-aec567bc3806"
      },
      "source": [
        "np.min(np.array([456,2,100,23]))"
      ],
      "execution_count": 68,
      "outputs": [
        {
          "output_type": "execute_result",
          "data": {
            "text/plain": [
              "2"
            ]
          },
          "metadata": {},
          "execution_count": 68
        }
      ]
    },
    {
      "cell_type": "code",
      "metadata": {
        "id": "N0yvY5U4axtp",
        "colab": {
          "base_uri": "https://localhost:8080/"
        },
        "outputId": "a27b012c-065b-4f51-9f4d-3100f819c43f"
      },
      "source": [
        "print(np.sum(x))\n",
        "print(x.sum())\n",
        "print(np.sum(x_nan))"
      ],
      "execution_count": 69,
      "outputs": [
        {
          "output_type": "stream",
          "name": "stdout",
          "text": [
            "49\n",
            "49\n",
            "nan\n"
          ]
        }
      ]
    },
    {
      "cell_type": "code",
      "metadata": {
        "id": "zDuDhNVbaxtr",
        "colab": {
          "base_uri": "https://localhost:8080/"
        },
        "outputId": "18285b06-66b0-43b0-ccca-3054b27faad3"
      },
      "source": [
        "print(np.prod(x))\n",
        "print(x.prod())\n",
        "print(np.prod(x_nan))"
      ],
      "execution_count": 70,
      "outputs": [
        {
          "output_type": "stream",
          "name": "stdout",
          "text": [
            "1451520\n",
            "1451520\n",
            "nan\n"
          ]
        }
      ]
    },
    {
      "cell_type": "markdown",
      "metadata": {
        "id": "TVcTQSn8axts"
      },
      "source": [
        "#### Aritmetica acumulativa\n",
        "\n",
        "En muchos casos es útil usar sumas o productos acumulativos , por ejemplo:\n",
        "\n",
        "**Ejemplo aplicado** En un datawarehouse se tiene un modelo \"lifetime value\" en el que se almacena de manera acumulativa cuantas ganancias se han percibido a lo largo de la vida de los usuarios, un ETL en Python debe calcularlo en función de un vector que contiene de manera ordenada en el tiempo los ingresos percibidos mensualmente para cierto usuario. Podemos usar la funcion **np.cumsum** para esto, en este ejercicio necesitamos determinar el \"lifetime value\" de cierto usuario en su 6to mes:\n"
      ]
    },
    {
      "cell_type": "code",
      "metadata": {
        "id": "Gk3Qcf9UK8JW",
        "colab": {
          "base_uri": "https://localhost:8080/"
        },
        "outputId": "0329df7d-93ee-481e-b4fd-b214efcd994f"
      },
      "source": [
        "a = np.array([1,2,3,4,5])\n",
        "\n",
        "np.cumsum(a)"
      ],
      "execution_count": 71,
      "outputs": [
        {
          "output_type": "execute_result",
          "data": {
            "text/plain": [
              "array([ 1,  3,  6, 10, 15])"
            ]
          },
          "metadata": {},
          "execution_count": 71
        }
      ]
    },
    {
      "cell_type": "code",
      "metadata": {
        "id": "2lG2pEJ1LP2K",
        "colab": {
          "base_uri": "https://localhost:8080/"
        },
        "outputId": "ad71ae03-61a2-4367-e0cf-4cea007dab7e"
      },
      "source": [
        "np.cumprod(a)"
      ],
      "execution_count": 72,
      "outputs": [
        {
          "output_type": "execute_result",
          "data": {
            "text/plain": [
              "array([  1,   2,   6,  24, 120])"
            ]
          },
          "metadata": {},
          "execution_count": 72
        }
      ]
    },
    {
      "cell_type": "code",
      "metadata": {
        "id": "QbBqxQR_axts",
        "colab": {
          "base_uri": "https://localhost:8080/"
        },
        "outputId": "5070a6c6-e644-46b3-cd4e-132efa007b91"
      },
      "source": [
        "def lifetime_value(ganancias_mensuales):\n",
        "    ## tu codigo aqui(~ 1 linea de codigo):\n",
        "    return np.cumsum(ganancias_mensuales)\n",
        "    #pass\n",
        "\n",
        "# Prueba:\n",
        "ganancias_usuario = np.array([25,150,125,75,100,45,22,30])\n",
        "lifetime_value_usuario = lifetime_value(ganancias_usuario)\n",
        "\n",
        "print(\"Lifetime value:\",lifetime_value_usuario)\n",
        "\n",
        "print(\"El valor del usuario a su sexto mes es :\",lifetime_value_usuario[5])"
      ],
      "execution_count": 73,
      "outputs": [
        {
          "output_type": "stream",
          "name": "stdout",
          "text": [
            "Lifetime value: [ 25 175 300 375 475 520 542 572]\n",
            "El valor del usuario a su sexto mes es : 520\n"
          ]
        }
      ]
    },
    {
      "cell_type": "markdown",
      "metadata": {
        "id": "0x1fNi5Maxtt"
      },
      "source": [
        "Poseemos también la funcióm similar **np.cumprod** que multiplica de manera acumulativa los elementos de un vector."
      ]
    },
    {
      "cell_type": "code",
      "metadata": {
        "id": "oUGqlC42axtu",
        "colab": {
          "base_uri": "https://localhost:8080/"
        },
        "outputId": "f426080b-ac41-46e0-846b-3bbe09fc6df2"
      },
      "source": [
        "print(np.cumprod(ganancias_usuario))"
      ],
      "execution_count": 74,
      "outputs": [
        {
          "output_type": "stream",
          "name": "stdout",
          "text": [
            "[             25            3750          468750        35156250\n",
            "      3515625000    158203125000   3480468750000 104414062500000]\n"
          ]
        }
      ]
    },
    {
      "cell_type": "markdown",
      "metadata": {
        "id": "7NGf_2y5axtu"
      },
      "source": [
        "#### Estadística descriptiva\n",
        "\n",
        "https://docs.scipy.org/doc/numpy-1.15.0/reference/routines.statistics.html"
      ]
    },
    {
      "cell_type": "code",
      "metadata": {
        "id": "iQFFYwfPaxtv",
        "colab": {
          "base_uri": "https://localhost:8080/"
        },
        "outputId": "a9d0d54e-fc39-46aa-f307-ccda9db88b48"
      },
      "source": [
        "print(np.mean(x))\n",
        "print(x_nan.mean())"
      ],
      "execution_count": 75,
      "outputs": [
        {
          "output_type": "stream",
          "name": "stdout",
          "text": [
            "4.45454545455\n",
            "nan\n"
          ]
        }
      ]
    },
    {
      "cell_type": "code",
      "metadata": {
        "id": "lwAxPhqdL7zX",
        "colab": {
          "base_uri": "https://localhost:8080/"
        },
        "outputId": "ca4d9038-1a18-441f-fe44-1a9643a7f625"
      },
      "source": [
        "np.nanmean(x_nan)"
      ],
      "execution_count": 76,
      "outputs": [
        {
          "output_type": "execute_result",
          "data": {
            "text/plain": [
              "3.5"
            ]
          },
          "metadata": {},
          "execution_count": 76
        }
      ]
    },
    {
      "cell_type": "code",
      "metadata": {
        "id": "mS1zTVbFaxtw",
        "colab": {
          "base_uri": "https://localhost:8080/"
        },
        "outputId": "ab8118ef-8b14-4bb5-b4f7-7c1f6fd1b6a2"
      },
      "source": [
        "print(np.median(x))\n",
        "print(np.median(x_nan))"
      ],
      "execution_count": 77,
      "outputs": [
        {
          "output_type": "stream",
          "name": "stdout",
          "text": [
            "4.0\n",
            "nan\n"
          ]
        }
      ]
    },
    {
      "cell_type": "code",
      "metadata": {
        "id": "zWK9TMATaxtw",
        "colab": {
          "base_uri": "https://localhost:8080/"
        },
        "outputId": "c5c32403-eda4-4d3e-d388-74b8aa0e04d6"
      },
      "source": [
        "print(x.std())\n",
        "print(np.std(x))"
      ],
      "execution_count": 78,
      "outputs": [
        {
          "output_type": "stream",
          "name": "stdout",
          "text": [
            "2.60641294306\n",
            "2.60641294306\n"
          ]
        }
      ]
    },
    {
      "cell_type": "code",
      "metadata": {
        "id": "Dzn4LVTpaxtx",
        "colab": {
          "base_uri": "https://localhost:8080/"
        },
        "outputId": "532008e8-b0e4-4757-86cb-9e96d329d2cf"
      },
      "source": [
        "print(x.var())\n",
        "print(np.var(x))"
      ],
      "execution_count": 79,
      "outputs": [
        {
          "output_type": "stream",
          "name": "stdout",
          "text": [
            "6.79338842975\n",
            "6.79338842975\n"
          ]
        }
      ]
    },
    {
      "cell_type": "markdown",
      "metadata": {
        "id": "Fn081ds-axty"
      },
      "source": [
        "**Ejercicio** Usando argmax crear una función mode(x) para calcular la moda de un vector x , esta función debe devolver una tupla de 2 elementos de la forma:\n",
        "\n",
        "(valor,conteo)\n",
        "\n",
        "**tip** investigar y auxiliarse de otras funciones de numpy y np.argmax, no olvidar trabajar todo vectorizado, sin ciclos."
      ]
    },
    {
      "cell_type": "code",
      "source": [
        "x "
      ],
      "metadata": {
        "colab": {
          "base_uri": "https://localhost:8080/"
        },
        "id": "0RgqHQKizLvS",
        "outputId": "70df7ff7-fd94-4ddc-8bb1-a751f2c16808"
      },
      "execution_count": 89,
      "outputs": [
        {
          "output_type": "execute_result",
          "data": {
            "text/plain": [
              "array([1, 2, 3, 4, 5, 6, 7, 8, 9, 2, 2])"
            ]
          },
          "metadata": {},
          "execution_count": 89
        }
      ]
    },
    {
      "cell_type": "code",
      "metadata": {
        "id": "W0Y0-ZZ-axty",
        "colab": {
          "base_uri": "https://localhost:8080/"
        },
        "outputId": "2d36a46a-87b0-4bb1-964e-be9be50d4f53"
      },
      "source": [
        "def mode(x):\n",
        "    ## tu codigo aqui (~ 3 lineas de codigo):\n",
        "    \n",
        "    valor, conteo = np.unique(x, return_counts=True)\n",
        "    resultado = np.column_stack((valor, conteo)) \n",
        "    return resultado[np.argmax(conteo)]\n",
        "   \n",
        "\n",
        "print(mode(x))"
      ],
      "execution_count": 90,
      "outputs": [
        {
          "output_type": "stream",
          "name": "stdout",
          "text": [
            "[2 3]\n"
          ]
        }
      ]
    },
    {
      "cell_type": "code",
      "metadata": {
        "id": "1cyToCNGpdA1"
      },
      "source": [
        "dist_a = np.array([0.3,0.5,0.2])"
      ],
      "execution_count": 88,
      "outputs": []
    },
    {
      "cell_type": "markdown",
      "metadata": {
        "id": "OWnk9Eoeaxtz"
      },
      "source": [
        "**Ejercicio** : crear una función para calcular la entropía  de una distribución de probabilidad representada como un vector.\n",
        "$$S = -\\sum_i^nP(x_{i})log_{2}P(x_{i})$$\n",
        "\n",
        "**Nota**: a diferencia del ejercicio anterior donde solo calculamos los términos de la entropía, en este caso  si calculamos el valor completo de la entropía, que como mencionamos es una medida de incerteza en una distribución de probabilidad.\n",
        "\n",
        "**recordatorio**: no usar ciclos solo operaciones vectorizadas."
      ]
    },
    {
      "cell_type": "code",
      "metadata": {
        "id": "OaCUbbd_axtz",
        "colab": {
          "base_uri": "https://localhost:8080/"
        },
        "outputId": "6b1479ac-4627-4a5a-a3e8-68515a9f392f"
      },
      "source": [
        "# tu codigo aqui (~ 3 lineas de codigo)\n",
        "def entropia(Px):\n",
        "  S = Px *(np.log2(Px)) *-1\n",
        "  S_sum=np.cumsum(S)\n",
        "  return S_sum[-1]\n",
        "\n",
        "print(entropia(dist_a))\n"
      ],
      "execution_count": 95,
      "outputs": [
        {
          "output_type": "stream",
          "name": "stdout",
          "text": [
            "1.48547529723\n"
          ]
        }
      ]
    },
    {
      "cell_type": "markdown",
      "metadata": {
        "id": "Ee4Z784maxt0"
      },
      "source": [
        "**Ejercicio**: En ML usamos la entropía cruzada como una forma de medir que tan bueno es un modelo de variables discretas a través de comparar la distribución de probabilidad que el modelo produce o predice, vs la distribución de probabilidad real dada por los datos de entrenamiento.\n",
        "\n",
        "Podemos ver el siguiente ejemplo que define la forma en que se calcula la entropía cruzada y nos muestra un caso específico:\n",
        "\n",
        "<img src=\"https://image.slidesharecdn.com/publishintroductiontodeeplearninginpythonandmatlab1-160502102437/95/introduction-to-deep-learning-in-python-and-matlab-54-638.jpg?cb=1462185644\">\n",
        "\n",
        "En este caso interpretamos así: El problema consiste en un modelo o algoritmo de ML que debe producir un vector de 3 elementos indicando la probabilidad de que ciertos datos X pertenezcan a una de 3 categorías.\n",
        "\n",
        "* El modelo de ML produce un vector que indica que estima un 70% de probabilidad de que se trate de la categoría 0, 20% de probabilidad de que se trate de la categoría 1 y 10% de que se trate de la categoría 2.\n",
        "* Los datos reales nos dicen que se trataba de un caso donde con total certeza se sabe que se trata de la categoría 0\n",
        "* La entropía cruzada(a calcular en el ejercicio) nos indica que tan buena es la estimación del modelo, una EC de 0 es un modelo perfecto(en este caso un modelo que predice 100% de prob para la clase 0)\n",
        "\n",
        "**Nota** \n",
        "* Aun que para calcular la entropía usamos logaritmos en base 2, en ML para calcular la entropía cruzada se usa logaritmo natural ya que con este se cumple el proposito **estimar que tanto se alejan las predicciones del modelo de ML de los datos reales** y es comunmente mas rápido de calcular en la computadora.\n",
        "* Ya que estamos trabajando con vectores que representan distribuciones de probabilidad , podemos toparnos con lo que se conoce como : **sparse vectors**(vectores donde la mayoría de elementos son 0), esto puede producir problemas ya que le logaritmo de 0 no esta definido, tu solución debe tomar en cuenta esto y evitar que devuelva \"nan\""
      ]
    },
    {
      "cell_type": "code",
      "metadata": {
        "id": "E1mfe9x6axt0",
        "colab": {
          "base_uri": "https://localhost:8080/"
        },
        "outputId": "7d2044d6-8cef-46af-a0b8-966ef2e50abd"
      },
      "source": [
        "def cross_entropy(Y,Y_hat):\n",
        "    ##tu codigo aqui (~ 1 lineas de codigo)\n",
        "    return np.sum(Y * np.log(Y_hat, out=np.zeros_like(Y_hat), where=(Y_hat!=0)) * -1)\n",
        "    \n",
        "y  = np.array([1.0,0,0])\n",
        "y_hat = np.array([0.7,0.2,0.1]) # <- resultado de algun modelo predictivo\n",
        "\n",
        "cross_entropy(y,y_hat)"
      ],
      "execution_count": 103,
      "outputs": [
        {
          "output_type": "execute_result",
          "data": {
            "text/plain": [
              "0.35667494393873245"
            ]
          },
          "metadata": {},
          "execution_count": 103
        }
      ]
    },
    {
      "cell_type": "markdown",
      "metadata": {
        "id": "XTSzWXdsaxt1"
      },
      "source": [
        "\n",
        "### Magnitud de un Vector(norma o módulo)\n",
        "Ya hemos visto que en DS usamos vectores para representar información ,una propiedad importante de los vectores es la **magnitud** del vector. \n",
        "\n",
        "Matemáticamente la magnitud de un vector(también conocida como norma vectorial)  nos indica  el tamaño de este , y nos sirve para tener una noción de la distancia desde un punto de referencia(origen) hasta el punto representado por el vector.\n",
        "\n",
        "\n",
        "\n",
        "<img src=\"http://mathonline.wdfiles.com/local--files/the-norm-of-a-vector/Screen%20Shot%202014-06-12%20at%205.37.19%20PM.png\">\n",
        "\n",
        "Se puede calcular con:\n",
        "\n",
        "<img src=\"https://images.slideplayer.com/18/6074185/slides/slide_4.jpg\">\n",
        "\n",
        "En DS la interpretación de la magnitud depende del problema y significado del vector sobre el que se trabaje, ademas de ser también utilizada en calculos mas complejos,por ejemplo: **similitud por cosenos**.\n",
        "\n",
        "<img src=\"https://machinelearningflashcards.com/images/L2_Norm_print.png\">\n",
        "\n",
        "\n",
        "Algunos ejemplos:\n",
        "* En machine learning:\n",
        "    * Si almacenamos en 2 vectores los errores producidos por 2 modelos de ML , podemos usar la magnitud de estos para determinar cual de los 2 modelos es mejor.\n",
        "    * Cuando un modelo de ML \"memoriza\" en lugar de \"aprender\" decimos que sufre \"overfitting\" una forma de atacar este problema es usar \"L2 regularization\" que consiste en agregar a la \"función de costo\" un término de penalización que es calculado a partir de la magnitud de parámetros del modelo(cuadrado de la magnitud)\n",
        "    \n",
        "    <img src=\"https://cdn-images-1.medium.com/max/1600/1*JP9VzwxsRXjocb3WgVOTxA.png\">\n",
        "    * Un paso de pre-procesamiento común en ML es aplicar \"normalización\" a los datos, esto se logra(entre otras formas) dividiendo el vector de datos dentro de su magnitud de manera que tenga magnitud 1.\n",
        "    \n",
        "* En NLP(natural language processing): es común representar documentos como vectores n dimensionales, donde n es el número de palabras en cierto vocabulario, cada elemento \"i\" del vector indica cuantas veces aparece en el documento la palabra denotada por la posición \"i\" , podemos  usar la magnitud vectorial  para calcular la **similitud cosenoidal** y así estimar que tanto se  parece en contenido un documento a otro.\n",
        "<img src=\"https://www.machinelearningplus.com/wp-content/uploads/2018/10/Cosine-Similarity-Formula-1.png\">\n",
        "\n",
        "**ejercicio** : crear una función que reciba como parámetro un vector x y calcule su magnitud o norma(euclidiana o L2) ,luego usarla para evaluar 2 vectores que representan los errores generados por 2 modelos de machine learning y concluir cual de los 2 modelos es mejor."
      ]
    },
    {
      "cell_type": "code",
      "metadata": {
        "id": "TyUB8hzKaxt1"
      },
      "source": [
        "def magnitud(x):\n",
        "    ## tu codigo aqui (~ 1 linea de codigo)\n",
        "    return np.sum(np.power(x,2)) # raiz cuadrada\n",
        "\n",
        "errores_modelo1 = np.array([1,2,1,2]) #\n",
        "errores_modelo2 = np.array([0,1,1,2]) #\n",
        "\n",
        "print(magnitud(errores_modelo1))\n",
        "print(magnitud(errores_modelo2))\n",
        "\n",
        "# elegir el mejor modelo con una condicional(if)"
      ],
      "execution_count": null,
      "outputs": []
    },
    {
      "cell_type": "markdown",
      "metadata": {
        "id": "7Jc1Cbuwaxt2"
      },
      "source": [
        "**ejercicio** Usando la función del ejercicio anterior, crea otra función normalizar(x) que reciba de parámetro un vector x aplique normalización sobre este, el resultado debe ser un nuevo vector del tamaño de x cuya magnitud es igual a 1.0"
      ]
    },
    {
      "cell_type": "code",
      "metadata": {
        "id": "t8tDRkdNaxt2"
      },
      "source": [
        "def normalizar(x):\n",
        "    ## tu codigo aqui (~ 3 linea de codigo)\n",
        "    \n",
        "    \n",
        "\n",
        "print(magnitud(normalizar(errores_modelo1)))\n",
        "print(normalizar(errores_modelo2))"
      ],
      "execution_count": null,
      "outputs": []
    },
    {
      "cell_type": "markdown",
      "metadata": {
        "id": "GGDfc5t_axt4"
      },
      "source": [
        "### Producto Punto(escalar,interno,interior) y Ortogonalidad\n",
        "\n",
        "El producto punto(también conocido como producto escalar,producto interno o producto interior es una operación entre 2 vectores, cuyo resultado es un único número(escalar).\n",
        "\n",
        "Existen basicamente 2 definiciones del producto punto siendo la más conocida la sumatoria de los productos entre elementos de los vectores.\n",
        "\n",
        "Otra definición geométrica del producto punto puede ser obtenida basandonos en la magnitud de los vectores y el ángulo entre ellos.\n",
        "\n",
        "<img src = \"https://ocw.mit.edu/courses/mathematics/18-02sc-multivariable-calculus-fall-2010/1.-vectors-and-matrices/part-a-vectors-determinants-and-planes/session-2-dot-products/MIT18_02SC_L1Brds_5.png\">\n",
        "\n",
        "Por lo tanto podemos usar estas expresiones para encontrar el ángulo existente entre los 2 vectores.\n",
        "\n",
        "<img src=\"data:image/png;base64,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\">\n",
        "\n",
        "#### Interpretación \n",
        "Existen diversas interpretaciones de esta operación , algunas son :\n",
        "\n",
        "* Que tan similares son 2 vectores: esto es útil en casos donde tengamos vectores de datos y necesitemos comparar su similitud.\n",
        "* Proyectar un vector sobre otro: el producto punto es el tamaño de la proyección de un vector A sobre un vector B multiplicado por el tamaño del vector B\n",
        "<img src=\"https://raw.githubusercontent.com/llealgt/Galileo_Python_DS/main/NumPy_algebra_lineal/dot_product.png\">\n",
        "* El producto punto es parte importante de la multiplicación de matrices(tema aún por desarrollar), una de las operaciones más importantes en AI a través de deep learning.\n",
        "\n",
        "\n",
        "#### Usos y aplicaciones del producto punto\n",
        "\n",
        "El producto punto tiene diversas aplicaciones en muchas ciencias, en ciencias de datos es muy utilizado y aplicado , por ejemplo:\n",
        "\n",
        "* **En Machine Learning**:\n",
        "    * En modelos lineales como regresión lineal o regresión lógistica es común guardar en un vector los parámetros de los modelos(aveces llamado W) y cuando queremos hacer inferencia sobre ciertos datos \"x\" almacenamos los datos \"x\" en un vector X y aplicamos la operación producto punto entre X y W.\n",
        "    <img src=\"https://images.slideplayer.com/24/7356693/slides/slide_5.jpg\">\n",
        "    * Una interpretación geométrica del producto punto es que tan similares dos vectores son entre sí , las redes neuronales utilizan este principio  para definir multiples capas jerarquicas de \"caraceterísticas\"(representadas por neuronas) que buscar sobre ciertos datos de entrada X, estas  características  son definidas en vectores  por lo cual el producto punto es una medida de que tanto se parece cierto vector X a la característica que la neurona representa, un valor alto del producto punto indica alta similitud entre los datos X y la característica que la neurona \"busca\"\n",
        "    <img src=\"https://miro.medium.com/max/816/1*BMSfafFNEpqGFCNU4smPkg.png\">\n",
        "    \n",
        "\n",
        "#### Perpendicularidad \n",
        "\n",
        "Se dice que 2 vectores son perpendiculares si el producto punto entre ellos es igual a 0 ,geometricamente esto ocurre cuando los vectores se encuentran a 90 grados entre sí por lo cual en DS podemos interpretar que 2 vectores cuyo producto punto es 0, son vectores que difieren mucho por lo tanto son muy diferentes.\n",
        "\n",
        "\n",
        "<img src=\"https://chortle.ccsu.edu/VectorLessons/vch07/acuteORobtuse.gif\">\n",
        "    \n",
        "#### Producto punto en NumPy\n",
        "\n",
        "En NumPy poseemos 2 maneras de calcular el producto punto sobre vectores de igual tamaño:\n",
        "\n",
        "* np.dot:https://docs.scipy.org/doc/numpy/reference/generated/numpy.dot.html#numpy.dot\n",
        "* np.inner:https://docs.scipy.org/doc/numpy/reference/generated/numpy.inner.html\n",
        "\n",
        "**¿Por que 2 operaciones?** Estas operaciones son diferentes cuando se trabaja con Tensores de rango mayor a 1 y pueden ser \"configurables\" , para Tensores de rango=1(vectores de igual tamaño,nuestro tema actual) son equivalentes."
      ]
    },
    {
      "cell_type": "code",
      "metadata": {
        "id": "O9GZeh16axt5",
        "colab": {
          "base_uri": "https://localhost:8080/",
          "height": 286
        },
        "outputId": "86fd4206-fb4a-45bb-d279-b080c497a3a2"
      },
      "source": [
        "import matplotlib.pyplot as plt\n",
        "\n",
        "a = np.array([10,0]) #usuario1\n",
        "b = np.array([10,0]) #usuario2\n",
        "\n",
        "plt.arrow(0,0,a[0],a[1],head_width=0.1,head_length=0.1)\n",
        "plt.arrow(0,0,b[0],b[1],head_width=0.1,head_length=0.1)\n",
        "plt.xlim(-15,15)\n",
        "plt.ylim(-20,20)\n",
        "plt.show()\n",
        "\n",
        "print(np.dot(a,b))"
      ],
      "execution_count": null,
      "outputs": [
        {
          "output_type": "display_data",
          "data": {
            "image/png": "[encoded data removed]",
            "text/plain": [
              "<Figure size 432x288 with 1 Axes>"
            ]
          },
          "metadata": {
            "needs_background": "light"
          }
        },
        {
          "output_type": "stream",
          "name": "stdout",
          "text": [
            "100\n"
          ]
        }
      ]
    },
    {
      "cell_type": "code",
      "metadata": {
        "id": "qPcjCo_1axt6"
      },
      "source": [
        "f = np.array([0.1,0.2,0.3])\n",
        "g = np.array([1,2,3])\n",
        "\n",
        "print(f.dot(g))\n",
        "print(np.dot(f,g))\n",
        "\n",
        "#print(g.inner(f)) # operacion no existente en NumPy\n",
        "print(np.inner(g,f))"
      ],
      "execution_count": null,
      "outputs": []
    },
    {
      "cell_type": "markdown",
      "metadata": {
        "id": "W4MmQnBDaxt6"
      },
      "source": [
        "**Ejercicio aplicado en DS**\n",
        "Se tiene una red neuronal sencilla(y simplificada) como la de la siguiente imagen:\n",
        "<img src=\"https://www.oreilly.com/library/view/practical-convolutional-neural/9781788392303/assets/246151fb-7893-448d-b9bb-7a87b387a24b.png\">\n",
        "\n",
        "Donde:\n",
        "* INPUT LAYER: un vector X de tamaño = 2 que representa los datos de entrada\n",
        "* HIDDEN_LAYER :capa oculta con 2 neuronas definidas por los vectores:\n",
        "    * HL1 = [0.25,0.37]\n",
        "    * HL2 = [-8,14]\n",
        "* OUTPUT_LAYER = capa de salida definida por el vector [4,9]\n",
        "\n",
        "Crear una funcion neural_network(X) para calcular:\n",
        "* Calcule la salida de cada neurona en la capa intermedia aplicada a la capa de entrada.\n",
        "* Use el resultado del paso anterior como entrada para la neurona en la capa de salida\n",
        "\n",
        "Asumiendo que cada neurona identifica la similitud entre su entrada y la caracteística que representa concluir:\n",
        "* Para cada vector de entrada Xi , cual neurona intermedia busca la característica que mas se parece a X.\n",
        "* Cual vector de entrada Xi produce una activación alta(salida alta) en la capa de salida."
      ]
    },
    {
      "cell_type": "code",
      "metadata": {
        "id": "L0ri-Ex4axt7"
      },
      "source": [
        "# Aplicar la red neuronal sobre los siguientes datos X\n",
        "\n",
        "X1 = np.array([0.50,0.72])\n",
        "X2 = np.array([-4,7])\n",
        "X3 = np.zeros_like(X2)\n",
        "x4 = np.ones_like(X1)\n",
        "X5 = np.random.randn(X1.shape[0])\n"
      ],
      "execution_count": null,
      "outputs": []
    },
    {
      "cell_type": "markdown",
      "metadata": {
        "id": "ChG4H50qaxt8"
      },
      "source": [
        "**Ejercicio aplicado en DS**: la correlación cruzada es una medida de similitud entre 2 funciones como resultado de \"desplazar\" una sobre la otra, comunmente es usada para encontrar características relevantes en una función desconocida o no controlada.\n",
        "\n",
        "En procesamiento de señales por ejemplo es usada para buscar y/o filtrar en una señal que varia en el tiempo cierta caracaterística de interés. Aveces es llamada también \"sliding dot product\" consiste en aplicar en cada punto de una función F el producto punto con cierta función G(comunmente mas corta) y luego \"deslizar\" G a un nuevo punto de la función, el resultado es una nueva función H que se interpreta como :**cuanto se parece** en cada punto la función F a la característica G. \n",
        "\n",
        "<img src=\"https://i.makeagif.com/media/11-25-2015/LZ9Ufj.gif\">\n",
        "\n",
        "En este ejercicio usamos correlación cruzada para calcular las medias moviles promediando 3 puntos que ya vimos en otro ejemplo:\n",
        "\n",
        "El primer paso es definir la función G que define el \"filtro\" a aplicar, para este caso consiste simplemente en un vector con 3 elementos donde cada elemento corresponde a 1/3, luego debemos aplicar el producto punto sobre cada punto de la función o datos originales(en este ejemplo llamados x) a traves aplicar el producto punto en cada elemento \"corriendolo\" de uno en uno"
      ]
    },
    {
      "cell_type": "code",
      "metadata": {
        "id": "SprJgc3-axt8"
      },
      "source": [
        "ruido = 0.1*np.random.randn(15) #el ruido comunmente se debe a aleatoriedad o captura no exacta de info.\n",
        "x = np.linspace(0,2*np.pi,15) \n",
        "y = np.sin(x) + ruido\n",
        "\n",
        "filtro = np.array([1/3,1/3,1/3]) #para lograr las medias moviles a traves de correlacion cruzada\n",
        "\n",
        "## tu codigo aqui (~ 3 linea de codigo)\n",
        "\n",
        "    \n",
        "\n"
      ],
      "execution_count": null,
      "outputs": []
    },
    {
      "cell_type": "markdown",
      "metadata": {
        "id": "uFI8KNdLaxt9"
      },
      "source": [
        "### Constantes Numéricas importantes\n",
        "\n",
        "Tal como NumPy provee funciones matemáticas comunes como logaritmos y funciones trigonométricas ,también posee constantes usadas comunmente en problemas numéricos , por ejemplo:\n",
        "\n",
        "* **np.e** : constante de Euler, base de logaritmos naturales 2.71828...\n",
        "* **np.pi** :el conocido número pi 3.1415.....\n",
        "* **np.euler_gamma**: constante utilizada  por ejemplo en transformadas de Laplace , 0.5772....\n",
        "\n",
        "Además de algunas constantes útiles en Python para indicar por ejemplo: infinito positivo, negativo o si el resultado de una operación no es un número definido.\n",
        "\n",
        "* **np.inf**: infinito positivo\n",
        "* **np.NINF** :infinito negativo\n",
        "* **np.nan**: not a number\n",
        "\n",
        "\n",
        "https://docs.scipy.org/doc/numpy-1.15.0/reference/constants.html"
      ]
    },
    {
      "cell_type": "code",
      "metadata": {
        "id": "V5QnPDokaxt9"
      },
      "source": [
        "import numpy as np\n",
        "print(np.e)\n",
        "print(np.pi)\n",
        "print(np.euler_gamma)\n",
        "\n",
        "print(np.inf)\n",
        "print(np.NINF)\n",
        "print(np.nan)"
      ],
      "execution_count": null,
      "outputs": []
    },
    {
      "cell_type": "markdown",
      "metadata": {
        "id": "L0xkpg2paxt-"
      },
      "source": [
        "inf,NINF, y nan  se obtienen muchas veces al aplicar una operación matemática sobre cierto valor, por ejemplo logaritmos de números negativos es algo no definido por lo cual resulta en nan, o una división por 0 resulta en infinito.\n"
      ]
    },
    {
      "cell_type": "code",
      "metadata": {
        "id": "rBzHacgyaxt-"
      },
      "source": [
        "x = np.array([-5.3,-1,0,1,1.5,10,100])\n",
        "\n",
        "print(np.log(x))"
      ],
      "execution_count": null,
      "outputs": []
    },
    {
      "cell_type": "code",
      "metadata": {
        "id": "rzsJ4y8-axt_"
      },
      "source": [
        "numerador = np.array([5,4,9])\n",
        "divisor = np.array([5,0,8])\n",
        "\n",
        "numerador/divisor"
      ],
      "execution_count": null,
      "outputs": []
    },
    {
      "cell_type": "code",
      "metadata": {
        "id": "5Byun3IaaxuA"
      },
      "source": [
        "x  = np.array([0.1,0.2,5,-2, 7])\n",
        "\n",
        "print(np.sqrt(x))"
      ],
      "execution_count": null,
      "outputs": []
    },
    {
      "cell_type": "code",
      "metadata": {
        "id": "yvoXWU0SaxuC"
      },
      "source": [
        "np.inf <= 50"
      ],
      "execution_count": null,
      "outputs": []
    },
    {
      "cell_type": "code",
      "metadata": {
        "id": "ss21rYpfaxuD"
      },
      "source": [
        "np.inf >= 1000000"
      ],
      "execution_count": null,
      "outputs": []
    },
    {
      "cell_type": "code",
      "metadata": {
        "id": "2_RHeDnxaxuD"
      },
      "source": [
        "np.NINF < 0"
      ],
      "execution_count": null,
      "outputs": []
    },
    {
      "cell_type": "code",
      "metadata": {
        "id": "ubJMe2LUaxuE"
      },
      "source": [
        "-1*np.inf == np.NINF"
      ],
      "execution_count": null,
      "outputs": []
    },
    {
      "cell_type": "code",
      "metadata": {
        "id": "29zmNrZWaxuF"
      },
      "source": [
        "np.inf - 1"
      ],
      "execution_count": null,
      "outputs": []
    },
    {
      "cell_type": "code",
      "metadata": {
        "id": "1157khHXaxuH"
      },
      "source": [
        "np.inf/np.NINF"
      ],
      "execution_count": null,
      "outputs": []
    },
    {
      "cell_type": "code",
      "metadata": {
        "id": "2GrufXV3AUQt"
      },
      "source": [
        ""
      ],
      "execution_count": null,
      "outputs": []
    },
    {
      "cell_type": "markdown",
      "metadata": {
        "id": "80bTM6XbaxuJ"
      },
      "source": [
        "### Operadores lógicos en vectores\n",
        "\n",
        "Que pasa si necesitamos aplicar condiciones y validaciones al trabajar con vectores?\n",
        "\n",
        "Por ejemplo:\n",
        "$$h(x) = \\begin{cases}0 & x< 0\\\\1 & 0<=x <=1\\\\0 & x> 1\\end{cases}$$\n",
        "\n",
        "El siguiente código que refleja esta función da error.\n",
        "\n"
      ]
    },
    {
      "cell_type": "code",
      "metadata": {
        "id": "Bgo-PeXeaxuK"
      },
      "source": [
        "def h(x):\n",
        "    if x < 0:\n",
        "        return 0.0\n",
        "    elif 0 <= x <= 1:\n",
        "        return 1.0\n",
        "    else:\n",
        "        return 0.0\n",
        "    \n",
        "x = np.array([-1,0.1,10])\n",
        "\n",
        "#h(x)"
      ],
      "execution_count": null,
      "outputs": []
    },
    {
      "cell_type": "markdown",
      "metadata": {
        "id": "KZMQtzgcaxuK"
      },
      "source": [
        "Para resolver el problema anterior(entre otras cosas) NumPy provee el uso de operadores lógicos sobre tensores , estos se aplican \"elemento por elemento\" gracias al broadcasting, el resultado de estos es valores booleanos True o False para cada valor.\n",
        "\n",
        "Nuevamente **es importante hacer uso del broadcasting y no hacerlo con ciclos**"
      ]
    },
    {
      "cell_type": "code",
      "metadata": {
        "id": "uf03oDI_axuL"
      },
      "source": [
        "x = np.linspace(-2,2,9)\n",
        "\n",
        "y = x < 0\n",
        "\n",
        "print(x,y)\n",
        "print(len(x),len(y))"
      ],
      "execution_count": null,
      "outputs": []
    },
    {
      "cell_type": "markdown",
      "metadata": {
        "id": "kDBjb0iVaxuM"
      },
      "source": [
        "### Usando vectores booleanos para acceder elementos en otros vectores\n",
        "\n",
        "NumPy nos permite acceder vectores con otros vectores de tipo booleano,el resultado de esto es obtener de cierto vector solo los elementos cuya posición corresponde a un valor True en el vector booleano,\n",
        "con la sintáxis que usabamos para hacer indexing, pero usando un vector booleano como índice\n",
        "por ejemplo para el caso anterior:"
      ]
    },
    {
      "cell_type": "code",
      "metadata": {
        "id": "hUvoXDqFEm9F"
      },
      "source": [
        "print(x,y)"
      ],
      "execution_count": null,
      "outputs": []
    },
    {
      "cell_type": "code",
      "metadata": {
        "id": "mqiThNeHGQ3z"
      },
      "source": [
        "x[y]"
      ],
      "execution_count": null,
      "outputs": []
    },
    {
      "cell_type": "code",
      "metadata": {
        "id": "32xi0gZOaxuM"
      },
      "source": [
        "x[np.logical_not(y)]"
      ],
      "execution_count": null,
      "outputs": []
    },
    {
      "cell_type": "code",
      "metadata": {
        "id": "l4dTWbkVaxuN"
      },
      "source": [
        "x"
      ],
      "execution_count": null,
      "outputs": []
    },
    {
      "cell_type": "markdown",
      "metadata": {
        "id": "UXaDmGO_axuN"
      },
      "source": [
        "En este caso \"y\" es redundante y se pudo hacer:"
      ]
    },
    {
      "cell_type": "code",
      "metadata": {
        "id": "95J2dJeNaxuO"
      },
      "source": [
        "x[x<0]"
      ],
      "execution_count": null,
      "outputs": []
    },
    {
      "cell_type": "markdown",
      "metadata": {
        "id": "koxrhNtXaxuP"
      },
      "source": [
        "Explicación: el aplicar x < 0 generó un vector que tiene los primeros 4 elementos como True , si usamos este vector booleano como indice del vector original x entonces obtenemos solo los elementos de x que estan asociados a elementos True en el vector booleano de indice, en este caso solo los primeros 4."
      ]
    },
    {
      "cell_type": "markdown",
      "metadata": {
        "id": "bh2gGHN5axuP"
      },
      "source": [
        "**Ejercicio** dado el vector x, usar operadores lógicos sobre vectores y acceso a  elementos usando vectores booleanos , escribir un programa que calcule eun nuevo vector z conteniendo el valor absoluto de el vector x.\n",
        "\n",
        "**nota** No se puede usar np.abs() ni ciclos\n",
        "\n",
        "**tip** usar un vector booleano para saber que elementos son negativos y deben ser multiplicados por -1"
      ]
    },
    {
      "cell_type": "code",
      "metadata": {
        "id": "_dDKWFiGaxuQ"
      },
      "source": [
        "x = np.linspace(-2,2,9)\n",
        "\n",
        "\n",
        "## tu codigo aqui (~ 4 linea de codigo)\n",
        "### ver cuales elementos son negativos <- vector booleanos\n",
        "### multiplicar esos elementos por -1\n",
        "### usando el vector del rpimer paso remplazar los que eran negativos por su valor calculado en paso 2\n",
        "\n"
      ],
      "execution_count": null,
      "outputs": []
    },
    {
      "cell_type": "markdown",
      "metadata": {
        "id": "Vs8b8-MSaxuQ"
      },
      "source": [
        "**ejercicio** Implementar la función:\n",
        "$$h(x) = \\begin{cases}0 & x< 0\\\\1 & 0<=x <=1\\\\0 & x> 1\\end{cases}$$\n",
        "\n",
        "Esta debe funcionar para vectores de cualquier tamaño x:\n",
        "\n",
        "def h(x):\n",
        "\n",
        "    ...\n",
        "\n",
        "**nota** debe ser implementada sin ciclos o ifs "
      ]
    },
    {
      "cell_type": "code",
      "metadata": {
        "id": "5owYOClVaxuR"
      },
      "source": [
        "def h(x):\n",
        "    ## tu codigo aqui (~ 3 linea de codigo)\n",
        "    \n",
        "\n",
        "    ##\n",
        "    return h\n",
        "\n",
        "x = np.array([0.1,-2,0.5,5])\n",
        "print(h(x))"
      ],
      "execution_count": null,
      "outputs": []
    },
    {
      "cell_type": "markdown",
      "metadata": {
        "id": "D6JxNhOBaxuR"
      },
      "source": [
        "Para casos donde se requiere comportamiento parecido a este pero con mas condiciones, NumPy provee la función **np.select** , la descripción de esta función casi siempre es mas complicada de lo que debería y dificulta entenderla, vamos a buscar entenderla bajo un ejemplo.\n",
        "\n",
        "Básicamente select se basa en :\n",
        "* una lista de condiciones A\n",
        "* una lista de valores a tomar según estas condiciones B\n",
        "* un valor de  resultado default cuando ninguna de las condiciones en la  lista se cumple.\n",
        "Estas 2 listas deben ser del mismo tamañaño."
      ]
    },
    {
      "cell_type": "code",
      "metadata": {
        "id": "i0tymEaCaxuR"
      },
      "source": [
        "x = np.arange(10)\n",
        "condiciones = [x<3 , x>5] #lista A \n",
        "resultados =  [x,    x**2] #lista B\n",
        "\n",
        "print(x)\n",
        "#los valores de x que no satisfacen ningúna condicion obtendran 0 como resultado(este es el valor default)\n",
        "np.select(condiciones,resultados) "
      ],
      "execution_count": null,
      "outputs": []
    },
    {
      "cell_type": "code",
      "metadata": {
        "id": "yOlyNLKcaxuS"
      },
      "source": [
        "np.select(condiciones,resultados,-1) #podemos agregar un tercer parámetro para el valor default "
      ],
      "execution_count": null,
      "outputs": []
    },
    {
      "cell_type": "code",
      "metadata": {
        "id": "3OYZuzkMIvB3"
      },
      "source": [
        "condiciones = [x<3]\n",
        "resultados = [2]\n",
        "\n",
        "np.select(condiciones,resultados)"
      ],
      "execution_count": null,
      "outputs": []
    },
    {
      "cell_type": "markdown",
      "metadata": {
        "id": "H_z8MsvIaxuT"
      },
      "source": [
        "Otro ejemplo"
      ]
    },
    {
      "cell_type": "code",
      "metadata": {
        "id": "O_Oc9XXKaxuT"
      },
      "source": [
        "x = np.linspace(1,10,10)\n",
        "condiciones = [x<4,x>=7]\n",
        "resultados =  [x ,  x**2]\n",
        "k = np.select(condiciones,resultados,-1)\n",
        "\n",
        "print(x)\n",
        "print(k)"
      ],
      "execution_count": null,
      "outputs": []
    },
    {
      "cell_type": "markdown",
      "metadata": {
        "id": "yhrWu8q0axuU"
      },
      "source": [
        "**Ejercicio**\n",
        "\n",
        "Usando select implementar una función k(x) con la siguiente definición:\n",
        "$$k(x) = \\begin{cases}-x & x< 0\\\\x^{3}  &0<=x<1\\\\x^{2}  &1<=x<2\\\\4  &otherwise\\end{cases}$$\n",
        "\n"
      ]
    },
    {
      "cell_type": "markdown",
      "metadata": {
        "id": "oO-8WZXCaxuV"
      },
      "source": [
        "##### Select y performance\n",
        "Aun que select es muy conveniente y útil , no es la opción mas eficiente esto debido a que evalua todas las condiciones y todos los resultados, en programación en general buscamos escribir los programas de la manera mas eficiente posible y evitar calculos innecesarios, esto se vuelve vital en ciencia de datos cuando procesamos grandes volúmenes de información, por eso NumPy nos provee la alternativa a select llamada **piecewise** que funciona de manera similar .\n",
        "\n",
        "\n",
        "Este funciona similar a select pero en vez de calcular todos los posibles resultados, calcula solo aquellos para los que la condición es True e ignora los False,sintácticamente piecewise requiere que los \"resultados\" sesan calcuados usando una lista de funciones por lo cual todos los resultados deben estar contenidos en una función  y el objeto función ser enviado a piecewise (si la función solo se utiliza una vez para este propósito, se puede usar funciones anónimas o lambda).\n",
        "\n",
        "**Ejercicio** \n",
        "Investigar piecewise y:\n",
        "*  Usarlo para implementar la función anterior de manera eficiente\n",
        "*  Usar piscewise para implementar la función:\n",
        "\n",
        "$$m(x) = \\begin{cases}e^{2x} & x< 0\\\\1  &0<=x<1\\\\e^{1-x}  &x>=1\\\\\\end{cases}$$\n",
        "\n",
        "Nuevamente, sin utilizar ciclos ni ifs"
      ]
    },
    {
      "cell_type": "markdown",
      "metadata": {
        "id": "AZnrBQW6axuV"
      },
      "source": [
        "#### Investigar\n",
        "\n",
        "* Proyección vectorial\n",
        "    * Definir una función para calculo en numpy\n",
        "    * interpretación\n",
        "    * aplicación o caso de uso en DS u otras ciencias de tu interés: solo se necesita nombrar el caso de uso, no desarrollarlo o programarlo, tip: Hay un algoritmo de ML cuyo nombre puede ser  útil.\n",
        "* Producto cruz\n",
        "    * calculo en numpy\n",
        "    * interpretación\n",
        "    * aplicación o caso de uso en DS u otras ciencias de tu interés: solo se necesita nombrar el caso de uso, no desarrollarlo o programarlo\n",
        "    \n",
        "#### Referencias\n",
        "\n",
        "* https://www.oreilly.com/library/view/data-science-from/9781491901410/ch04.html\n",
        "* https://towardsdatascience.com/linear-algebra-cheat-sheet-for-deep-learning-cd67aba4526c\n",
        "* https://www.analyticsvidhya.com/blog/2017/05/comprehensive-guide-to-linear-algebra/\n",
        "* https://towardsdatascience.com/boost-your-data-sciences-skills-learn-linear-algebra-2c30fdd008cf\n",
        "* https://machinelearningmastery.com/examples-of-linear-algebra-in-machine-learning/\n",
        "* https://www.youtube.com/playlist?list=PLZHQObOWTQDPD3MizzM2xVFitgF8hE_ab"
      ]
    },
    {
      "cell_type": "code",
      "metadata": {
        "id": "WOvGrxveKtkk"
      },
      "source": [
        "import numpy as np\n",
        "\n",
        "np.random.randn(3)"
      ],
      "execution_count": null,
      "outputs": []
    },
    {
      "cell_type": "code",
      "metadata": {
        "id": "Jx5HVYx7-Ru0"
      },
      "source": [
        ""
      ],
      "execution_count": null,
      "outputs": []
    }
  ]
}